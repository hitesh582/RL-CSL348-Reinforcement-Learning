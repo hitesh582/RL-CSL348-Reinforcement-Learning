{
  "cells": [
    {
      "cell_type": "markdown",
      "metadata": {
        "id": "view-in-github",
        "colab_type": "text"
      },
      "source": [
        "<a href=\"https://colab.research.google.com/github/hitesh582/RL-CSL348-Reinforcement-Learning/blob/main/manavlawmitradataintocsv.ipynb\" target=\"_parent\"><img src=\"https://colab.research.google.com/assets/colab-badge.svg\" alt=\"Open In Colab\"/></a>"
      ]
    },
    {
      "cell_type": "code",
      "execution_count": null,
      "metadata": {
        "colab": {
          "base_uri": "https://localhost:8080/"
        },
        "id": "NbmbHMobi9HG",
        "outputId": "500e1449-7df5-4767-bc24-c7fd1dab65c2"
      },
      "outputs": [
        {
          "output_type": "stream",
          "name": "stdout",
          "text": [
            "Collecting pdf2image\n",
            "  Downloading pdf2image-1.17.0-py3-none-any.whl.metadata (6.2 kB)\n",
            "Collecting pytesseract\n",
            "  Downloading pytesseract-0.3.13-py3-none-any.whl.metadata (11 kB)\n",
            "Requirement already satisfied: torch in /usr/local/lib/python3.10/dist-packages (2.5.0+cu121)\n",
            "Requirement already satisfied: transformers in /usr/local/lib/python3.10/dist-packages (4.46.2)\n",
            "Requirement already satisfied: pandas in /usr/local/lib/python3.10/dist-packages (2.2.2)\n",
            "Requirement already satisfied: spacy in /usr/local/lib/python3.10/dist-packages (3.7.5)\n",
            "Requirement already satisfied: tqdm in /usr/local/lib/python3.10/dist-packages (4.66.6)\n",
            "Requirement already satisfied: ipywidgets in /usr/local/lib/python3.10/dist-packages (7.7.1)\n",
            "Requirement already satisfied: pillow in /usr/local/lib/python3.10/dist-packages (from pdf2image) (11.0.0)\n",
            "Requirement already satisfied: packaging>=21.3 in /usr/local/lib/python3.10/dist-packages (from pytesseract) (24.2)\n",
            "Requirement already satisfied: filelock in /usr/local/lib/python3.10/dist-packages (from torch) (3.16.1)\n",
            "Requirement already satisfied: typing-extensions>=4.8.0 in /usr/local/lib/python3.10/dist-packages (from torch) (4.12.2)\n",
            "Requirement already satisfied: networkx in /usr/local/lib/python3.10/dist-packages (from torch) (3.4.2)\n",
            "Requirement already satisfied: jinja2 in /usr/local/lib/python3.10/dist-packages (from torch) (3.1.4)\n",
            "Requirement already satisfied: fsspec in /usr/local/lib/python3.10/dist-packages (from torch) (2024.10.0)\n",
            "Requirement already satisfied: sympy==1.13.1 in /usr/local/lib/python3.10/dist-packages (from torch) (1.13.1)\n",
            "Requirement already satisfied: mpmath<1.4,>=1.1.0 in /usr/local/lib/python3.10/dist-packages (from sympy==1.13.1->torch) (1.3.0)\n",
            "Requirement already satisfied: huggingface-hub<1.0,>=0.23.2 in /usr/local/lib/python3.10/dist-packages (from transformers) (0.26.2)\n",
            "Requirement already satisfied: numpy>=1.17 in /usr/local/lib/python3.10/dist-packages (from transformers) (1.26.4)\n",
            "Requirement already satisfied: pyyaml>=5.1 in /usr/local/lib/python3.10/dist-packages (from transformers) (6.0.2)\n",
            "Requirement already satisfied: regex!=2019.12.17 in /usr/local/lib/python3.10/dist-packages (from transformers) (2024.9.11)\n",
            "Requirement already satisfied: requests in /usr/local/lib/python3.10/dist-packages (from transformers) (2.32.3)\n",
            "Requirement already satisfied: safetensors>=0.4.1 in /usr/local/lib/python3.10/dist-packages (from transformers) (0.4.5)\n",
            "Requirement already satisfied: tokenizers<0.21,>=0.20 in /usr/local/lib/python3.10/dist-packages (from transformers) (0.20.3)\n",
            "Requirement already satisfied: python-dateutil>=2.8.2 in /usr/local/lib/python3.10/dist-packages (from pandas) (2.8.2)\n",
            "Requirement already satisfied: pytz>=2020.1 in /usr/local/lib/python3.10/dist-packages (from pandas) (2024.2)\n",
            "Requirement already satisfied: tzdata>=2022.7 in /usr/local/lib/python3.10/dist-packages (from pandas) (2024.2)\n",
            "Requirement already satisfied: spacy-legacy<3.1.0,>=3.0.11 in /usr/local/lib/python3.10/dist-packages (from spacy) (3.0.12)\n",
            "Requirement already satisfied: spacy-loggers<2.0.0,>=1.0.0 in /usr/local/lib/python3.10/dist-packages (from spacy) (1.0.5)\n",
            "Requirement already satisfied: murmurhash<1.1.0,>=0.28.0 in /usr/local/lib/python3.10/dist-packages (from spacy) (1.0.10)\n",
            "Requirement already satisfied: cymem<2.1.0,>=2.0.2 in /usr/local/lib/python3.10/dist-packages (from spacy) (2.0.8)\n",
            "Requirement already satisfied: preshed<3.1.0,>=3.0.2 in /usr/local/lib/python3.10/dist-packages (from spacy) (3.0.9)\n",
            "Requirement already satisfied: thinc<8.3.0,>=8.2.2 in /usr/local/lib/python3.10/dist-packages (from spacy) (8.2.5)\n",
            "Requirement already satisfied: wasabi<1.2.0,>=0.9.1 in /usr/local/lib/python3.10/dist-packages (from spacy) (1.1.3)\n",
            "Requirement already satisfied: srsly<3.0.0,>=2.4.3 in /usr/local/lib/python3.10/dist-packages (from spacy) (2.4.8)\n",
            "Requirement already satisfied: catalogue<2.1.0,>=2.0.6 in /usr/local/lib/python3.10/dist-packages (from spacy) (2.0.10)\n",
            "Requirement already satisfied: weasel<0.5.0,>=0.1.0 in /usr/local/lib/python3.10/dist-packages (from spacy) (0.4.1)\n",
            "Requirement already satisfied: typer<1.0.0,>=0.3.0 in /usr/local/lib/python3.10/dist-packages (from spacy) (0.13.0)\n",
            "Requirement already satisfied: pydantic!=1.8,!=1.8.1,<3.0.0,>=1.7.4 in /usr/local/lib/python3.10/dist-packages (from spacy) (2.9.2)\n",
            "Requirement already satisfied: setuptools in /usr/local/lib/python3.10/dist-packages (from spacy) (75.1.0)\n",
            "Requirement already satisfied: langcodes<4.0.0,>=3.2.0 in /usr/local/lib/python3.10/dist-packages (from spacy) (3.4.1)\n",
            "Requirement already satisfied: ipykernel>=4.5.1 in /usr/local/lib/python3.10/dist-packages (from ipywidgets) (5.5.6)\n",
            "Requirement already satisfied: ipython-genutils~=0.2.0 in /usr/local/lib/python3.10/dist-packages (from ipywidgets) (0.2.0)\n",
            "Requirement already satisfied: traitlets>=4.3.1 in /usr/local/lib/python3.10/dist-packages (from ipywidgets) (5.7.1)\n",
            "Requirement already satisfied: widgetsnbextension~=3.6.0 in /usr/local/lib/python3.10/dist-packages (from ipywidgets) (3.6.10)\n",
            "Requirement already satisfied: ipython>=4.0.0 in /usr/local/lib/python3.10/dist-packages (from ipywidgets) (7.34.0)\n",
            "Requirement already satisfied: jupyterlab-widgets>=1.0.0 in /usr/local/lib/python3.10/dist-packages (from ipywidgets) (3.0.13)\n",
            "Requirement already satisfied: jupyter-client in /usr/local/lib/python3.10/dist-packages (from ipykernel>=4.5.1->ipywidgets) (6.1.12)\n",
            "Requirement already satisfied: tornado>=4.2 in /usr/local/lib/python3.10/dist-packages (from ipykernel>=4.5.1->ipywidgets) (6.3.3)\n",
            "Collecting jedi>=0.16 (from ipython>=4.0.0->ipywidgets)\n",
            "  Downloading jedi-0.19.2-py2.py3-none-any.whl.metadata (22 kB)\n",
            "Requirement already satisfied: decorator in /usr/local/lib/python3.10/dist-packages (from ipython>=4.0.0->ipywidgets) (4.4.2)\n",
            "Requirement already satisfied: pickleshare in /usr/local/lib/python3.10/dist-packages (from ipython>=4.0.0->ipywidgets) (0.7.5)\n",
            "Requirement already satisfied: prompt-toolkit!=3.0.0,!=3.0.1,<3.1.0,>=2.0.0 in /usr/local/lib/python3.10/dist-packages (from ipython>=4.0.0->ipywidgets) (3.0.48)\n",
            "Requirement already satisfied: pygments in /usr/local/lib/python3.10/dist-packages (from ipython>=4.0.0->ipywidgets) (2.18.0)\n",
            "Requirement already satisfied: backcall in /usr/local/lib/python3.10/dist-packages (from ipython>=4.0.0->ipywidgets) (0.2.0)\n",
            "Requirement already satisfied: matplotlib-inline in /usr/local/lib/python3.10/dist-packages (from ipython>=4.0.0->ipywidgets) (0.1.7)\n",
            "Requirement already satisfied: pexpect>4.3 in /usr/local/lib/python3.10/dist-packages (from ipython>=4.0.0->ipywidgets) (4.9.0)\n",
            "Requirement already satisfied: language-data>=1.2 in /usr/local/lib/python3.10/dist-packages (from langcodes<4.0.0,>=3.2.0->spacy) (1.2.0)\n",
            "Requirement already satisfied: annotated-types>=0.6.0 in /usr/local/lib/python3.10/dist-packages (from pydantic!=1.8,!=1.8.1,<3.0.0,>=1.7.4->spacy) (0.7.0)\n",
            "Requirement already satisfied: pydantic-core==2.23.4 in /usr/local/lib/python3.10/dist-packages (from pydantic!=1.8,!=1.8.1,<3.0.0,>=1.7.4->spacy) (2.23.4)\n",
            "Requirement already satisfied: six>=1.5 in /usr/local/lib/python3.10/dist-packages (from python-dateutil>=2.8.2->pandas) (1.16.0)\n",
            "Requirement already satisfied: charset-normalizer<4,>=2 in /usr/local/lib/python3.10/dist-packages (from requests->transformers) (3.4.0)\n",
            "Requirement already satisfied: idna<4,>=2.5 in /usr/local/lib/python3.10/dist-packages (from requests->transformers) (3.10)\n",
            "Requirement already satisfied: urllib3<3,>=1.21.1 in /usr/local/lib/python3.10/dist-packages (from requests->transformers) (2.2.3)\n",
            "Requirement already satisfied: certifi>=2017.4.17 in /usr/local/lib/python3.10/dist-packages (from requests->transformers) (2024.8.30)\n",
            "Requirement already satisfied: blis<0.8.0,>=0.7.8 in /usr/local/lib/python3.10/dist-packages (from thinc<8.3.0,>=8.2.2->spacy) (0.7.11)\n",
            "Requirement already satisfied: confection<1.0.0,>=0.0.1 in /usr/local/lib/python3.10/dist-packages (from thinc<8.3.0,>=8.2.2->spacy) (0.1.5)\n",
            "Requirement already satisfied: click>=8.0.0 in /usr/local/lib/python3.10/dist-packages (from typer<1.0.0,>=0.3.0->spacy) (8.1.7)\n",
            "Requirement already satisfied: shellingham>=1.3.0 in /usr/local/lib/python3.10/dist-packages (from typer<1.0.0,>=0.3.0->spacy) (1.5.4)\n",
            "Requirement already satisfied: rich>=10.11.0 in /usr/local/lib/python3.10/dist-packages (from typer<1.0.0,>=0.3.0->spacy) (13.9.4)\n",
            "Requirement already satisfied: cloudpathlib<1.0.0,>=0.7.0 in /usr/local/lib/python3.10/dist-packages (from weasel<0.5.0,>=0.1.0->spacy) (0.20.0)\n",
            "Requirement already satisfied: smart-open<8.0.0,>=5.2.1 in /usr/local/lib/python3.10/dist-packages (from weasel<0.5.0,>=0.1.0->spacy) (7.0.5)\n",
            "Requirement already satisfied: notebook>=4.4.1 in /usr/local/lib/python3.10/dist-packages (from widgetsnbextension~=3.6.0->ipywidgets) (6.5.5)\n",
            "Requirement already satisfied: MarkupSafe>=2.0 in /usr/local/lib/python3.10/dist-packages (from jinja2->torch) (3.0.2)\n",
            "Requirement already satisfied: parso<0.9.0,>=0.8.4 in /usr/local/lib/python3.10/dist-packages (from jedi>=0.16->ipython>=4.0.0->ipywidgets) (0.8.4)\n",
            "Requirement already satisfied: marisa-trie>=0.7.7 in /usr/local/lib/python3.10/dist-packages (from language-data>=1.2->langcodes<4.0.0,>=3.2.0->spacy) (1.2.1)\n",
            "Requirement already satisfied: pyzmq<25,>=17 in /usr/local/lib/python3.10/dist-packages (from notebook>=4.4.1->widgetsnbextension~=3.6.0->ipywidgets) (24.0.1)\n",
            "Requirement already satisfied: argon2-cffi in /usr/local/lib/python3.10/dist-packages (from notebook>=4.4.1->widgetsnbextension~=3.6.0->ipywidgets) (23.1.0)\n",
            "Requirement already satisfied: jupyter-core>=4.6.1 in /usr/local/lib/python3.10/dist-packages (from notebook>=4.4.1->widgetsnbextension~=3.6.0->ipywidgets) (5.7.2)\n",
            "Requirement already satisfied: nbformat in /usr/local/lib/python3.10/dist-packages (from notebook>=4.4.1->widgetsnbextension~=3.6.0->ipywidgets) (5.10.4)\n",
            "Requirement already satisfied: nbconvert>=5 in /usr/local/lib/python3.10/dist-packages (from notebook>=4.4.1->widgetsnbextension~=3.6.0->ipywidgets) (7.16.4)\n",
            "Requirement already satisfied: nest-asyncio>=1.5 in /usr/local/lib/python3.10/dist-packages (from notebook>=4.4.1->widgetsnbextension~=3.6.0->ipywidgets) (1.6.0)\n",
            "Requirement already satisfied: Send2Trash>=1.8.0 in /usr/local/lib/python3.10/dist-packages (from notebook>=4.4.1->widgetsnbextension~=3.6.0->ipywidgets) (1.8.3)\n",
            "Requirement already satisfied: terminado>=0.8.3 in /usr/local/lib/python3.10/dist-packages (from notebook>=4.4.1->widgetsnbextension~=3.6.0->ipywidgets) (0.18.1)\n",
            "Requirement already satisfied: prometheus-client in /usr/local/lib/python3.10/dist-packages (from notebook>=4.4.1->widgetsnbextension~=3.6.0->ipywidgets) (0.21.0)\n",
            "Requirement already satisfied: nbclassic>=0.4.7 in /usr/local/lib/python3.10/dist-packages (from notebook>=4.4.1->widgetsnbextension~=3.6.0->ipywidgets) (1.1.0)\n",
            "Requirement already satisfied: ptyprocess>=0.5 in /usr/local/lib/python3.10/dist-packages (from pexpect>4.3->ipython>=4.0.0->ipywidgets) (0.7.0)\n",
            "Requirement already satisfied: wcwidth in /usr/local/lib/python3.10/dist-packages (from prompt-toolkit!=3.0.0,!=3.0.1,<3.1.0,>=2.0.0->ipython>=4.0.0->ipywidgets) (0.2.13)\n",
            "Requirement already satisfied: markdown-it-py>=2.2.0 in /usr/local/lib/python3.10/dist-packages (from rich>=10.11.0->typer<1.0.0,>=0.3.0->spacy) (3.0.0)\n",
            "Requirement already satisfied: wrapt in /usr/local/lib/python3.10/dist-packages (from smart-open<8.0.0,>=5.2.1->weasel<0.5.0,>=0.1.0->spacy) (1.16.0)\n",
            "Requirement already satisfied: platformdirs>=2.5 in /usr/local/lib/python3.10/dist-packages (from jupyter-core>=4.6.1->notebook>=4.4.1->widgetsnbextension~=3.6.0->ipywidgets) (4.3.6)\n",
            "Requirement already satisfied: mdurl~=0.1 in /usr/local/lib/python3.10/dist-packages (from markdown-it-py>=2.2.0->rich>=10.11.0->typer<1.0.0,>=0.3.0->spacy) (0.1.2)\n",
            "Requirement already satisfied: notebook-shim>=0.2.3 in /usr/local/lib/python3.10/dist-packages (from nbclassic>=0.4.7->notebook>=4.4.1->widgetsnbextension~=3.6.0->ipywidgets) (0.2.4)\n",
            "Requirement already satisfied: beautifulsoup4 in /usr/local/lib/python3.10/dist-packages (from nbconvert>=5->notebook>=4.4.1->widgetsnbextension~=3.6.0->ipywidgets) (4.12.3)\n",
            "Requirement already satisfied: bleach!=5.0.0 in /usr/local/lib/python3.10/dist-packages (from nbconvert>=5->notebook>=4.4.1->widgetsnbextension~=3.6.0->ipywidgets) (6.2.0)\n",
            "Requirement already satisfied: defusedxml in /usr/local/lib/python3.10/dist-packages (from nbconvert>=5->notebook>=4.4.1->widgetsnbextension~=3.6.0->ipywidgets) (0.7.1)\n",
            "Requirement already satisfied: jupyterlab-pygments in /usr/local/lib/python3.10/dist-packages (from nbconvert>=5->notebook>=4.4.1->widgetsnbextension~=3.6.0->ipywidgets) (0.3.0)\n",
            "Requirement already satisfied: mistune<4,>=2.0.3 in /usr/local/lib/python3.10/dist-packages (from nbconvert>=5->notebook>=4.4.1->widgetsnbextension~=3.6.0->ipywidgets) (3.0.2)\n",
            "Requirement already satisfied: nbclient>=0.5.0 in /usr/local/lib/python3.10/dist-packages (from nbconvert>=5->notebook>=4.4.1->widgetsnbextension~=3.6.0->ipywidgets) (0.10.0)\n",
            "Requirement already satisfied: pandocfilters>=1.4.1 in /usr/local/lib/python3.10/dist-packages (from nbconvert>=5->notebook>=4.4.1->widgetsnbextension~=3.6.0->ipywidgets) (1.5.1)\n",
            "Requirement already satisfied: tinycss2 in /usr/local/lib/python3.10/dist-packages (from nbconvert>=5->notebook>=4.4.1->widgetsnbextension~=3.6.0->ipywidgets) (1.4.0)\n",
            "Requirement already satisfied: fastjsonschema>=2.15 in /usr/local/lib/python3.10/dist-packages (from nbformat->notebook>=4.4.1->widgetsnbextension~=3.6.0->ipywidgets) (2.20.0)\n",
            "Requirement already satisfied: jsonschema>=2.6 in /usr/local/lib/python3.10/dist-packages (from nbformat->notebook>=4.4.1->widgetsnbextension~=3.6.0->ipywidgets) (4.23.0)\n",
            "Requirement already satisfied: argon2-cffi-bindings in /usr/local/lib/python3.10/dist-packages (from argon2-cffi->notebook>=4.4.1->widgetsnbextension~=3.6.0->ipywidgets) (21.2.0)\n",
            "Requirement already satisfied: webencodings in /usr/local/lib/python3.10/dist-packages (from bleach!=5.0.0->nbconvert>=5->notebook>=4.4.1->widgetsnbextension~=3.6.0->ipywidgets) (0.5.1)\n",
            "Requirement already satisfied: attrs>=22.2.0 in /usr/local/lib/python3.10/dist-packages (from jsonschema>=2.6->nbformat->notebook>=4.4.1->widgetsnbextension~=3.6.0->ipywidgets) (24.2.0)\n",
            "Requirement already satisfied: jsonschema-specifications>=2023.03.6 in /usr/local/lib/python3.10/dist-packages (from jsonschema>=2.6->nbformat->notebook>=4.4.1->widgetsnbextension~=3.6.0->ipywidgets) (2024.10.1)\n",
            "Requirement already satisfied: referencing>=0.28.4 in /usr/local/lib/python3.10/dist-packages (from jsonschema>=2.6->nbformat->notebook>=4.4.1->widgetsnbextension~=3.6.0->ipywidgets) (0.35.1)\n",
            "Requirement already satisfied: rpds-py>=0.7.1 in /usr/local/lib/python3.10/dist-packages (from jsonschema>=2.6->nbformat->notebook>=4.4.1->widgetsnbextension~=3.6.0->ipywidgets) (0.21.0)\n",
            "Requirement already satisfied: jupyter-server<3,>=1.8 in /usr/local/lib/python3.10/dist-packages (from notebook-shim>=0.2.3->nbclassic>=0.4.7->notebook>=4.4.1->widgetsnbextension~=3.6.0->ipywidgets) (1.24.0)\n",
            "Requirement already satisfied: cffi>=1.0.1 in /usr/local/lib/python3.10/dist-packages (from argon2-cffi-bindings->argon2-cffi->notebook>=4.4.1->widgetsnbextension~=3.6.0->ipywidgets) (1.17.1)\n",
            "Requirement already satisfied: soupsieve>1.2 in /usr/local/lib/python3.10/dist-packages (from beautifulsoup4->nbconvert>=5->notebook>=4.4.1->widgetsnbextension~=3.6.0->ipywidgets) (2.6)\n",
            "Requirement already satisfied: pycparser in /usr/local/lib/python3.10/dist-packages (from cffi>=1.0.1->argon2-cffi-bindings->argon2-cffi->notebook>=4.4.1->widgetsnbextension~=3.6.0->ipywidgets) (2.22)\n",
            "Requirement already satisfied: anyio<4,>=3.1.0 in /usr/local/lib/python3.10/dist-packages (from jupyter-server<3,>=1.8->notebook-shim>=0.2.3->nbclassic>=0.4.7->notebook>=4.4.1->widgetsnbextension~=3.6.0->ipywidgets) (3.7.1)\n",
            "Requirement already satisfied: websocket-client in /usr/local/lib/python3.10/dist-packages (from jupyter-server<3,>=1.8->notebook-shim>=0.2.3->nbclassic>=0.4.7->notebook>=4.4.1->widgetsnbextension~=3.6.0->ipywidgets) (1.8.0)\n",
            "Requirement already satisfied: sniffio>=1.1 in /usr/local/lib/python3.10/dist-packages (from anyio<4,>=3.1.0->jupyter-server<3,>=1.8->notebook-shim>=0.2.3->nbclassic>=0.4.7->notebook>=4.4.1->widgetsnbextension~=3.6.0->ipywidgets) (1.3.1)\n",
            "Requirement already satisfied: exceptiongroup in /usr/local/lib/python3.10/dist-packages (from anyio<4,>=3.1.0->jupyter-server<3,>=1.8->notebook-shim>=0.2.3->nbclassic>=0.4.7->notebook>=4.4.1->widgetsnbextension~=3.6.0->ipywidgets) (1.2.2)\n",
            "Downloading pdf2image-1.17.0-py3-none-any.whl (11 kB)\n",
            "Downloading pytesseract-0.3.13-py3-none-any.whl (14 kB)\n",
            "Downloading jedi-0.19.2-py2.py3-none-any.whl (1.6 MB)\n",
            "\u001b[2K   \u001b[90m━━━━━━━━━━━━━━━━━━━━━━━━━━━━━━━━━━━━━━━━\u001b[0m \u001b[32m1.6/1.6 MB\u001b[0m \u001b[31m53.5 MB/s\u001b[0m eta \u001b[36m0:00:00\u001b[0m\n",
            "\u001b[?25hInstalling collected packages: pytesseract, pdf2image, jedi\n",
            "Successfully installed jedi-0.19.2 pdf2image-1.17.0 pytesseract-0.3.13\n",
            "Collecting en-core-web-sm==3.7.1\n",
            "  Downloading https://github.com/explosion/spacy-models/releases/download/en_core_web_sm-3.7.1/en_core_web_sm-3.7.1-py3-none-any.whl (12.8 MB)\n",
            "\u001b[2K     \u001b[90m━━━━━━━━━━━━━━━━━━━━━━━━━━━━━━━━━━━━━━━━\u001b[0m \u001b[32m12.8/12.8 MB\u001b[0m \u001b[31m57.0 MB/s\u001b[0m eta \u001b[36m0:00:00\u001b[0m\n",
            "\u001b[?25hRequirement already satisfied: spacy<3.8.0,>=3.7.2 in /usr/local/lib/python3.10/dist-packages (from en-core-web-sm==3.7.1) (3.7.5)\n",
            "Requirement already satisfied: spacy-legacy<3.1.0,>=3.0.11 in /usr/local/lib/python3.10/dist-packages (from spacy<3.8.0,>=3.7.2->en-core-web-sm==3.7.1) (3.0.12)\n",
            "Requirement already satisfied: spacy-loggers<2.0.0,>=1.0.0 in /usr/local/lib/python3.10/dist-packages (from spacy<3.8.0,>=3.7.2->en-core-web-sm==3.7.1) (1.0.5)\n",
            "Requirement already satisfied: murmurhash<1.1.0,>=0.28.0 in /usr/local/lib/python3.10/dist-packages (from spacy<3.8.0,>=3.7.2->en-core-web-sm==3.7.1) (1.0.10)\n",
            "Requirement already satisfied: cymem<2.1.0,>=2.0.2 in /usr/local/lib/python3.10/dist-packages (from spacy<3.8.0,>=3.7.2->en-core-web-sm==3.7.1) (2.0.8)\n",
            "Requirement already satisfied: preshed<3.1.0,>=3.0.2 in /usr/local/lib/python3.10/dist-packages (from spacy<3.8.0,>=3.7.2->en-core-web-sm==3.7.1) (3.0.9)\n",
            "Requirement already satisfied: thinc<8.3.0,>=8.2.2 in /usr/local/lib/python3.10/dist-packages (from spacy<3.8.0,>=3.7.2->en-core-web-sm==3.7.1) (8.2.5)\n",
            "Requirement already satisfied: wasabi<1.2.0,>=0.9.1 in /usr/local/lib/python3.10/dist-packages (from spacy<3.8.0,>=3.7.2->en-core-web-sm==3.7.1) (1.1.3)\n",
            "Requirement already satisfied: srsly<3.0.0,>=2.4.3 in /usr/local/lib/python3.10/dist-packages (from spacy<3.8.0,>=3.7.2->en-core-web-sm==3.7.1) (2.4.8)\n",
            "Requirement already satisfied: catalogue<2.1.0,>=2.0.6 in /usr/local/lib/python3.10/dist-packages (from spacy<3.8.0,>=3.7.2->en-core-web-sm==3.7.1) (2.0.10)\n",
            "Requirement already satisfied: weasel<0.5.0,>=0.1.0 in /usr/local/lib/python3.10/dist-packages (from spacy<3.8.0,>=3.7.2->en-core-web-sm==3.7.1) (0.4.1)\n",
            "Requirement already satisfied: typer<1.0.0,>=0.3.0 in /usr/local/lib/python3.10/dist-packages (from spacy<3.8.0,>=3.7.2->en-core-web-sm==3.7.1) (0.13.0)\n",
            "Requirement already satisfied: tqdm<5.0.0,>=4.38.0 in /usr/local/lib/python3.10/dist-packages (from spacy<3.8.0,>=3.7.2->en-core-web-sm==3.7.1) (4.66.6)\n",
            "Requirement already satisfied: requests<3.0.0,>=2.13.0 in /usr/local/lib/python3.10/dist-packages (from spacy<3.8.0,>=3.7.2->en-core-web-sm==3.7.1) (2.32.3)\n",
            "Requirement already satisfied: pydantic!=1.8,!=1.8.1,<3.0.0,>=1.7.4 in /usr/local/lib/python3.10/dist-packages (from spacy<3.8.0,>=3.7.2->en-core-web-sm==3.7.1) (2.9.2)\n",
            "Requirement already satisfied: jinja2 in /usr/local/lib/python3.10/dist-packages (from spacy<3.8.0,>=3.7.2->en-core-web-sm==3.7.1) (3.1.4)\n",
            "Requirement already satisfied: setuptools in /usr/local/lib/python3.10/dist-packages (from spacy<3.8.0,>=3.7.2->en-core-web-sm==3.7.1) (75.1.0)\n",
            "Requirement already satisfied: packaging>=20.0 in /usr/local/lib/python3.10/dist-packages (from spacy<3.8.0,>=3.7.2->en-core-web-sm==3.7.1) (24.2)\n",
            "Requirement already satisfied: langcodes<4.0.0,>=3.2.0 in /usr/local/lib/python3.10/dist-packages (from spacy<3.8.0,>=3.7.2->en-core-web-sm==3.7.1) (3.4.1)\n",
            "Requirement already satisfied: numpy>=1.19.0 in /usr/local/lib/python3.10/dist-packages (from spacy<3.8.0,>=3.7.2->en-core-web-sm==3.7.1) (1.26.4)\n",
            "Requirement already satisfied: language-data>=1.2 in /usr/local/lib/python3.10/dist-packages (from langcodes<4.0.0,>=3.2.0->spacy<3.8.0,>=3.7.2->en-core-web-sm==3.7.1) (1.2.0)\n",
            "Requirement already satisfied: annotated-types>=0.6.0 in /usr/local/lib/python3.10/dist-packages (from pydantic!=1.8,!=1.8.1,<3.0.0,>=1.7.4->spacy<3.8.0,>=3.7.2->en-core-web-sm==3.7.1) (0.7.0)\n",
            "Requirement already satisfied: pydantic-core==2.23.4 in /usr/local/lib/python3.10/dist-packages (from pydantic!=1.8,!=1.8.1,<3.0.0,>=1.7.4->spacy<3.8.0,>=3.7.2->en-core-web-sm==3.7.1) (2.23.4)\n",
            "Requirement already satisfied: typing-extensions>=4.6.1 in /usr/local/lib/python3.10/dist-packages (from pydantic!=1.8,!=1.8.1,<3.0.0,>=1.7.4->spacy<3.8.0,>=3.7.2->en-core-web-sm==3.7.1) (4.12.2)\n",
            "Requirement already satisfied: charset-normalizer<4,>=2 in /usr/local/lib/python3.10/dist-packages (from requests<3.0.0,>=2.13.0->spacy<3.8.0,>=3.7.2->en-core-web-sm==3.7.1) (3.4.0)\n",
            "Requirement already satisfied: idna<4,>=2.5 in /usr/local/lib/python3.10/dist-packages (from requests<3.0.0,>=2.13.0->spacy<3.8.0,>=3.7.2->en-core-web-sm==3.7.1) (3.10)\n",
            "Requirement already satisfied: urllib3<3,>=1.21.1 in /usr/local/lib/python3.10/dist-packages (from requests<3.0.0,>=2.13.0->spacy<3.8.0,>=3.7.2->en-core-web-sm==3.7.1) (2.2.3)\n",
            "Requirement already satisfied: certifi>=2017.4.17 in /usr/local/lib/python3.10/dist-packages (from requests<3.0.0,>=2.13.0->spacy<3.8.0,>=3.7.2->en-core-web-sm==3.7.1) (2024.8.30)\n",
            "Requirement already satisfied: blis<0.8.0,>=0.7.8 in /usr/local/lib/python3.10/dist-packages (from thinc<8.3.0,>=8.2.2->spacy<3.8.0,>=3.7.2->en-core-web-sm==3.7.1) (0.7.11)\n",
            "Requirement already satisfied: confection<1.0.0,>=0.0.1 in /usr/local/lib/python3.10/dist-packages (from thinc<8.3.0,>=8.2.2->spacy<3.8.0,>=3.7.2->en-core-web-sm==3.7.1) (0.1.5)\n",
            "Requirement already satisfied: click>=8.0.0 in /usr/local/lib/python3.10/dist-packages (from typer<1.0.0,>=0.3.0->spacy<3.8.0,>=3.7.2->en-core-web-sm==3.7.1) (8.1.7)\n",
            "Requirement already satisfied: shellingham>=1.3.0 in /usr/local/lib/python3.10/dist-packages (from typer<1.0.0,>=0.3.0->spacy<3.8.0,>=3.7.2->en-core-web-sm==3.7.1) (1.5.4)\n",
            "Requirement already satisfied: rich>=10.11.0 in /usr/local/lib/python3.10/dist-packages (from typer<1.0.0,>=0.3.0->spacy<3.8.0,>=3.7.2->en-core-web-sm==3.7.1) (13.9.4)\n",
            "Requirement already satisfied: cloudpathlib<1.0.0,>=0.7.0 in /usr/local/lib/python3.10/dist-packages (from weasel<0.5.0,>=0.1.0->spacy<3.8.0,>=3.7.2->en-core-web-sm==3.7.1) (0.20.0)\n",
            "Requirement already satisfied: smart-open<8.0.0,>=5.2.1 in /usr/local/lib/python3.10/dist-packages (from weasel<0.5.0,>=0.1.0->spacy<3.8.0,>=3.7.2->en-core-web-sm==3.7.1) (7.0.5)\n",
            "Requirement already satisfied: MarkupSafe>=2.0 in /usr/local/lib/python3.10/dist-packages (from jinja2->spacy<3.8.0,>=3.7.2->en-core-web-sm==3.7.1) (3.0.2)\n",
            "Requirement already satisfied: marisa-trie>=0.7.7 in /usr/local/lib/python3.10/dist-packages (from language-data>=1.2->langcodes<4.0.0,>=3.2.0->spacy<3.8.0,>=3.7.2->en-core-web-sm==3.7.1) (1.2.1)\n",
            "Requirement already satisfied: markdown-it-py>=2.2.0 in /usr/local/lib/python3.10/dist-packages (from rich>=10.11.0->typer<1.0.0,>=0.3.0->spacy<3.8.0,>=3.7.2->en-core-web-sm==3.7.1) (3.0.0)\n",
            "Requirement already satisfied: pygments<3.0.0,>=2.13.0 in /usr/local/lib/python3.10/dist-packages (from rich>=10.11.0->typer<1.0.0,>=0.3.0->spacy<3.8.0,>=3.7.2->en-core-web-sm==3.7.1) (2.18.0)\n",
            "Requirement already satisfied: wrapt in /usr/local/lib/python3.10/dist-packages (from smart-open<8.0.0,>=5.2.1->weasel<0.5.0,>=0.1.0->spacy<3.8.0,>=3.7.2->en-core-web-sm==3.7.1) (1.16.0)\n",
            "Requirement already satisfied: mdurl~=0.1 in /usr/local/lib/python3.10/dist-packages (from markdown-it-py>=2.2.0->rich>=10.11.0->typer<1.0.0,>=0.3.0->spacy<3.8.0,>=3.7.2->en-core-web-sm==3.7.1) (0.1.2)\n",
            "\u001b[38;5;2m✔ Download and installation successful\u001b[0m\n",
            "You can now load the package via spacy.load('en_core_web_sm')\n",
            "\u001b[38;5;3m⚠ Restart to reload dependencies\u001b[0m\n",
            "If you are in a Jupyter or Colab notebook, you may need to restart Python in\n",
            "order to load all the package's dependencies. You can do this by selecting the\n",
            "'Restart kernel' or 'Restart runtime' option.\n",
            "Enabling notebook extension jupyter-js-widgets/extension...\n",
            "Paths used for configuration of notebook: \n",
            "    \t/usr/etc/jupyter/nbconfig/notebook.json\n",
            "Paths used for configuration of notebook: \n",
            "    \t\n",
            "      - Validating: \u001b[32mOK\u001b[0m\n",
            "Paths used for configuration of notebook: \n",
            "    \t/usr/etc/jupyter/nbconfig/notebook.json\n"
          ]
        }
      ],
      "source": [
        "# Install necessary packages in Colab\n",
        "!pip install pdf2image pytesseract torch transformers pandas spacy tqdm ipywidgets\n",
        "\n",
        "# Download the spaCy English language model\n",
        "!python -m spacy download en_core_web_sm\n",
        "\n",
        "# Enable Jupyter widgets extension (for interactive elements if needed)\n",
        "!jupyter nbextension enable --py widgetsnbextension --sys-prefix\n"
      ]
    },
    {
      "cell_type": "code",
      "execution_count": null,
      "metadata": {
        "colab": {
          "base_uri": "https://localhost:8080/"
        },
        "id": "ZQ8b4NVFi9HI",
        "outputId": "97236c8d-1d9a-48af-e76a-f7df36490b50"
      },
      "outputs": [
        {
          "output_type": "stream",
          "name": "stdout",
          "text": [
            "Reading package lists... Done\n",
            "Building dependency tree... Done\n",
            "Reading state information... Done\n",
            "The following NEW packages will be installed:\n",
            "  poppler-utils\n",
            "0 upgraded, 1 newly installed, 0 to remove and 49 not upgraded.\n",
            "Need to get 186 kB of archives.\n",
            "After this operation, 696 kB of additional disk space will be used.\n",
            "Get:1 http://archive.ubuntu.com/ubuntu jammy-updates/main amd64 poppler-utils amd64 22.02.0-2ubuntu0.5 [186 kB]\n",
            "Fetched 186 kB in 1s (152 kB/s)\n",
            "Selecting previously unselected package poppler-utils.\n",
            "(Reading database ... 123629 files and directories currently installed.)\n",
            "Preparing to unpack .../poppler-utils_22.02.0-2ubuntu0.5_amd64.deb ...\n",
            "Unpacking poppler-utils (22.02.0-2ubuntu0.5) ...\n",
            "Setting up poppler-utils (22.02.0-2ubuntu0.5) ...\n",
            "Processing triggers for man-db (2.10.2-1) ...\n",
            "Reading package lists... Done\n",
            "Building dependency tree... Done\n",
            "Reading state information... Done\n",
            "The following additional packages will be installed:\n",
            "  tesseract-ocr-eng tesseract-ocr-osd\n",
            "The following NEW packages will be installed:\n",
            "  tesseract-ocr tesseract-ocr-eng tesseract-ocr-osd\n",
            "0 upgraded, 3 newly installed, 0 to remove and 49 not upgraded.\n",
            "Need to get 4,816 kB of archives.\n",
            "After this operation, 15.6 MB of additional disk space will be used.\n",
            "Get:1 http://archive.ubuntu.com/ubuntu jammy/universe amd64 tesseract-ocr-eng all 1:4.00~git30-7274cfa-1.1 [1,591 kB]\n",
            "Get:2 http://archive.ubuntu.com/ubuntu jammy/universe amd64 tesseract-ocr-osd all 1:4.00~git30-7274cfa-1.1 [2,990 kB]\n",
            "Get:3 http://archive.ubuntu.com/ubuntu jammy/universe amd64 tesseract-ocr amd64 4.1.1-2.1build1 [236 kB]\n",
            "Fetched 4,816 kB in 2s (2,435 kB/s)\n",
            "Selecting previously unselected package tesseract-ocr-eng.\n",
            "(Reading database ... 123659 files and directories currently installed.)\n",
            "Preparing to unpack .../tesseract-ocr-eng_1%3a4.00~git30-7274cfa-1.1_all.deb ...\n",
            "Unpacking tesseract-ocr-eng (1:4.00~git30-7274cfa-1.1) ...\n",
            "Selecting previously unselected package tesseract-ocr-osd.\n",
            "Preparing to unpack .../tesseract-ocr-osd_1%3a4.00~git30-7274cfa-1.1_all.deb ...\n",
            "Unpacking tesseract-ocr-osd (1:4.00~git30-7274cfa-1.1) ...\n",
            "Selecting previously unselected package tesseract-ocr.\n",
            "Preparing to unpack .../tesseract-ocr_4.1.1-2.1build1_amd64.deb ...\n",
            "Unpacking tesseract-ocr (4.1.1-2.1build1) ...\n",
            "Setting up tesseract-ocr-eng (1:4.00~git30-7274cfa-1.1) ...\n",
            "Setting up tesseract-ocr-osd (1:4.00~git30-7274cfa-1.1) ...\n",
            "Setting up tesseract-ocr (4.1.1-2.1build1) ...\n",
            "Processing triggers for man-db (2.10.2-1) ...\n",
            "Requirement already satisfied: pdf2image in /usr/local/lib/python3.10/dist-packages (1.17.0)\n",
            "Requirement already satisfied: pytesseract in /usr/local/lib/python3.10/dist-packages (0.3.13)\n",
            "Requirement already satisfied: transformers in /usr/local/lib/python3.10/dist-packages (4.46.2)\n",
            "Requirement already satisfied: pandas in /usr/local/lib/python3.10/dist-packages (2.2.2)\n",
            "Requirement already satisfied: spacy in /usr/local/lib/python3.10/dist-packages (3.7.5)\n",
            "Requirement already satisfied: tqdm in /usr/local/lib/python3.10/dist-packages (4.66.6)\n",
            "Requirement already satisfied: pillow in /usr/local/lib/python3.10/dist-packages (from pdf2image) (11.0.0)\n",
            "Requirement already satisfied: packaging>=21.3 in /usr/local/lib/python3.10/dist-packages (from pytesseract) (24.2)\n",
            "Requirement already satisfied: filelock in /usr/local/lib/python3.10/dist-packages (from transformers) (3.16.1)\n",
            "Requirement already satisfied: huggingface-hub<1.0,>=0.23.2 in /usr/local/lib/python3.10/dist-packages (from transformers) (0.26.2)\n",
            "Requirement already satisfied: numpy>=1.17 in /usr/local/lib/python3.10/dist-packages (from transformers) (1.26.4)\n",
            "Requirement already satisfied: pyyaml>=5.1 in /usr/local/lib/python3.10/dist-packages (from transformers) (6.0.2)\n",
            "Requirement already satisfied: regex!=2019.12.17 in /usr/local/lib/python3.10/dist-packages (from transformers) (2024.9.11)\n",
            "Requirement already satisfied: requests in /usr/local/lib/python3.10/dist-packages (from transformers) (2.32.3)\n",
            "Requirement already satisfied: safetensors>=0.4.1 in /usr/local/lib/python3.10/dist-packages (from transformers) (0.4.5)\n",
            "Requirement already satisfied: tokenizers<0.21,>=0.20 in /usr/local/lib/python3.10/dist-packages (from transformers) (0.20.3)\n",
            "Requirement already satisfied: python-dateutil>=2.8.2 in /usr/local/lib/python3.10/dist-packages (from pandas) (2.8.2)\n",
            "Requirement already satisfied: pytz>=2020.1 in /usr/local/lib/python3.10/dist-packages (from pandas) (2024.2)\n",
            "Requirement already satisfied: tzdata>=2022.7 in /usr/local/lib/python3.10/dist-packages (from pandas) (2024.2)\n",
            "Requirement already satisfied: spacy-legacy<3.1.0,>=3.0.11 in /usr/local/lib/python3.10/dist-packages (from spacy) (3.0.12)\n",
            "Requirement already satisfied: spacy-loggers<2.0.0,>=1.0.0 in /usr/local/lib/python3.10/dist-packages (from spacy) (1.0.5)\n",
            "Requirement already satisfied: murmurhash<1.1.0,>=0.28.0 in /usr/local/lib/python3.10/dist-packages (from spacy) (1.0.10)\n",
            "Requirement already satisfied: cymem<2.1.0,>=2.0.2 in /usr/local/lib/python3.10/dist-packages (from spacy) (2.0.8)\n",
            "Requirement already satisfied: preshed<3.1.0,>=3.0.2 in /usr/local/lib/python3.10/dist-packages (from spacy) (3.0.9)\n",
            "Requirement already satisfied: thinc<8.3.0,>=8.2.2 in /usr/local/lib/python3.10/dist-packages (from spacy) (8.2.5)\n",
            "Requirement already satisfied: wasabi<1.2.0,>=0.9.1 in /usr/local/lib/python3.10/dist-packages (from spacy) (1.1.3)\n",
            "Requirement already satisfied: srsly<3.0.0,>=2.4.3 in /usr/local/lib/python3.10/dist-packages (from spacy) (2.4.8)\n",
            "Requirement already satisfied: catalogue<2.1.0,>=2.0.6 in /usr/local/lib/python3.10/dist-packages (from spacy) (2.0.10)\n",
            "Requirement already satisfied: weasel<0.5.0,>=0.1.0 in /usr/local/lib/python3.10/dist-packages (from spacy) (0.4.1)\n",
            "Requirement already satisfied: typer<1.0.0,>=0.3.0 in /usr/local/lib/python3.10/dist-packages (from spacy) (0.13.0)\n",
            "Requirement already satisfied: pydantic!=1.8,!=1.8.1,<3.0.0,>=1.7.4 in /usr/local/lib/python3.10/dist-packages (from spacy) (2.9.2)\n",
            "Requirement already satisfied: jinja2 in /usr/local/lib/python3.10/dist-packages (from spacy) (3.1.4)\n",
            "Requirement already satisfied: setuptools in /usr/local/lib/python3.10/dist-packages (from spacy) (75.1.0)\n",
            "Requirement already satisfied: langcodes<4.0.0,>=3.2.0 in /usr/local/lib/python3.10/dist-packages (from spacy) (3.4.1)\n",
            "Requirement already satisfied: fsspec>=2023.5.0 in /usr/local/lib/python3.10/dist-packages (from huggingface-hub<1.0,>=0.23.2->transformers) (2024.10.0)\n",
            "Requirement already satisfied: typing-extensions>=3.7.4.3 in /usr/local/lib/python3.10/dist-packages (from huggingface-hub<1.0,>=0.23.2->transformers) (4.12.2)\n",
            "Requirement already satisfied: language-data>=1.2 in /usr/local/lib/python3.10/dist-packages (from langcodes<4.0.0,>=3.2.0->spacy) (1.2.0)\n",
            "Requirement already satisfied: annotated-types>=0.6.0 in /usr/local/lib/python3.10/dist-packages (from pydantic!=1.8,!=1.8.1,<3.0.0,>=1.7.4->spacy) (0.7.0)\n",
            "Requirement already satisfied: pydantic-core==2.23.4 in /usr/local/lib/python3.10/dist-packages (from pydantic!=1.8,!=1.8.1,<3.0.0,>=1.7.4->spacy) (2.23.4)\n",
            "Requirement already satisfied: six>=1.5 in /usr/local/lib/python3.10/dist-packages (from python-dateutil>=2.8.2->pandas) (1.16.0)\n",
            "Requirement already satisfied: charset-normalizer<4,>=2 in /usr/local/lib/python3.10/dist-packages (from requests->transformers) (3.4.0)\n",
            "Requirement already satisfied: idna<4,>=2.5 in /usr/local/lib/python3.10/dist-packages (from requests->transformers) (3.10)\n",
            "Requirement already satisfied: urllib3<3,>=1.21.1 in /usr/local/lib/python3.10/dist-packages (from requests->transformers) (2.2.3)\n",
            "Requirement already satisfied: certifi>=2017.4.17 in /usr/local/lib/python3.10/dist-packages (from requests->transformers) (2024.8.30)\n",
            "Requirement already satisfied: blis<0.8.0,>=0.7.8 in /usr/local/lib/python3.10/dist-packages (from thinc<8.3.0,>=8.2.2->spacy) (0.7.11)\n",
            "Requirement already satisfied: confection<1.0.0,>=0.0.1 in /usr/local/lib/python3.10/dist-packages (from thinc<8.3.0,>=8.2.2->spacy) (0.1.5)\n",
            "Requirement already satisfied: click>=8.0.0 in /usr/local/lib/python3.10/dist-packages (from typer<1.0.0,>=0.3.0->spacy) (8.1.7)\n",
            "Requirement already satisfied: shellingham>=1.3.0 in /usr/local/lib/python3.10/dist-packages (from typer<1.0.0,>=0.3.0->spacy) (1.5.4)\n",
            "Requirement already satisfied: rich>=10.11.0 in /usr/local/lib/python3.10/dist-packages (from typer<1.0.0,>=0.3.0->spacy) (13.9.4)\n",
            "Requirement already satisfied: cloudpathlib<1.0.0,>=0.7.0 in /usr/local/lib/python3.10/dist-packages (from weasel<0.5.0,>=0.1.0->spacy) (0.20.0)\n",
            "Requirement already satisfied: smart-open<8.0.0,>=5.2.1 in /usr/local/lib/python3.10/dist-packages (from weasel<0.5.0,>=0.1.0->spacy) (7.0.5)\n",
            "Requirement already satisfied: MarkupSafe>=2.0 in /usr/local/lib/python3.10/dist-packages (from jinja2->spacy) (3.0.2)\n",
            "Requirement already satisfied: marisa-trie>=0.7.7 in /usr/local/lib/python3.10/dist-packages (from language-data>=1.2->langcodes<4.0.0,>=3.2.0->spacy) (1.2.1)\n",
            "Requirement already satisfied: markdown-it-py>=2.2.0 in /usr/local/lib/python3.10/dist-packages (from rich>=10.11.0->typer<1.0.0,>=0.3.0->spacy) (3.0.0)\n",
            "Requirement already satisfied: pygments<3.0.0,>=2.13.0 in /usr/local/lib/python3.10/dist-packages (from rich>=10.11.0->typer<1.0.0,>=0.3.0->spacy) (2.18.0)\n",
            "Requirement already satisfied: wrapt in /usr/local/lib/python3.10/dist-packages (from smart-open<8.0.0,>=5.2.1->weasel<0.5.0,>=0.1.0->spacy) (1.16.0)\n",
            "Requirement already satisfied: mdurl~=0.1 in /usr/local/lib/python3.10/dist-packages (from markdown-it-py>=2.2.0->rich>=10.11.0->typer<1.0.0,>=0.3.0->spacy) (0.1.2)\n",
            "Checking if Poppler path exists: True\n",
            "Checking if Tesseract exists: True\n",
            "CUDA available: True\n",
            "Current GPU: Tesla T4\n",
            "GPU Memory: 14.75 GB\n"
          ]
        }
      ],
      "source": [
        "# Imports and setup\n",
        "import os\n",
        "from pdf2image import convert_from_path\n",
        "import pytesseract\n",
        "from transformers import pipeline\n",
        "import pandas as pd\n",
        "import spacy\n",
        "from pathlib import Path\n",
        "import torch\n",
        "from tqdm import tqdm\n",
        "from IPython.display import display, HTML\n",
        "\n",
        "# Install dependencies for Colab\n",
        "!apt-get install -y poppler-utils\n",
        "!apt-get install -y tesseract-ocr\n",
        "!pip install pdf2image pytesseract transformers pandas spacy tqdm\n",
        "\n",
        "# Set paths (no need to manually set in Colab since Tesseract and Poppler are installed system-wide)\n",
        "POPPLER_PATH = '/usr/bin'\n",
        "TESSERACT_PATH = '/usr/bin/tesseract'\n",
        "\n",
        "# Verify installations\n",
        "print(f\"Checking if Poppler path exists: {os.path.exists(POPPLER_PATH)}\")\n",
        "print(f\"Checking if Tesseract exists: {os.path.exists(TESSERACT_PATH)}\")\n",
        "\n",
        "# Check CUDA availability\n",
        "if torch.cuda.is_available():\n",
        "    print(f\"CUDA available: True\")\n",
        "    print(f\"Current GPU: {torch.cuda.get_device_name()}\")\n",
        "    print(f\"GPU Memory: {torch.cuda.get_device_properties(0).total_memory / 1024**3:.2f} GB\")\n",
        "else:\n",
        "    print(\"CUDA not available\")\n"
      ]
    },
    {
      "cell_type": "code",
      "execution_count": null,
      "metadata": {
        "id": "Jb3ipRdki9HJ"
      },
      "outputs": [],
      "source": [
        "# Second cell - Class definition\n",
        "class CourtCaseProcessor:\n",
        "    def __init__(self):\n",
        "        # Check if CUDA is available\n",
        "        self.device = \"cuda\" if torch.cuda.is_available() else \"cpu\"\n",
        "        print(f\"Using device: {self.device}\")\n",
        "\n",
        "        if self.device == \"cuda\":\n",
        "            torch.cuda.set_device(0)\n",
        "            print(f\"Using GPU: {torch.cuda.get_device_name(0)}\")\n",
        "\n",
        "        # Initialize NLP components\n",
        "        self.summarizer = pipeline(\"summarization\",\n",
        "                                   model=\"sshleifer/distilbart-cnn-12-6\",\n",
        "                                   device=0 if self.device == \"cuda\" else -1)\n",
        "        self.nlp = spacy.load(\"en_core_web_sm\")\n",
        "\n",
        "    def pdf_to_text(self, pdf_path):\n",
        "        \"\"\"Convert PDF to text using OCR\"\"\"\n",
        "        try:\n",
        "            print(f\"\\nAttempting to convert {pdf_path} to text...\")\n",
        "            # No need to specify poppler_path in Colab\n",
        "            images = convert_from_path(pdf_path)\n",
        "            print(f\"Successfully converted PDF to {len(images)} images\")\n",
        "\n",
        "            text = \"\"\n",
        "            for i, image in enumerate(images):\n",
        "                print(f\"Processing page {i+1}/{len(images)}\")\n",
        "                page_text = pytesseract.image_to_string(image)\n",
        "                text += page_text + \"\\n\"\n",
        "\n",
        "            print(f\"Text extraction complete. Extracted {len(text)} characters\")\n",
        "            return text\n",
        "        except Exception as e:\n",
        "            print(f\"Error processing {pdf_path}: {str(e)}\")\n",
        "            return None\n",
        "\n",
        "    def get_sections(self, text):\n",
        "        \"\"\"Extract legal sections with their corresponding acts\"\"\"\n",
        "        doc = self.nlp(text)\n",
        "        sections = set()\n",
        "\n",
        "        acts = {\n",
        "            'IPC': 'Indian Penal Code',\n",
        "            'CrPC': 'Code of Criminal Procedure',\n",
        "            'CPC': 'Code of Civil Procedure',\n",
        "            'IT Act': 'Information Technology Act',\n",
        "            'Consumer Protection Act': 'Consumer Protection Act',\n",
        "            'NDPS': 'Narcotic Drugs and Psychotropic Substances Act',\n",
        "            'Prevention of Corruption Act': 'Prevention of Corruption Act'\n",
        "        }\n",
        "\n",
        "        for i, token in enumerate(doc):\n",
        "            if token.text.lower() in ['section', 's.', 'sec.', 'ss.', 'sections']:\n",
        "                if i + 1 < len(doc):\n",
        "                    next_tokens = doc[i+1:i+10].text\n",
        "                    section_num = ''\n",
        "                    act_name = ''\n",
        "\n",
        "                    for char in next_tokens.split()[0]:\n",
        "                        if char.isdigit() or char in '-,':\n",
        "                            section_num += char\n",
        "\n",
        "                    for act_key in acts:\n",
        "                        if act_key in next_tokens:\n",
        "                            act_name = acts[act_key]\n",
        "                            break\n",
        "\n",
        "                    if section_num:\n",
        "                        if act_name:\n",
        "                            sections.add(f\"Section {section_num} of the {act_name}\")\n",
        "                        else:\n",
        "                            sections.add(f\"Section {section_num}\")\n",
        "\n",
        "        return ', '.join(sections) if sections else 'No sections found'\n",
        "\n",
        "    def get_summary(self, text):\n",
        "        \"\"\"Generate a summary focusing on case subject matter\"\"\"\n",
        "        try:\n",
        "            # Clean the text\n",
        "            text = text.replace('\\n', ' ').strip()\n",
        "\n",
        "            # Define case subject patterns\n",
        "            case_subjects = {\n",
        "                'murder': ['murder', 'killed', 'death', 'homicide', '302 IPC', 'deceased'],\n",
        "                'property dispute': ['property', 'land', 'possession', 'title', 'ownership', 'tenant'],\n",
        "                'corruption': ['corruption', 'bribe', 'misappropriation', 'prevention of corruption act'],\n",
        "                'theft': ['theft', 'stolen', 'robbery', 'burglary', '379 IPC'],\n",
        "                'assault': ['assault', 'attack', 'hurt', 'injury', 'grievous', '324 IPC', '325 IPC'],\n",
        "                'fraud': ['fraud', 'cheating', 'misrepresentation', 'forgery', '420 IPC'],\n",
        "                'rape': ['rape', 'sexual assault', '376 IPC'],\n",
        "                'dowry': ['dowry', 'dowry death', '304B IPC'],\n",
        "                'drugs': ['drugs', 'NDPS', 'narcotic', 'possession of drugs'],\n",
        "                'domestic violence': ['domestic violence', 'cruelty', '498A IPC'],\n",
        "                'cybercrime': ['cyber', 'computer', 'online', 'IT Act'],\n",
        "                'defamation': ['defamation', 'defame', '499 IPC', '500 IPC'],\n",
        "                'kidnapping': ['kidnapping', 'abduction', '363 IPC'],\n",
        "                'accident': ['accident', 'negligence', 'motor vehicle', 'compensation']\n",
        "            }\n",
        "\n",
        "            # Find main subject of the case\n",
        "            text_lower = text.lower()\n",
        "            case_subject = None\n",
        "            max_matches = 0\n",
        "\n",
        "            for subject, keywords in case_subjects.items():\n",
        "                matches = sum(1 for keyword in keywords if keyword in text_lower)\n",
        "                if matches > max_matches:\n",
        "                    max_matches = matches\n",
        "                    case_subject = subject\n",
        "\n",
        "            # Get context around the subject\n",
        "            doc = self.nlp(text)\n",
        "            relevant_sentences = []\n",
        "\n",
        "            # First, try to get facts about the case\n",
        "            fact_indicators = ['facts', 'brief facts', 'prosecution case', 'allegations', 'according to']\n",
        "            for sent in doc.sents:\n",
        "                sent_text = sent.text.lower()\n",
        "                if any(indicator in sent_text for indicator in fact_indicators):\n",
        "                    if len(sent_text.split()) > 5:\n",
        "                        relevant_sentences.append(sent.text)\n",
        "                        if len(relevant_sentences) >= 2:\n",
        "                            break\n",
        "\n",
        "            # If no facts found, get sentences containing the case subject\n",
        "            if not relevant_sentences and case_subject:\n",
        "                subject_keywords = case_subjects[case_subject]\n",
        "                for sent in doc.sents:\n",
        "                    sent_text = sent.text.lower()\n",
        "                    if any(keyword in sent_text for keyword in subject_keywords):\n",
        "                        if len(sent_text.split()) > 5:\n",
        "                            relevant_sentences.append(sent.text)\n",
        "                            if len(relevant_sentences) >= 2:\n",
        "                                break\n",
        "\n",
        "            # Construct summary\n",
        "            if case_subject:\n",
        "                summary_parts = []\n",
        "                summary_parts.append(f\"This is a case regarding {case_subject}.\")\n",
        "                if relevant_sentences:\n",
        "                    summary_parts.append(\" \".join(relevant_sentences))\n",
        "                return \" \".join(summary_parts)\n",
        "            else:\n",
        "                return \"Unable to determine the main subject of the case.\"\n",
        "\n",
        "        except Exception as e:\n",
        "            print(f\"Error generating summary: {str(e)}\")\n",
        "            return \"Error generating summary\"\n",
        "\n",
        "    def process_folder(self, folder_path, output_csv):\n",
        "        \"\"\"Process all PDFs in a folder and save results to CSV\"\"\"\n",
        "        results = []\n",
        "        folder = Path(folder_path)\n",
        "\n",
        "        if not folder.exists():\n",
        "            print(f\"Error: Folder {folder_path} does not exist!\")\n",
        "            return\n",
        "\n",
        "        pdf_files = list(folder.glob('*.pdf'))\n",
        "        if not pdf_files:\n",
        "            print(f\"No PDF files found in {folder_path}\")\n",
        "            return\n",
        "\n",
        "        print(f\"Found {len(pdf_files)} PDF files to process\")\n",
        "\n",
        "        for pdf_file in tqdm(pdf_files, desc=\"Processing PDFs\"):\n",
        "            print(f\"\\nProcessing: {pdf_file.name}\")\n",
        "\n",
        "            text = self.pdf_to_text(str(pdf_file))\n",
        "            if not text:\n",
        "                print(f\"Skipping {pdf_file.name} due to text extraction failure\")\n",
        "                continue\n",
        "\n",
        "            try:\n",
        "                sections = self.get_sections(text)\n",
        "                summary = self.get_summary(text)\n",
        "\n",
        "                result = {\n",
        "                    'Summary': summary,\n",
        "                    'Sections': sections,\n",
        "                }\n",
        "                results.append(result)\n",
        "\n",
        "            except Exception as e:\n",
        "                print(f\"Error processing {pdf_file.name}: {str(e)}\")\n",
        "\n",
        "        if results:\n",
        "          df=pd.DataFrame(results)\n",
        "          df.to_csv(output_csv,index=False)\n",
        "          print(\"Results saved to output_csv\")\n",
        "        else:\n",
        "          print(\"No results to save to CSV\")\n"
      ]
    },
    {
      "cell_type": "code",
      "execution_count": null,
      "metadata": {
        "colab": {
          "base_uri": "https://localhost:8080/",
          "height": 1000,
          "referenced_widgets": [
            "d1f41ee45433487d989367eb199f6b1d",
            "44c17789547240e08582e0d4bc0f1b49",
            "33ea19675a824b3581c5f67f3f526507",
            "9ea195c9b7894f87a38c5911f789d3ff",
            "ce70b8119bcb43e9a9c3f3be9ea608bd",
            "76084ef43015440282c1b5eba45255e1",
            "bbf167a683514b97a1f15f9224dbfa05",
            "268fdb4311984aefaacf246590e09a63",
            "e60324eddd4e4792a9dd768270b8c6f0",
            "119be92b8e624862834ff51db57e294e",
            "c62ddb6d29a44ad39136e50cdf5ab3ad",
            "80b1e8c580f04d75846ee35a7d1cef79",
            "c84f72414cf84f8d9e8c895b262bfad0",
            "95a78ddd64ce405cafe4608036d175df",
            "7b7ffd7b74f64fff93c496c7752d4a21",
            "671e12e063034582a8e73f128c53d9cf",
            "1394556ab00c43cc98334de18cb7c820",
            "1daa8f9a8a18470b9e8f467f85cac638",
            "50124e762ef644079c6d4533b1e803a7",
            "65dd5c43623b47ad9eeb4535ed545ea1",
            "b33ad5756dcc4068a8464b2c56745999",
            "bbdbe88f1a1346c6a3aa5481beb89159",
            "7b7dd4c8ea914345980fab3b97829be2",
            "80f3600ef247466e8afa4877a32bd736",
            "d5373d38db504d9abe60bce71f59c592",
            "16b7cd23dc004c5584554388b58fc177",
            "c66b64619f6644108b733b515a439424",
            "5474c6ffe75d447da498b3aaa235e34f",
            "e798d57353b54c23a22507ecb400785c",
            "eef96568eaf9471885d5641bdd2876ab",
            "fda72b6951ae4cbf9e58724cf05ae5a8",
            "ee2a7816a3944e5ab037c06bf9c02197",
            "b583b65b53274e79ab83d54939a7bdaa",
            "92efd950ccd047edb1fe9d804e4f99db",
            "49676bd6255c4492ac8b3273adf2123a",
            "3b2e8157b44949ed9164ee5b866cb6b7",
            "8dff5d2e54304db79ad28d036ad51dad",
            "a602a40eb7a54a38946f9d47b935fe69",
            "4573985cceb144918f49513c6b992aae",
            "3f650bdfe80e43359fe6cd21cda15178",
            "15135b9306b84d5fb0c0672f9a543db9",
            "ec43ab5ecf0a4ad2bc4139593442dc03",
            "4be9a67ecd7b48c7b9fc697b66bdd03d",
            "e56ca3de24a24f6c8ef648385a63c3f3",
            "ec3296a21e3241f2aa99a8f116cf463a",
            "e83225134e72473489d7721b6509322c",
            "324a18060e2f4a32b3190f5e72143f13",
            "e2b60e1ce7ae4129b73c8751d821b77e",
            "289b9e8543d247bf96973f531044e6ca",
            "4db4d11ced4c4c178439fd5a1580eb51",
            "14f42fd71d9949fb9f00eee55765f726",
            "d0c67f1e87c044d882490cefb0a04e93",
            "ad08ad8ecf6748fdbbc64be6e4fb702c",
            "4557e6a64bb54b0b8371ea23821c7d49",
            "6de731c36d774cd28c55dce7c94bb757"
          ]
        },
        "id": "Q7mfTNboi9HL",
        "outputId": "9d446eb5-81f6-484c-95c0-f847ac1e6c13"
      },
      "outputs": [
        {
          "output_type": "stream",
          "name": "stdout",
          "text": [
            "Using device: cuda\n",
            "Using GPU: Tesla T4\n"
          ]
        },
        {
          "output_type": "stream",
          "name": "stderr",
          "text": [
            "/usr/local/lib/python3.10/dist-packages/huggingface_hub/utils/_auth.py:94: UserWarning: \n",
            "The secret `HF_TOKEN` does not exist in your Colab secrets.\n",
            "To authenticate with the Hugging Face Hub, create a token in your settings tab (https://huggingface.co/settings/tokens), set it as secret in your Google Colab and restart your session.\n",
            "You will be able to reuse this secret in all of your notebooks.\n",
            "Please note that authentication is recommended but still optional to access public models or datasets.\n",
            "  warnings.warn(\n"
          ]
        },
        {
          "output_type": "display_data",
          "data": {
            "text/plain": [
              "config.json:   0%|          | 0.00/1.80k [00:00<?, ?B/s]"
            ],
            "application/vnd.jupyter.widget-view+json": {
              "version_major": 2,
              "version_minor": 0,
              "model_id": "d1f41ee45433487d989367eb199f6b1d"
            }
          },
          "metadata": {}
        },
        {
          "output_type": "display_data",
          "data": {
            "text/plain": [
              "pytorch_model.bin:   0%|          | 0.00/1.22G [00:00<?, ?B/s]"
            ],
            "application/vnd.jupyter.widget-view+json": {
              "version_major": 2,
              "version_minor": 0,
              "model_id": "80b1e8c580f04d75846ee35a7d1cef79"
            }
          },
          "metadata": {}
        },
        {
          "output_type": "display_data",
          "data": {
            "text/plain": [
              "tokenizer_config.json:   0%|          | 0.00/26.0 [00:00<?, ?B/s]"
            ],
            "application/vnd.jupyter.widget-view+json": {
              "version_major": 2,
              "version_minor": 0,
              "model_id": "7b7dd4c8ea914345980fab3b97829be2"
            }
          },
          "metadata": {}
        },
        {
          "output_type": "display_data",
          "data": {
            "text/plain": [
              "vocab.json:   0%|          | 0.00/899k [00:00<?, ?B/s]"
            ],
            "application/vnd.jupyter.widget-view+json": {
              "version_major": 2,
              "version_minor": 0,
              "model_id": "92efd950ccd047edb1fe9d804e4f99db"
            }
          },
          "metadata": {}
        },
        {
          "output_type": "display_data",
          "data": {
            "text/plain": [
              "merges.txt:   0%|          | 0.00/456k [00:00<?, ?B/s]"
            ],
            "application/vnd.jupyter.widget-view+json": {
              "version_major": 2,
              "version_minor": 0,
              "model_id": "ec3296a21e3241f2aa99a8f116cf463a"
            }
          },
          "metadata": {}
        },
        {
          "output_type": "stream",
          "name": "stdout",
          "text": [
            "Found 109 PDF files to process\n"
          ]
        },
        {
          "output_type": "stream",
          "name": "stderr",
          "text": [
            "\rProcessing PDFs:   0%|          | 0/109 [00:00<?, ?it/s]"
          ]
        },
        {
          "output_type": "stream",
          "name": "stdout",
          "text": [
            "\n",
            "Processing: TP_2004_8_scc_644_652_johri67_yahoocom_20240927_123744_1_9.pdf\n",
            "\n",
            "Attempting to convert Dataset/TP_2004_8_scc_644_652_johri67_yahoocom_20240927_123744_1_9.pdf to text...\n",
            "Successfully converted PDF to 9 images\n",
            "Processing page 1/9\n",
            "Processing page 2/9\n",
            "Processing page 3/9\n",
            "Processing page 4/9\n",
            "Processing page 5/9\n",
            "Processing page 6/9\n",
            "Processing page 7/9\n",
            "Processing page 8/9\n",
            "Processing page 9/9\n",
            "Text extraction complete. Extracted 31494 characters\n"
          ]
        },
        {
          "output_type": "stream",
          "name": "stderr",
          "text": [
            "\rProcessing PDFs:   1%|          | 1/109 [01:45<3:10:20, 105.75s/it]"
          ]
        },
        {
          "output_type": "stream",
          "name": "stdout",
          "text": [
            "\n",
            "Processing: TP_2022_15_scc_593_595_johri67_yahoocom_20240917_151346_1_3.pdf\n",
            "\n",
            "Attempting to convert Dataset/TP_2022_15_scc_593_595_johri67_yahoocom_20240917_151346_1_3.pdf to text...\n",
            "Successfully converted PDF to 3 images\n",
            "Processing page 1/3\n",
            "Processing page 2/3\n",
            "Processing page 3/3\n",
            "Text extraction complete. Extracted 9598 characters\n"
          ]
        },
        {
          "output_type": "stream",
          "name": "stderr",
          "text": [
            "\rProcessing PDFs:   2%|▏         | 2/109 [02:18<1:51:42, 62.64s/it] "
          ]
        },
        {
          "output_type": "stream",
          "name": "stdout",
          "text": [
            "\n",
            "Processing: J_2020_SCC_OnLine_Ker_11961_johri67_yahoocom_20240917_142949_1_1.pdf\n",
            "\n",
            "Attempting to convert Dataset/J_2020_SCC_OnLine_Ker_11961_johri67_yahoocom_20240917_142949_1_1.pdf to text...\n",
            "Successfully converted PDF to 1 images\n",
            "Processing page 1/1\n"
          ]
        },
        {
          "output_type": "stream",
          "name": "stderr",
          "text": [
            "\rProcessing PDFs:   3%|▎         | 3/109 [02:28<1:08:08, 38.57s/it]"
          ]
        },
        {
          "output_type": "stream",
          "name": "stdout",
          "text": [
            "Text extraction complete. Extracted 2437 characters\n",
            "\n",
            "Processing: TP_2018_9_scc_798_800_johri67_yahoocom_20240927_123728_1_3.pdf\n",
            "\n",
            "Attempting to convert Dataset/TP_2018_9_scc_798_800_johri67_yahoocom_20240927_123728_1_3.pdf to text...\n",
            "Successfully converted PDF to 3 images\n",
            "Processing page 1/3\n",
            "Processing page 2/3\n",
            "Processing page 3/3\n",
            "Text extraction complete. Extracted 9343 characters\n"
          ]
        },
        {
          "output_type": "stream",
          "name": "stderr",
          "text": [
            "\rProcessing PDFs:   4%|▎         | 4/109 [02:57<1:01:24, 35.09s/it]"
          ]
        },
        {
          "output_type": "stream",
          "name": "stdout",
          "text": [
            "\n",
            "Processing: TP_2015_3_scc_779_799_johri67_yahoocom_20240927_121140_1_21.pdf\n",
            "\n",
            "Attempting to convert Dataset/TP_2015_3_scc_779_799_johri67_yahoocom_20240927_121140_1_21.pdf to text...\n",
            "Successfully converted PDF to 21 images\n",
            "Processing page 1/21\n",
            "Processing page 2/21\n",
            "Processing page 3/21\n",
            "Processing page 4/21\n",
            "Processing page 5/21\n",
            "Processing page 6/21\n",
            "Processing page 7/21\n",
            "Processing page 8/21\n",
            "Processing page 9/21\n",
            "Processing page 10/21\n",
            "Processing page 11/21\n",
            "Processing page 12/21\n",
            "Processing page 13/21\n",
            "Processing page 14/21\n",
            "Processing page 15/21\n",
            "Processing page 16/21\n",
            "Processing page 17/21\n",
            "Processing page 18/21\n",
            "Processing page 19/21\n",
            "Processing page 20/21\n",
            "Processing page 21/21\n",
            "Text extraction complete. Extracted 76054 characters\n"
          ]
        },
        {
          "output_type": "stream",
          "name": "stderr",
          "text": [
            "\rProcessing PDFs:   5%|▍         | 5/109 [07:01<3:11:15, 110.34s/it]"
          ]
        },
        {
          "output_type": "stream",
          "name": "stdout",
          "text": [
            "\n",
            "Processing: J_2001_SCC_OnLine_Bom_875_johri67_yahoocom_20240927_120755_1_2.pdf\n",
            "\n",
            "Attempting to convert Dataset/J_2001_SCC_OnLine_Bom_875_johri67_yahoocom_20240927_120755_1_2.pdf to text...\n",
            "Successfully converted PDF to 2 images\n",
            "Processing page 1/2\n",
            "Processing page 2/2\n",
            "Text extraction complete. Extracted 4173 characters\n"
          ]
        },
        {
          "output_type": "stream",
          "name": "stderr",
          "text": [
            "\rProcessing PDFs:   6%|▌         | 6/109 [07:18<2:15:02, 78.66s/it] "
          ]
        },
        {
          "output_type": "stream",
          "name": "stdout",
          "text": [
            "\n",
            "Processing: TP_2023_6_scc_76_91_johri67_yahoocom_20240917_142156_1_16.pdf\n",
            "\n",
            "Attempting to convert Dataset/TP_2023_6_scc_76_91_johri67_yahoocom_20240917_142156_1_16.pdf to text...\n",
            "Successfully converted PDF to 16 images\n",
            "Processing page 1/16\n",
            "Processing page 2/16\n",
            "Processing page 3/16\n",
            "Processing page 4/16\n",
            "Processing page 5/16\n",
            "Processing page 6/16\n",
            "Processing page 7/16\n",
            "Processing page 8/16\n",
            "Processing page 9/16\n",
            "Processing page 10/16\n",
            "Processing page 11/16\n",
            "Processing page 12/16\n",
            "Processing page 13/16\n",
            "Processing page 14/16\n",
            "Processing page 15/16\n",
            "Processing page 16/16\n",
            "Text extraction complete. Extracted 52920 characters\n"
          ]
        },
        {
          "output_type": "stream",
          "name": "stderr",
          "text": [
            "\rProcessing PDFs:   6%|▋         | 7/109 [10:09<3:04:38, 108.61s/it]"
          ]
        },
        {
          "output_type": "stream",
          "name": "stdout",
          "text": [
            "\n",
            "Processing: TP_2004_13_scc_681_682_johri67_yahoocom_20240927_121808_1_2.pdf\n",
            "\n",
            "Attempting to convert Dataset/TP_2004_13_scc_681_682_johri67_yahoocom_20240927_121808_1_2.pdf to text...\n",
            "Successfully converted PDF to 2 images\n",
            "Processing page 1/2\n",
            "Processing page 2/2\n",
            "Text extraction complete. Extracted 5870 characters\n"
          ]
        },
        {
          "output_type": "stream",
          "name": "stderr",
          "text": [
            "\rProcessing PDFs:   7%|▋         | 8/109 [10:29<2:15:34, 80.54s/it] "
          ]
        },
        {
          "output_type": "stream",
          "name": "stdout",
          "text": [
            "\n",
            "Processing: TP_2007_11_scc_265_269_johri67_yahoocom_20240927_125356_1_5.pdf\n",
            "\n",
            "Attempting to convert Dataset/TP_2007_11_scc_265_269_johri67_yahoocom_20240927_125356_1_5.pdf to text...\n",
            "Successfully converted PDF to 5 images\n",
            "Processing page 1/5\n",
            "Processing page 2/5\n",
            "Processing page 3/5\n",
            "Processing page 4/5\n",
            "Processing page 5/5\n",
            "Text extraction complete. Extracted 16225 characters\n"
          ]
        },
        {
          "output_type": "stream",
          "name": "stderr",
          "text": [
            "\rProcessing PDFs:   8%|▊         | 9/109 [11:22<2:00:03, 72.04s/it]"
          ]
        },
        {
          "output_type": "stream",
          "name": "stdout",
          "text": [
            "\n",
            "Processing: TP_2006_5_scc_228_239_johri67_yahoocom_20240927_122631_1_12.pdf\n",
            "\n",
            "Attempting to convert Dataset/TP_2006_5_scc_228_239_johri67_yahoocom_20240927_122631_1_12.pdf to text...\n",
            "Successfully converted PDF to 12 images\n",
            "Processing page 1/12\n",
            "Processing page 2/12\n",
            "Processing page 3/12\n",
            "Processing page 4/12\n",
            "Processing page 5/12\n",
            "Processing page 6/12\n",
            "Processing page 7/12\n",
            "Processing page 8/12\n",
            "Processing page 9/12\n",
            "Processing page 10/12\n",
            "Processing page 11/12\n",
            "Processing page 12/12\n",
            "Text extraction complete. Extracted 41247 characters\n"
          ]
        },
        {
          "output_type": "stream",
          "name": "stderr",
          "text": [
            "\rProcessing PDFs:   9%|▉         | 10/109 [13:34<2:28:57, 90.28s/it]"
          ]
        },
        {
          "output_type": "stream",
          "name": "stdout",
          "text": [
            "\n",
            "Processing: TP_2001_9_scc_602_604_johri67_yahoocom_20240927_123936_1_3.pdf\n",
            "\n",
            "Attempting to convert Dataset/TP_2001_9_scc_602_604_johri67_yahoocom_20240927_123936_1_3.pdf to text...\n",
            "Successfully converted PDF to 3 images\n",
            "Processing page 1/3\n",
            "Processing page 2/3\n",
            "Processing page 3/3\n",
            "Text extraction complete. Extracted 10095 characters\n"
          ]
        },
        {
          "output_type": "stream",
          "name": "stderr",
          "text": [
            "\rProcessing PDFs:  10%|█         | 11/109 [14:05<1:57:54, 72.19s/it]"
          ]
        },
        {
          "output_type": "stream",
          "name": "stdout",
          "text": [
            "\n",
            "Processing: TP_2007_1_scc_222_227_johri67_yahoocom_20240927_123806_1_6.pdf\n",
            "\n",
            "Attempting to convert Dataset/TP_2007_1_scc_222_227_johri67_yahoocom_20240927_123806_1_6.pdf to text...\n",
            "Successfully converted PDF to 6 images\n",
            "Processing page 1/6\n",
            "Processing page 2/6\n",
            "Processing page 3/6\n",
            "Processing page 4/6\n",
            "Processing page 5/6\n",
            "Processing page 6/6\n",
            "Text extraction complete. Extracted 20982 characters\n"
          ]
        },
        {
          "output_type": "stream",
          "name": "stderr",
          "text": [
            "\rProcessing PDFs:  11%|█         | 12/109 [15:10<1:53:22, 70.13s/it]"
          ]
        },
        {
          "output_type": "stream",
          "name": "stdout",
          "text": [
            "\n",
            "Processing: TP_2015_16_scc_253_257_johri67_yahoocom_20240927_121431_1_5.pdf\n",
            "\n",
            "Attempting to convert Dataset/TP_2015_16_scc_253_257_johri67_yahoocom_20240927_121431_1_5.pdf to text...\n",
            "Successfully converted PDF to 5 images\n",
            "Processing page 1/5\n",
            "Processing page 2/5\n",
            "Processing page 3/5\n",
            "Processing page 4/5\n",
            "Processing page 5/5\n",
            "Text extraction complete. Extracted 15625 characters\n"
          ]
        },
        {
          "output_type": "stream",
          "name": "stderr",
          "text": [
            "\rProcessing PDFs:  12%|█▏        | 13/109 [16:00<1:42:10, 63.86s/it]"
          ]
        },
        {
          "output_type": "stream",
          "name": "stdout",
          "text": [
            "\n",
            "Processing: TP_2006_10_scc_92_96_johri67_yahoocom_20240927_125323_1_5.pdf\n",
            "\n",
            "Attempting to convert Dataset/TP_2006_10_scc_92_96_johri67_yahoocom_20240927_125323_1_5.pdf to text...\n",
            "Successfully converted PDF to 5 images\n",
            "Processing page 1/5\n",
            "Processing page 2/5\n",
            "Processing page 3/5\n",
            "Processing page 4/5\n",
            "Processing page 5/5\n",
            "Text extraction complete. Extracted 17704 characters\n"
          ]
        },
        {
          "output_type": "stream",
          "name": "stderr",
          "text": [
            "\rProcessing PDFs:  13%|█▎        | 14/109 [16:55<1:37:06, 61.34s/it]"
          ]
        },
        {
          "output_type": "stream",
          "name": "stdout",
          "text": [
            "\n",
            "Processing: J_2024_SCC_OnLine_SC_2433_johri67_yahoocom_20240917_143154_1_6.pdf\n",
            "\n",
            "Attempting to convert Dataset/J_2024_SCC_OnLine_SC_2433_johri67_yahoocom_20240917_143154_1_6.pdf to text...\n",
            "Successfully converted PDF to 6 images\n",
            "Processing page 1/6\n",
            "Processing page 2/6\n",
            "Processing page 3/6\n",
            "Processing page 4/6\n",
            "Processing page 5/6\n",
            "Processing page 6/6\n",
            "Text extraction complete. Extracted 14744 characters\n"
          ]
        },
        {
          "output_type": "stream",
          "name": "stderr",
          "text": [
            "\rProcessing PDFs:  14%|█▍        | 15/109 [17:56<1:35:57, 61.25s/it]"
          ]
        },
        {
          "output_type": "stream",
          "name": "stdout",
          "text": [
            "\n",
            "Processing: TP_2006_12_scc_114_116_johri67_yahoocom_20240927_123907_1_3.pdf\n",
            "\n",
            "Attempting to convert Dataset/TP_2006_12_scc_114_116_johri67_yahoocom_20240927_123907_1_3.pdf to text...\n",
            "Successfully converted PDF to 3 images\n",
            "Processing page 1/3\n",
            "Processing page 2/3\n",
            "Processing page 3/3\n",
            "Text extraction complete. Extracted 9491 characters\n"
          ]
        },
        {
          "output_type": "stream",
          "name": "stderr",
          "text": [
            "\rProcessing PDFs:  15%|█▍        | 16/109 [18:25<1:19:38, 51.38s/it]"
          ]
        },
        {
          "output_type": "stream",
          "name": "stdout",
          "text": [
            "\n",
            "Processing: J_2019_SCC_OnLine_Del_8140_2020_Cri_LJ_NOC_93_31_johri67_yahoocom_20240917_143300_1_12.pdf\n",
            "\n",
            "Attempting to convert Dataset/J_2019_SCC_OnLine_Del_8140_2020_Cri_LJ_NOC_93_31_johri67_yahoocom_20240917_143300_1_12.pdf to text...\n",
            "Successfully converted PDF to 12 images\n",
            "Processing page 1/12\n",
            "Processing page 2/12\n",
            "Processing page 3/12\n",
            "Processing page 4/12\n",
            "Processing page 5/12\n",
            "Processing page 6/12\n",
            "Processing page 7/12\n",
            "Processing page 8/12\n",
            "Processing page 9/12\n",
            "Processing page 10/12\n",
            "Processing page 11/12\n",
            "Processing page 12/12\n",
            "Text extraction complete. Extracted 33342 characters\n"
          ]
        },
        {
          "output_type": "stream",
          "name": "stderr",
          "text": [
            "\rProcessing PDFs:  16%|█▌        | 17/109 [20:51<2:02:31, 79.91s/it]"
          ]
        },
        {
          "output_type": "stream",
          "name": "stdout",
          "text": [
            "\n",
            "Processing: TP_2022_2_scc_567_568_johri67_yahoocom_20240917_144532_1_2.pdf\n",
            "\n",
            "Attempting to convert Dataset/TP_2022_2_scc_567_568_johri67_yahoocom_20240917_144532_1_2.pdf to text...\n",
            "Successfully converted PDF to 2 images\n",
            "Processing page 1/2\n",
            "Processing page 2/2\n",
            "Text extraction complete. Extracted 4294 characters\n"
          ]
        },
        {
          "output_type": "stream",
          "name": "stderr",
          "text": [
            "\rProcessing PDFs:  17%|█▋        | 18/109 [21:05<1:31:17, 60.19s/it]"
          ]
        },
        {
          "output_type": "stream",
          "name": "stdout",
          "text": [
            "\n",
            "Processing: J_2022_SCC_OnLine_NCLT_1027_johri67_yahoocom_20240917_145238_1_1.pdf\n",
            "\n",
            "Attempting to convert Dataset/J_2022_SCC_OnLine_NCLT_1027_johri67_yahoocom_20240917_145238_1_1.pdf to text...\n",
            "Successfully converted PDF to 1 images\n",
            "Processing page 1/1\n"
          ]
        },
        {
          "output_type": "stream",
          "name": "stderr",
          "text": [
            "\rProcessing PDFs:  17%|█▋        | 19/109 [21:12<1:06:17, 44.19s/it]"
          ]
        },
        {
          "output_type": "stream",
          "name": "stdout",
          "text": [
            "Text extraction complete. Extracted 2084 characters\n",
            "\n",
            "Processing: TP_2011_6_scc_376_381_johri67_yahoocom_20240927_121540_1_6.pdf\n",
            "\n",
            "Attempting to convert Dataset/TP_2011_6_scc_376_381_johri67_yahoocom_20240927_121540_1_6.pdf to text...\n",
            "Successfully converted PDF to 6 images\n",
            "Processing page 1/6\n",
            "Processing page 2/6\n",
            "Processing page 3/6\n",
            "Processing page 4/6\n",
            "Processing page 5/6\n",
            "Processing page 6/6\n",
            "Text extraction complete. Extracted 20640 characters\n"
          ]
        },
        {
          "output_type": "stream",
          "name": "stderr",
          "text": [
            "\rProcessing PDFs:  18%|█▊        | 20/109 [22:22<1:17:04, 51.96s/it]"
          ]
        },
        {
          "output_type": "stream",
          "name": "stdout",
          "text": [
            "\n",
            "Processing: TP_2022_12_scc_1_41_johri67_yahoocom_20240917_150404_1_41.pdf\n",
            "\n",
            "Attempting to convert Dataset/TP_2022_12_scc_1_41_johri67_yahoocom_20240917_150404_1_41.pdf to text...\n",
            "Successfully converted PDF to 41 images\n",
            "Processing page 1/41\n",
            "Processing page 2/41\n",
            "Processing page 3/41\n",
            "Processing page 4/41\n",
            "Processing page 5/41\n",
            "Processing page 6/41\n",
            "Processing page 7/41\n",
            "Processing page 8/41\n",
            "Processing page 9/41\n",
            "Processing page 10/41\n",
            "Processing page 11/41\n",
            "Processing page 12/41\n",
            "Processing page 13/41\n",
            "Processing page 14/41\n",
            "Processing page 15/41\n",
            "Processing page 16/41\n",
            "Processing page 17/41\n",
            "Processing page 18/41\n",
            "Processing page 19/41\n",
            "Processing page 20/41\n",
            "Processing page 21/41\n",
            "Processing page 22/41\n",
            "Processing page 23/41\n",
            "Processing page 24/41\n",
            "Processing page 25/41\n",
            "Processing page 26/41\n",
            "Processing page 27/41\n",
            "Processing page 28/41\n",
            "Processing page 29/41\n",
            "Processing page 30/41\n",
            "Processing page 31/41\n",
            "Processing page 32/41\n",
            "Processing page 33/41\n",
            "Processing page 34/41\n",
            "Processing page 35/41\n",
            "Processing page 36/41\n",
            "Processing page 37/41\n",
            "Processing page 38/41\n",
            "Processing page 39/41\n",
            "Processing page 40/41\n",
            "Processing page 41/41\n",
            "Text extraction complete. Extracted 136518 characters\n"
          ]
        },
        {
          "output_type": "stream",
          "name": "stderr",
          "text": [
            "\rProcessing PDFs:  19%|█▉        | 21/109 [29:37<4:04:44, 166.87s/it]"
          ]
        },
        {
          "output_type": "stream",
          "name": "stdout",
          "text": [
            "\n",
            "Processing: J_2022_SCC_OnLine_SC_2155_johri67_yahoocom_20240917_144954_1_29.pdf\n",
            "\n",
            "Attempting to convert Dataset/J_2022_SCC_OnLine_SC_2155_johri67_yahoocom_20240917_144954_1_29.pdf to text...\n",
            "Successfully converted PDF to 29 images\n",
            "Processing page 1/29\n",
            "Processing page 2/29\n",
            "Processing page 3/29\n",
            "Processing page 4/29\n",
            "Processing page 5/29\n",
            "Processing page 6/29\n",
            "Processing page 7/29\n",
            "Processing page 8/29\n",
            "Processing page 9/29\n",
            "Processing page 10/29\n",
            "Processing page 11/29\n",
            "Processing page 12/29\n",
            "Processing page 13/29\n",
            "Processing page 14/29\n",
            "Processing page 15/29\n",
            "Processing page 16/29\n",
            "Processing page 17/29\n",
            "Processing page 18/29\n",
            "Processing page 19/29\n",
            "Processing page 20/29\n",
            "Processing page 21/29\n",
            "Processing page 22/29\n",
            "Processing page 23/29\n",
            "Processing page 24/29\n",
            "Processing page 25/29\n",
            "Processing page 26/29\n",
            "Processing page 27/29\n",
            "Processing page 28/29\n",
            "Processing page 29/29\n",
            "Text extraction complete. Extracted 64676 characters\n"
          ]
        },
        {
          "output_type": "stream",
          "name": "stderr",
          "text": [
            "\rProcessing PDFs:  20%|██        | 22/109 [33:49<4:39:04, 192.47s/it]"
          ]
        },
        {
          "output_type": "stream",
          "name": "stdout",
          "text": [
            "\n",
            "Processing: J_2020_SCC_OnLine_Del_497_johri67_yahoocom_20240927_122413_1_2.pdf\n",
            "\n",
            "Attempting to convert Dataset/J_2020_SCC_OnLine_Del_497_johri67_yahoocom_20240927_122413_1_2.pdf to text...\n",
            "Successfully converted PDF to 2 images\n",
            "Processing page 1/2\n",
            "Processing page 2/2\n",
            "Text extraction complete. Extracted 6790 characters\n"
          ]
        },
        {
          "output_type": "stream",
          "name": "stderr",
          "text": [
            "\rProcessing PDFs:  21%|██        | 23/109 [34:18<3:25:28, 143.35s/it]"
          ]
        },
        {
          "output_type": "stream",
          "name": "stdout",
          "text": [
            "\n",
            "Processing: TP_2021_17_scc_519_520_johri67_yahoocom_20240917_142621_1_2.pdf\n",
            "\n",
            "Attempting to convert Dataset/TP_2021_17_scc_519_520_johri67_yahoocom_20240917_142621_1_2.pdf to text...\n",
            "Successfully converted PDF to 2 images\n",
            "Processing page 1/2\n",
            "Processing page 2/2\n",
            "Text extraction complete. Extracted 5922 characters\n"
          ]
        },
        {
          "output_type": "stream",
          "name": "stderr",
          "text": [
            "\rProcessing PDFs:  22%|██▏       | 24/109 [34:35<2:29:22, 105.44s/it]"
          ]
        },
        {
          "output_type": "stream",
          "name": "stdout",
          "text": [
            "\n",
            "Processing: TP_2018_18_scc_388_391_johri67_yahoocom_20240917_145828_1_4.pdf\n",
            "\n",
            "Attempting to convert Dataset/TP_2018_18_scc_388_391_johri67_yahoocom_20240917_145828_1_4.pdf to text...\n",
            "Successfully converted PDF to 4 images\n",
            "Processing page 1/4\n",
            "Processing page 2/4\n",
            "Processing page 3/4\n",
            "Processing page 4/4\n",
            "Text extraction complete. Extracted 13492 characters\n"
          ]
        },
        {
          "output_type": "stream",
          "name": "stderr",
          "text": [
            "\rProcessing PDFs:  23%|██▎       | 25/109 [35:18<2:01:16, 86.63s/it] "
          ]
        },
        {
          "output_type": "stream",
          "name": "stdout",
          "text": [
            "\n",
            "Processing: TP_2017_2_scc_115_124_johri67_yahoocom_20240927_125737_1_10.pdf\n",
            "\n",
            "Attempting to convert Dataset/TP_2017_2_scc_115_124_johri67_yahoocom_20240927_125737_1_10.pdf to text...\n",
            "Successfully converted PDF to 10 images\n",
            "Processing page 1/10\n",
            "Processing page 2/10\n",
            "Processing page 3/10\n",
            "Processing page 4/10\n",
            "Processing page 5/10\n",
            "Processing page 6/10\n",
            "Processing page 7/10\n",
            "Processing page 8/10\n",
            "Processing page 9/10\n",
            "Processing page 10/10\n",
            "Text extraction complete. Extracted 35349 characters\n"
          ]
        },
        {
          "output_type": "stream",
          "name": "stderr",
          "text": [
            "\rProcessing PDFs:  24%|██▍       | 26/109 [37:09<2:10:05, 94.05s/it]"
          ]
        },
        {
          "output_type": "stream",
          "name": "stdout",
          "text": [
            "\n",
            "Processing: J_2024_SCC_OnLine_SC_425_johri67_yahoocom_20240917_151238_1_6.pdf\n",
            "\n",
            "Attempting to convert Dataset/J_2024_SCC_OnLine_SC_425_johri67_yahoocom_20240917_151238_1_6.pdf to text...\n",
            "Successfully converted PDF to 6 images\n",
            "Processing page 1/6\n",
            "Processing page 2/6\n",
            "Processing page 3/6\n",
            "Processing page 4/6\n",
            "Processing page 5/6\n",
            "Processing page 6/6\n",
            "Text extraction complete. Extracted 14950 characters\n"
          ]
        },
        {
          "output_type": "stream",
          "name": "stderr",
          "text": [
            "\rProcessing PDFs:  25%|██▍       | 27/109 [38:18<1:58:14, 86.51s/it]"
          ]
        },
        {
          "output_type": "stream",
          "name": "stdout",
          "text": [
            "\n",
            "Processing: J_2021_SCC_OnLine_Mad_13750_johri67_yahoocom_20240917_150948_1_1.pdf\n",
            "\n",
            "Attempting to convert Dataset/J_2021_SCC_OnLine_Mad_13750_johri67_yahoocom_20240917_150948_1_1.pdf to text...\n",
            "Successfully converted PDF to 1 images\n",
            "Processing page 1/1\n"
          ]
        },
        {
          "output_type": "stream",
          "name": "stderr",
          "text": [
            "\rProcessing PDFs:  26%|██▌       | 28/109 [38:27<1:25:33, 63.37s/it]"
          ]
        },
        {
          "output_type": "stream",
          "name": "stdout",
          "text": [
            "Text extraction complete. Extracted 2844 characters\n",
            "\n",
            "Processing: TP_2010_11_scc_120_125_johri67_yahoocom_20240927_121855_1_6.pdf\n",
            "\n",
            "Attempting to convert Dataset/TP_2010_11_scc_120_125_johri67_yahoocom_20240927_121855_1_6.pdf to text...\n",
            "Successfully converted PDF to 6 images\n",
            "Processing page 1/6\n",
            "Processing page 2/6\n",
            "Processing page 3/6\n",
            "Processing page 4/6\n",
            "Processing page 5/6\n",
            "Processing page 6/6\n",
            "Text extraction complete. Extracted 20217 characters\n"
          ]
        },
        {
          "output_type": "stream",
          "name": "stderr",
          "text": [
            "\rProcessing PDFs:  27%|██▋       | 29/109 [39:33<1:25:36, 64.21s/it]"
          ]
        },
        {
          "output_type": "stream",
          "name": "stdout",
          "text": [
            "\n",
            "Processing: J_2019_SCC_OnLine_SC_1761_2019_309_CTR_168_johri67_yahoocom_20240917_150447_1_1.pdf\n",
            "\n",
            "Attempting to convert Dataset/J_2019_SCC_OnLine_SC_1761_2019_309_CTR_168_johri67_yahoocom_20240917_150447_1_1.pdf to text...\n",
            "Successfully converted PDF to 1 images\n",
            "Processing page 1/1\n"
          ]
        },
        {
          "output_type": "stream",
          "name": "stderr",
          "text": [
            "\rProcessing PDFs:  28%|██▊       | 30/109 [39:43<1:03:04, 47.91s/it]"
          ]
        },
        {
          "output_type": "stream",
          "name": "stdout",
          "text": [
            "Text extraction complete. Extracted 2612 characters\n",
            "\n",
            "Processing: TP_2023_8_scc_175_180_johri67_yahoocom_20240917_141904_1_6.pdf\n",
            "\n",
            "Attempting to convert Dataset/TP_2023_8_scc_175_180_johri67_yahoocom_20240917_141904_1_6.pdf to text...\n",
            "Successfully converted PDF to 6 images\n",
            "Processing page 1/6\n",
            "Processing page 2/6\n",
            "Processing page 3/6\n",
            "Processing page 4/6\n",
            "Processing page 5/6\n",
            "Processing page 6/6\n",
            "Text extraction complete. Extracted 20901 characters\n"
          ]
        },
        {
          "output_type": "stream",
          "name": "stderr",
          "text": [
            "\rProcessing PDFs:  28%|██▊       | 31/109 [40:49<1:09:18, 53.31s/it]"
          ]
        },
        {
          "output_type": "stream",
          "name": "stdout",
          "text": [
            "\n",
            "Processing: TP_2001_7_scc_417_425_johri67_yahoocom_20240927_123845_1_9.pdf\n",
            "\n",
            "Attempting to convert Dataset/TP_2001_7_scc_417_425_johri67_yahoocom_20240927_123845_1_9.pdf to text...\n",
            "Successfully converted PDF to 9 images\n",
            "Processing page 1/9\n",
            "Processing page 2/9\n",
            "Processing page 3/9\n",
            "Processing page 4/9\n",
            "Processing page 5/9\n",
            "Processing page 6/9\n",
            "Processing page 7/9\n",
            "Processing page 8/9\n",
            "Processing page 9/9\n",
            "Text extraction complete. Extracted 32310 characters\n"
          ]
        },
        {
          "output_type": "stream",
          "name": "stderr",
          "text": [
            "\rProcessing PDFs:  29%|██▉       | 32/109 [42:35<1:28:34, 69.02s/it]"
          ]
        },
        {
          "output_type": "stream",
          "name": "stdout",
          "text": [
            "\n",
            "Processing: J_2021_SCC_OnLine_Bom_609_2021_3_AIR_Bom_R_Cri_23_20_johri67_yahoocom_20240917_151631_1_4.pdf\n",
            "\n",
            "Attempting to convert Dataset/J_2021_SCC_OnLine_Bom_609_2021_3_AIR_Bom_R_Cri_23_20_johri67_yahoocom_20240917_151631_1_4.pdf to text...\n",
            "Successfully converted PDF to 4 images\n",
            "Processing page 1/4\n",
            "Processing page 2/4\n",
            "Processing page 3/4\n",
            "Processing page 4/4\n",
            "Text extraction complete. Extracted 9086 characters\n"
          ]
        },
        {
          "output_type": "stream",
          "name": "stderr",
          "text": [
            "\rProcessing PDFs:  30%|███       | 33/109 [43:16<1:16:41, 60.55s/it]"
          ]
        },
        {
          "output_type": "stream",
          "name": "stdout",
          "text": [
            "\n",
            "Processing: TP_1988_4_scc_54_59_johri67_yahoocom_20240927_125833_1_6.pdf\n",
            "\n",
            "Attempting to convert Dataset/TP_1988_4_scc_54_59_johri67_yahoocom_20240927_125833_1_6.pdf to text...\n",
            "Successfully converted PDF to 6 images\n",
            "Processing page 1/6\n",
            "Processing page 2/6\n",
            "Processing page 3/6\n",
            "Processing page 4/6\n",
            "Processing page 5/6\n",
            "Processing page 6/6\n",
            "Text extraction complete. Extracted 18237 characters\n"
          ]
        },
        {
          "output_type": "stream",
          "name": "stderr",
          "text": [
            "\rProcessing PDFs:  31%|███       | 34/109 [44:14<1:14:55, 59.94s/it]"
          ]
        },
        {
          "output_type": "stream",
          "name": "stdout",
          "text": [
            "\n",
            "Processing: TP_2022_8_scc_499_501_johri67_yahoocom_20240917_150321_1_3.pdf\n",
            "\n",
            "Attempting to convert Dataset/TP_2022_8_scc_499_501_johri67_yahoocom_20240917_150321_1_3.pdf to text...\n",
            "Successfully converted PDF to 3 images\n",
            "Processing page 1/3\n",
            "Processing page 2/3\n",
            "Processing page 3/3\n",
            "Text extraction complete. Extracted 8626 characters\n"
          ]
        },
        {
          "output_type": "stream",
          "name": "stderr",
          "text": [
            "\rProcessing PDFs:  32%|███▏      | 35/109 [44:43<1:02:34, 50.74s/it]"
          ]
        },
        {
          "output_type": "stream",
          "name": "stdout",
          "text": [
            "\n",
            "Processing: J_2022_SCC_OnLine_SC_2178_2023_240_COMP_CAS_985_johri67_yahoocom_20240917_150913_1_1.pdf\n",
            "\n",
            "Attempting to convert Dataset/J_2022_SCC_OnLine_SC_2178_2023_240_COMP_CAS_985_johri67_yahoocom_20240917_150913_1_1.pdf to text...\n",
            "Successfully converted PDF to 1 images\n",
            "Processing page 1/1\n",
            "Text extraction complete. Extracted 2180 characters\n",
            "\n",
            "Processing: J_2020_SCC_OnLine_All_267_2020_112_ACC_574_johri67_yahoocom_20240917_150645_1_7.pdf\n",
            "\n",
            "Attempting to convert Dataset/J_2020_SCC_OnLine_All_267_2020_112_ACC_574_johri67_yahoocom_20240917_150645_1_7.pdf to text...\n",
            "Successfully converted PDF to 7 images\n",
            "Processing page 1/7\n",
            "Processing page 2/7\n",
            "Processing page 3/7\n",
            "Processing page 4/7\n",
            "Processing page 5/7\n",
            "Processing page 6/7\n",
            "Processing page 7/7\n",
            "Text extraction complete. Extracted 18339 characters\n"
          ]
        },
        {
          "output_type": "stream",
          "name": "stderr",
          "text": [
            "\rProcessing PDFs:  34%|███▍      | 37/109 [46:13<1:01:04, 50.90s/it]"
          ]
        },
        {
          "output_type": "stream",
          "name": "stdout",
          "text": [
            "\n",
            "Processing: J_2021_SCC_OnLine_Ker_14313_johri67_yahoocom_20240917_143023_1_2.pdf\n",
            "\n",
            "Attempting to convert Dataset/J_2021_SCC_OnLine_Ker_14313_johri67_yahoocom_20240917_143023_1_2.pdf to text...\n",
            "Successfully converted PDF to 2 images\n",
            "Processing page 1/2\n",
            "Processing page 2/2\n"
          ]
        },
        {
          "output_type": "stream",
          "name": "stderr",
          "text": [
            "\rProcessing PDFs:  35%|███▍      | 38/109 [46:29<47:50, 40.43s/it]  "
          ]
        },
        {
          "output_type": "stream",
          "name": "stdout",
          "text": [
            "Text extraction complete. Extracted 3715 characters\n",
            "\n",
            "Processing: TP_2008_1_scc_716_719_johri67_yahoocom_20240927_121830_1_4.pdf\n",
            "\n",
            "Attempting to convert Dataset/TP_2008_1_scc_716_719_johri67_yahoocom_20240927_121830_1_4.pdf to text...\n",
            "Successfully converted PDF to 4 images\n",
            "Processing page 1/4\n",
            "Processing page 2/4\n",
            "Processing page 3/4\n",
            "Processing page 4/4\n",
            "Text extraction complete. Extracted 13323 characters\n"
          ]
        },
        {
          "output_type": "stream",
          "name": "stderr",
          "text": [
            "\rProcessing PDFs:  36%|███▌      | 39/109 [47:12<48:01, 41.17s/it]"
          ]
        },
        {
          "output_type": "stream",
          "name": "stdout",
          "text": [
            "\n",
            "Processing: TP_2012_9_scc_235_240_johri67_yahoocom_20240927_121915_1_6.pdf\n",
            "\n",
            "Attempting to convert Dataset/TP_2012_9_scc_235_240_johri67_yahoocom_20240927_121915_1_6.pdf to text...\n",
            "Successfully converted PDF to 6 images\n",
            "Processing page 1/6\n",
            "Processing page 2/6\n",
            "Processing page 3/6\n",
            "Processing page 4/6\n",
            "Processing page 5/6\n",
            "Processing page 6/6\n",
            "Text extraction complete. Extracted 19632 characters\n"
          ]
        },
        {
          "output_type": "stream",
          "name": "stderr",
          "text": [
            "\rProcessing PDFs:  37%|███▋      | 40/109 [48:17<55:40, 48.41s/it]"
          ]
        },
        {
          "output_type": "stream",
          "name": "stdout",
          "text": [
            "\n",
            "Processing: J_2009_SCC_OnLine_Chh_433_2009_3_CGLJ_307_johri67_yahoocom_20240927_125522_1_16.pdf\n",
            "\n",
            "Attempting to convert Dataset/J_2009_SCC_OnLine_Chh_433_2009_3_CGLJ_307_johri67_yahoocom_20240927_125522_1_16.pdf to text...\n",
            "Successfully converted PDF to 16 images\n",
            "Processing page 1/16\n",
            "Processing page 2/16\n",
            "Processing page 3/16\n",
            "Processing page 4/16\n",
            "Processing page 5/16\n",
            "Processing page 6/16\n",
            "Processing page 7/16\n",
            "Processing page 8/16\n",
            "Processing page 9/16\n",
            "Processing page 10/16\n",
            "Processing page 11/16\n",
            "Processing page 12/16\n",
            "Processing page 13/16\n",
            "Processing page 14/16\n",
            "Processing page 15/16\n",
            "Processing page 16/16\n",
            "Text extraction complete. Extracted 41662 characters\n"
          ]
        },
        {
          "output_type": "stream",
          "name": "stderr",
          "text": [
            "\rProcessing PDFs:  38%|███▊      | 41/109 [51:27<1:43:01, 90.91s/it]"
          ]
        },
        {
          "output_type": "stream",
          "name": "stdout",
          "text": [
            "\n",
            "Processing: J_2020_SCC_OnLine_Del_497_johri67_yahoocom_20240927_122444_1_2.pdf\n",
            "\n",
            "Attempting to convert Dataset/J_2020_SCC_OnLine_Del_497_johri67_yahoocom_20240927_122444_1_2.pdf to text...\n",
            "Successfully converted PDF to 2 images\n",
            "Processing page 1/2\n",
            "Processing page 2/2\n",
            "Text extraction complete. Extracted 6790 characters\n"
          ]
        },
        {
          "output_type": "stream",
          "name": "stderr",
          "text": [
            "\rProcessing PDFs:  39%|███▊      | 42/109 [51:59<1:21:31, 73.01s/it]"
          ]
        },
        {
          "output_type": "stream",
          "name": "stdout",
          "text": [
            "\n",
            "Processing: J_2006_SCC_OnLine_Chh_86_2006_46_AIC_169_2006_1_CGLJ_johri67_yahoocom_20240927_125605_1_5.pdf\n",
            "\n",
            "Attempting to convert Dataset/J_2006_SCC_OnLine_Chh_86_2006_46_AIC_169_2006_1_CGLJ_johri67_yahoocom_20240927_125605_1_5.pdf to text...\n",
            "Successfully converted PDF to 5 images\n",
            "Processing page 1/5\n",
            "Processing page 2/5\n",
            "Processing page 3/5\n",
            "Processing page 4/5\n",
            "Processing page 5/5\n",
            "Text extraction complete. Extracted 16719 characters\n"
          ]
        },
        {
          "output_type": "stream",
          "name": "stderr",
          "text": [
            "\rProcessing PDFs:  39%|███▉      | 43/109 [53:14<1:21:04, 73.71s/it]"
          ]
        },
        {
          "output_type": "stream",
          "name": "stdout",
          "text": [
            "\n",
            "Processing: TP_2008_15_scc_212_215_johri67_yahoocom_20240927_123704_1_4.pdf\n",
            "\n",
            "Attempting to convert Dataset/TP_2008_15_scc_212_215_johri67_yahoocom_20240927_123704_1_4.pdf to text...\n",
            "Successfully converted PDF to 4 images\n",
            "Processing page 1/4\n",
            "Processing page 2/4\n",
            "Processing page 3/4\n",
            "Processing page 4/4\n",
            "Text extraction complete. Extracted 11961 characters\n"
          ]
        },
        {
          "output_type": "stream",
          "name": "stderr",
          "text": [
            "\rProcessing PDFs:  40%|████      | 44/109 [53:51<1:07:52, 62.66s/it]"
          ]
        },
        {
          "output_type": "stream",
          "name": "stdout",
          "text": [
            "\n",
            "Processing: TP_2006_8_scc_629_637_johri67_yahoocom_20240927_123827_1_9.pdf\n",
            "\n",
            "Attempting to convert Dataset/TP_2006_8_scc_629_637_johri67_yahoocom_20240927_123827_1_9.pdf to text...\n",
            "Successfully converted PDF to 9 images\n",
            "Processing page 1/9\n",
            "Processing page 2/9\n",
            "Processing page 3/9\n",
            "Processing page 4/9\n",
            "Processing page 5/9\n",
            "Processing page 6/9\n",
            "Processing page 7/9\n",
            "Processing page 8/9\n",
            "Processing page 9/9\n",
            "Text extraction complete. Extracted 32141 characters\n"
          ]
        },
        {
          "output_type": "stream",
          "name": "stderr",
          "text": [
            "\rProcessing PDFs:  41%|████▏     | 45/109 [55:30<1:18:38, 73.72s/it]"
          ]
        },
        {
          "output_type": "stream",
          "name": "stdout",
          "text": [
            "\n",
            "Processing: TP_1994_supp_3_scc_104_109_johri67_yahoocom_20240927_125908_1_6.pdf\n",
            "\n",
            "Attempting to convert Dataset/TP_1994_supp_3_scc_104_109_johri67_yahoocom_20240927_125908_1_6.pdf to text...\n",
            "Successfully converted PDF to 6 images\n",
            "Processing page 1/6\n",
            "Processing page 2/6\n",
            "Processing page 3/6\n",
            "Processing page 4/6\n",
            "Processing page 5/6\n",
            "Processing page 6/6\n",
            "Text extraction complete. Extracted 21226 characters\n"
          ]
        },
        {
          "output_type": "stream",
          "name": "stderr",
          "text": [
            "\rProcessing PDFs:  42%|████▏     | 46/109 [56:34<1:14:12, 70.67s/it]"
          ]
        },
        {
          "output_type": "stream",
          "name": "stdout",
          "text": [
            "\n",
            "Processing: J_2023_SCC_OnLine_All_2502_2024_162_ALR_819_2024_256_johri67_yahoocom_20240917_144605_1_8.pdf\n",
            "\n",
            "Attempting to convert Dataset/J_2023_SCC_OnLine_All_2502_2024_162_ALR_819_2024_256_johri67_yahoocom_20240917_144605_1_8.pdf to text...\n",
            "Successfully converted PDF to 8 images\n",
            "Processing page 1/8\n",
            "Processing page 2/8\n",
            "Processing page 3/8\n",
            "Processing page 4/8\n",
            "Processing page 5/8\n",
            "Processing page 6/8\n",
            "Processing page 7/8\n",
            "Processing page 8/8\n",
            "Text extraction complete. Extracted 21100 characters\n"
          ]
        },
        {
          "output_type": "stream",
          "name": "stderr",
          "text": [
            "\rProcessing PDFs:  43%|████▎     | 47/109 [58:03<1:18:42, 76.17s/it]"
          ]
        },
        {
          "output_type": "stream",
          "name": "stdout",
          "text": [
            "\n",
            "Processing: J_2017_SCC_OnLine_All_3919_2018_130_ALR_48_2018_190_johri67_yahoocom_20240917_144638_1_5.pdf\n",
            "\n",
            "Attempting to convert Dataset/J_2017_SCC_OnLine_All_3919_2018_130_ALR_48_2018_190_johri67_yahoocom_20240917_144638_1_5.pdf to text...\n",
            "Successfully converted PDF to 5 images\n",
            "Processing page 1/5\n",
            "Processing page 2/5\n",
            "Processing page 3/5\n",
            "Processing page 4/5\n",
            "Processing page 5/5\n",
            "Text extraction complete. Extracted 10898 characters\n"
          ]
        },
        {
          "output_type": "stream",
          "name": "stderr",
          "text": [
            "\rProcessing PDFs:  44%|████▍     | 48/109 [58:46<1:07:16, 66.18s/it]"
          ]
        },
        {
          "output_type": "stream",
          "name": "stdout",
          "text": [
            "\n",
            "Processing: J_2024_SCC_OnLine_Del_2366_johri67_yahoocom_20240917_143224_1_7.pdf\n",
            "\n",
            "Attempting to convert Dataset/J_2024_SCC_OnLine_Del_2366_johri67_yahoocom_20240917_143224_1_7.pdf to text...\n",
            "Successfully converted PDF to 7 images\n",
            "Processing page 1/7\n",
            "Processing page 2/7\n",
            "Processing page 3/7\n",
            "Processing page 4/7\n",
            "Processing page 5/7\n",
            "Processing page 6/7\n",
            "Processing page 7/7\n",
            "Text extraction complete. Extracted 18929 characters\n"
          ]
        },
        {
          "output_type": "stream",
          "name": "stderr",
          "text": [
            "\rProcessing PDFs:  45%|████▍     | 49/109 [1:00:05<1:10:03, 70.06s/it]"
          ]
        },
        {
          "output_type": "stream",
          "name": "stdout",
          "text": [
            "\n",
            "Processing: J_2010_SCC_OnLine_Del_2525_johri67_yahoocom_20240927_120908_1_7.pdf\n",
            "\n",
            "Attempting to convert Dataset/J_2010_SCC_OnLine_Del_2525_johri67_yahoocom_20240927_120908_1_7.pdf to text...\n",
            "Successfully converted PDF to 7 images\n",
            "Processing page 1/7\n",
            "Processing page 2/7\n",
            "Processing page 3/7\n",
            "Processing page 4/7\n",
            "Processing page 5/7\n",
            "Processing page 6/7\n",
            "Processing page 7/7\n",
            "Text extraction complete. Extracted 24449 characters\n"
          ]
        },
        {
          "output_type": "stream",
          "name": "stderr",
          "text": [
            "\rProcessing PDFs:  46%|████▌     | 50/109 [1:01:50<1:19:09, 80.51s/it]"
          ]
        },
        {
          "output_type": "stream",
          "name": "stdout",
          "text": [
            "\n",
            "Processing: J_2019_SCC_OnLine_Bom_714_johri67_yahoocom_20240917_152251_1_8.pdf\n",
            "\n",
            "Attempting to convert Dataset/J_2019_SCC_OnLine_Bom_714_johri67_yahoocom_20240917_152251_1_8.pdf to text...\n",
            "Successfully converted PDF to 8 images\n",
            "Processing page 1/8\n",
            "Processing page 2/8\n",
            "Processing page 3/8\n",
            "Processing page 4/8\n",
            "Processing page 5/8\n",
            "Processing page 6/8\n",
            "Processing page 7/8\n",
            "Processing page 8/8\n",
            "Text extraction complete. Extracted 30359 characters\n"
          ]
        },
        {
          "output_type": "stream",
          "name": "stderr",
          "text": [
            "\rProcessing PDFs:  47%|████▋     | 51/109 [1:03:59<1:32:04, 95.26s/it]"
          ]
        },
        {
          "output_type": "stream",
          "name": "stdout",
          "text": [
            "\n",
            "Processing: TP_2010_1_scc_322_335_johri67_yahoocom_20240927_121942_1_14.pdf\n",
            "\n",
            "Attempting to convert Dataset/TP_2010_1_scc_322_335_johri67_yahoocom_20240927_121942_1_14.pdf to text...\n",
            "Successfully converted PDF to 14 images\n",
            "Processing page 1/14\n",
            "Processing page 2/14\n",
            "Processing page 3/14\n",
            "Processing page 4/14\n",
            "Processing page 5/14\n",
            "Processing page 6/14\n",
            "Processing page 7/14\n",
            "Processing page 8/14\n",
            "Processing page 9/14\n",
            "Processing page 10/14\n",
            "Processing page 11/14\n",
            "Processing page 12/14\n",
            "Processing page 13/14\n",
            "Processing page 14/14\n",
            "Text extraction complete. Extracted 49564 characters\n"
          ]
        },
        {
          "output_type": "stream",
          "name": "stderr",
          "text": [
            "\rProcessing PDFs:  48%|████▊     | 52/109 [1:06:34<1:47:28, 113.13s/it]"
          ]
        },
        {
          "output_type": "stream",
          "name": "stdout",
          "text": [
            "\n",
            "Processing: J_2016_SCC_OnLine_SC_1804_johri67_yahoocom_20240917_150122_1_1.pdf\n",
            "\n",
            "Attempting to convert Dataset/J_2016_SCC_OnLine_SC_1804_johri67_yahoocom_20240917_150122_1_1.pdf to text...\n",
            "Successfully converted PDF to 1 images\n",
            "Processing page 1/1\n"
          ]
        },
        {
          "output_type": "stream",
          "name": "stderr",
          "text": [
            "\rProcessing PDFs:  49%|████▊     | 53/109 [1:06:42<1:16:00, 81.43s/it] "
          ]
        },
        {
          "output_type": "stream",
          "name": "stdout",
          "text": [
            "Text extraction complete. Extracted 1762 characters\n",
            "\n",
            "Processing: J_2023_SCC_OnLine_Utt_918_johri67_yahoocom_20240917_145059_1_2.pdf\n",
            "\n",
            "Attempting to convert Dataset/J_2023_SCC_OnLine_Utt_918_johri67_yahoocom_20240917_145059_1_2.pdf to text...\n",
            "Successfully converted PDF to 2 images\n",
            "Processing page 1/2\n",
            "Processing page 2/2\n",
            "Text extraction complete. Extracted 4429 characters\n"
          ]
        },
        {
          "output_type": "stream",
          "name": "stderr",
          "text": [
            "\rProcessing PDFs:  50%|████▉     | 54/109 [1:06:58<56:46, 61.93s/it]  "
          ]
        },
        {
          "output_type": "stream",
          "name": "stdout",
          "text": [
            "\n",
            "Processing: TP_2010_9_scc_618_629_johri67_yahoocom_20240927_121457_1_12.pdf\n",
            "\n",
            "Attempting to convert Dataset/TP_2010_9_scc_618_629_johri67_yahoocom_20240927_121457_1_12.pdf to text...\n",
            "Successfully converted PDF to 12 images\n",
            "Processing page 1/12\n",
            "Processing page 2/12\n",
            "Processing page 3/12\n",
            "Processing page 4/12\n",
            "Processing page 5/12\n",
            "Processing page 6/12\n",
            "Processing page 7/12\n",
            "Processing page 8/12\n",
            "Processing page 9/12\n",
            "Processing page 10/12\n",
            "Processing page 11/12\n",
            "Processing page 12/12\n",
            "Text extraction complete. Extracted 40354 characters\n"
          ]
        },
        {
          "output_type": "stream",
          "name": "stderr",
          "text": [
            "\rProcessing PDFs:  50%|█████     | 55/109 [1:09:07<1:13:40, 81.86s/it]"
          ]
        },
        {
          "output_type": "stream",
          "name": "stdout",
          "text": [
            "\n",
            "Processing: TP_2013_14_scc_331_340_johri67_yahoocom_20240927_125431_1_10.pdf\n",
            "\n",
            "Attempting to convert Dataset/TP_2013_14_scc_331_340_johri67_yahoocom_20240927_125431_1_10.pdf to text...\n",
            "Successfully converted PDF to 10 images\n",
            "Processing page 1/10\n",
            "Processing page 2/10\n",
            "Processing page 3/10\n",
            "Processing page 4/10\n",
            "Processing page 5/10\n",
            "Processing page 6/10\n",
            "Processing page 7/10\n",
            "Processing page 8/10\n",
            "Processing page 9/10\n",
            "Processing page 10/10\n",
            "Text extraction complete. Extracted 32638 characters\n"
          ]
        },
        {
          "output_type": "stream",
          "name": "stderr",
          "text": [
            "\rProcessing PDFs:  51%|█████▏    | 56/109 [1:10:49<1:17:43, 87.99s/it]"
          ]
        },
        {
          "output_type": "stream",
          "name": "stdout",
          "text": [
            "\n",
            "Processing: TP_2004_4_scc_684_697_johri67_yahoocom_20240927_122803_1_14.pdf\n",
            "\n",
            "Attempting to convert Dataset/TP_2004_4_scc_684_697_johri67_yahoocom_20240927_122803_1_14.pdf to text...\n",
            "Successfully converted PDF to 14 images\n",
            "Processing page 1/14\n",
            "Processing page 2/14\n",
            "Processing page 3/14\n",
            "Processing page 4/14\n",
            "Processing page 5/14\n",
            "Processing page 6/14\n",
            "Processing page 7/14\n",
            "Processing page 8/14\n",
            "Processing page 9/14\n",
            "Processing page 10/14\n",
            "Processing page 11/14\n",
            "Processing page 12/14\n",
            "Processing page 13/14\n",
            "Processing page 14/14\n",
            "Text extraction complete. Extracted 51259 characters\n"
          ]
        },
        {
          "output_type": "stream",
          "name": "stderr",
          "text": [
            "\rProcessing PDFs:  52%|█████▏    | 57/109 [1:13:33<1:36:09, 110.96s/it]"
          ]
        },
        {
          "output_type": "stream",
          "name": "stdout",
          "text": [
            "\n",
            "Processing: TP_2022_13_scc_134_135_johri67_yahoocom_20240917_145029_1_2.pdf\n",
            "\n",
            "Attempting to convert Dataset/TP_2022_13_scc_134_135_johri67_yahoocom_20240917_145029_1_2.pdf to text...\n",
            "Successfully converted PDF to 2 images\n",
            "Processing page 1/2\n",
            "Processing page 2/2\n",
            "Text extraction complete. Extracted 4762 characters\n"
          ]
        },
        {
          "output_type": "stream",
          "name": "stderr",
          "text": [
            "\rProcessing PDFs:  53%|█████▎    | 58/109 [1:13:48<1:09:49, 82.15s/it] "
          ]
        },
        {
          "output_type": "stream",
          "name": "stdout",
          "text": [
            "\n",
            "Processing: N_2011_9_SCC_272_2011_3_SCC_Cri_689_2011_SCC_OnLin_johri67_yahoocom_20240927_121242_1_1.pdf\n",
            "\n",
            "Attempting to convert Dataset/N_2011_9_SCC_272_2011_3_SCC_Cri_689_2011_SCC_OnLin_johri67_yahoocom_20240927_121242_1_1.pdf to text...\n",
            "Successfully converted PDF to 1 images\n",
            "Processing page 1/1\n",
            "Text extraction complete. Extracted 4462 characters\n"
          ]
        },
        {
          "output_type": "stream",
          "name": "stderr",
          "text": [
            "\rProcessing PDFs:  54%|█████▍    | 59/109 [1:14:02<51:27, 61.76s/it]  "
          ]
        },
        {
          "output_type": "stream",
          "name": "stdout",
          "text": [
            "\n",
            "Processing: TP_2005_1_mah_lj_334_338_johri67_yahoocom_20240927_120620_1_5.pdf\n",
            "\n",
            "Attempting to convert Dataset/TP_2005_1_mah_lj_334_338_johri67_yahoocom_20240927_120620_1_5.pdf to text...\n",
            "Successfully converted PDF to 5 images\n",
            "Processing page 1/5\n",
            "Processing page 2/5\n",
            "Processing page 3/5\n",
            "Processing page 4/5\n",
            "Processing page 5/5\n",
            "Text extraction complete. Extracted 17550 characters\n"
          ]
        },
        {
          "output_type": "stream",
          "name": "stderr",
          "text": [
            "\rProcessing PDFs:  55%|█████▌    | 60/109 [1:14:56<48:27, 59.33s/it]"
          ]
        },
        {
          "output_type": "stream",
          "name": "stdout",
          "text": [
            "\n",
            "Processing: TP_2004_3_lln_748_752_johri67_yahoocom_20240927_120843_1_5.pdf\n",
            "\n",
            "Attempting to convert Dataset/TP_2004_3_lln_748_752_johri67_yahoocom_20240927_120843_1_5.pdf to text...\n",
            "Successfully converted PDF to 5 images\n",
            "Processing page 1/5\n",
            "Processing page 2/5\n",
            "Processing page 3/5\n",
            "Processing page 4/5\n",
            "Processing page 5/5\n",
            "Text extraction complete. Extracted 20791 characters\n"
          ]
        },
        {
          "output_type": "stream",
          "name": "stderr",
          "text": [
            "\rProcessing PDFs:  56%|█████▌    | 61/109 [1:15:57<47:48, 59.75s/it]"
          ]
        },
        {
          "output_type": "stream",
          "name": "stdout",
          "text": [
            "\n",
            "Processing: J_2023_SCC_OnLine_Bom_273_2023_1_AIR_Bom_R_Cri_842_johri67_yahoocom_20240917_144006_1_7.pdf\n",
            "\n",
            "Attempting to convert Dataset/J_2023_SCC_OnLine_Bom_273_2023_1_AIR_Bom_R_Cri_842_johri67_yahoocom_20240917_144006_1_7.pdf to text...\n",
            "Successfully converted PDF to 7 images\n",
            "Processing page 1/7\n",
            "Processing page 2/7\n",
            "Processing page 3/7\n",
            "Processing page 4/7\n",
            "Processing page 5/7\n",
            "Processing page 6/7\n",
            "Processing page 7/7\n",
            "Text extraction complete. Extracted 19253 characters\n"
          ]
        },
        {
          "output_type": "stream",
          "name": "stderr",
          "text": [
            "\rProcessing PDFs:  57%|█████▋    | 62/109 [1:17:17<51:34, 65.84s/it]"
          ]
        },
        {
          "output_type": "stream",
          "name": "stdout",
          "text": [
            "\n",
            "Processing: N_2012_10_SCC_561_2013_1_SCC_Cri_105_2012_SCC_OnLi_johri67_yahoocom_20240927_121352_1_3.pdf\n",
            "\n",
            "Attempting to convert Dataset/N_2012_10_SCC_561_2013_1_SCC_Cri_105_2012_SCC_OnLi_johri67_yahoocom_20240927_121352_1_3.pdf to text...\n",
            "Successfully converted PDF to 3 images\n",
            "Processing page 1/3\n",
            "Processing page 2/3\n",
            "Processing page 3/3\n",
            "Text extraction complete. Extracted 9553 characters\n"
          ]
        },
        {
          "output_type": "stream",
          "name": "stderr",
          "text": [
            "\rProcessing PDFs:  58%|█████▊    | 63/109 [1:17:49<42:48, 55.83s/it]"
          ]
        },
        {
          "output_type": "stream",
          "name": "stdout",
          "text": [
            "\n",
            "Processing: TP_2021_10_scc_706_716_johri67_yahoocom_20240917_141627_1_11.pdf\n",
            "\n",
            "Attempting to convert Dataset/TP_2021_10_scc_706_716_johri67_yahoocom_20240917_141627_1_11.pdf to text...\n",
            "Successfully converted PDF to 11 images\n",
            "Processing page 1/11\n",
            "Processing page 2/11\n",
            "Processing page 3/11\n",
            "Processing page 4/11\n",
            "Processing page 5/11\n",
            "Processing page 6/11\n",
            "Processing page 7/11\n",
            "Processing page 8/11\n",
            "Processing page 9/11\n",
            "Processing page 10/11\n",
            "Processing page 11/11\n",
            "Text extraction complete. Extracted 37794 characters\n"
          ]
        },
        {
          "output_type": "stream",
          "name": "stderr",
          "text": [
            "\rProcessing PDFs:  59%|█████▊    | 64/109 [1:19:47<55:51, 74.47s/it]"
          ]
        },
        {
          "output_type": "stream",
          "name": "stdout",
          "text": [
            "\n",
            "Processing: TP_2005_5_scc_181_194_johri67_yahoocom_20240927_122545_1_14.pdf\n",
            "\n",
            "Attempting to convert Dataset/TP_2005_5_scc_181_194_johri67_yahoocom_20240927_122545_1_14.pdf to text...\n",
            "Successfully converted PDF to 14 images\n",
            "Processing page 1/14\n",
            "Processing page 2/14\n",
            "Processing page 3/14\n",
            "Processing page 4/14\n",
            "Processing page 5/14\n",
            "Processing page 6/14\n",
            "Processing page 7/14\n",
            "Processing page 8/14\n",
            "Processing page 9/14\n",
            "Processing page 10/14\n",
            "Processing page 11/14\n",
            "Processing page 12/14\n",
            "Processing page 13/14\n",
            "Processing page 14/14\n",
            "Text extraction complete. Extracted 49977 characters\n"
          ]
        },
        {
          "output_type": "stream",
          "name": "stderr",
          "text": [
            "\rProcessing PDFs:  60%|█████▉    | 65/109 [1:22:25<1:12:59, 99.54s/it]"
          ]
        },
        {
          "output_type": "stream",
          "name": "stdout",
          "text": [
            "\n",
            "Processing: TP_2003_8_scc_250_263_johri67_yahoocom_20240927_125926_1_14.pdf\n",
            "\n",
            "Attempting to convert Dataset/TP_2003_8_scc_250_263_johri67_yahoocom_20240927_125926_1_14.pdf to text...\n",
            "Successfully converted PDF to 14 images\n",
            "Processing page 1/14\n",
            "Processing page 2/14\n",
            "Processing page 3/14\n",
            "Processing page 4/14\n",
            "Processing page 5/14\n",
            "Processing page 6/14\n",
            "Processing page 7/14\n",
            "Processing page 8/14\n",
            "Processing page 9/14\n",
            "Processing page 10/14\n",
            "Processing page 11/14\n",
            "Processing page 12/14\n",
            "Processing page 13/14\n",
            "Processing page 14/14\n",
            "Text extraction complete. Extracted 50044 characters\n"
          ]
        },
        {
          "output_type": "stream",
          "name": "stderr",
          "text": [
            "\rProcessing PDFs:  61%|██████    | 66/109 [1:25:04<1:24:06, 117.37s/it]"
          ]
        },
        {
          "output_type": "stream",
          "name": "stdout",
          "text": [
            "\n",
            "Processing: J_2022_SCC_OnLine_NCLT_11945_johri67_yahoocom_20240917_145132_1_2.pdf\n",
            "\n",
            "Attempting to convert Dataset/J_2022_SCC_OnLine_NCLT_11945_johri67_yahoocom_20240917_145132_1_2.pdf to text...\n",
            "Successfully converted PDF to 2 images\n",
            "Processing page 1/2\n",
            "Processing page 2/2\n"
          ]
        },
        {
          "output_type": "stream",
          "name": "stderr",
          "text": [
            "\rProcessing PDFs:  61%|██████▏   | 67/109 [1:25:16<59:51, 85.52s/it]   "
          ]
        },
        {
          "output_type": "stream",
          "name": "stdout",
          "text": [
            "Text extraction complete. Extracted 2673 characters\n",
            "\n",
            "Processing: J_2020_SCC_OnLine_Bom_3417_johri67_yahoocom_20240917_144306_1_1.pdf\n",
            "\n",
            "Attempting to convert Dataset/J_2020_SCC_OnLine_Bom_3417_johri67_yahoocom_20240917_144306_1_1.pdf to text...\n",
            "Successfully converted PDF to 1 images\n",
            "Processing page 1/1\n"
          ]
        },
        {
          "output_type": "stream",
          "name": "stderr",
          "text": [
            "\rProcessing PDFs:  62%|██████▏   | 68/109 [1:25:28<43:31, 63.71s/it]"
          ]
        },
        {
          "output_type": "stream",
          "name": "stdout",
          "text": [
            "Text extraction complete. Extracted 3225 characters\n",
            "\n",
            "Processing: J_2019_SCC_OnLine_SC_2137_johri67_yahoocom_20240917_144453_1_1.pdf\n",
            "\n",
            "Attempting to convert Dataset/J_2019_SCC_OnLine_SC_2137_johri67_yahoocom_20240917_144453_1_1.pdf to text...\n",
            "Successfully converted PDF to 1 images\n",
            "Processing page 1/1\n"
          ]
        },
        {
          "output_type": "stream",
          "name": "stderr",
          "text": [
            "\rProcessing PDFs:  63%|██████▎   | 69/109 [1:25:39<31:47, 47.69s/it]"
          ]
        },
        {
          "output_type": "stream",
          "name": "stdout",
          "text": [
            "Text extraction complete. Extracted 2614 characters\n",
            "\n",
            "Processing: TP_2010_9_scc_701_712_johri67_yahoocom_20240927_121603_1_12.pdf\n",
            "\n",
            "Attempting to convert Dataset/TP_2010_9_scc_701_712_johri67_yahoocom_20240927_121603_1_12.pdf to text...\n",
            "Successfully converted PDF to 12 images\n",
            "Processing page 1/12\n",
            "Processing page 2/12\n",
            "Processing page 3/12\n",
            "Processing page 4/12\n",
            "Processing page 5/12\n",
            "Processing page 6/12\n",
            "Processing page 7/12\n",
            "Processing page 8/12\n",
            "Processing page 9/12\n",
            "Processing page 10/12\n",
            "Processing page 11/12\n",
            "Processing page 12/12\n",
            "Text extraction complete. Extracted 42940 characters\n"
          ]
        },
        {
          "output_type": "stream",
          "name": "stderr",
          "text": [
            "\rProcessing PDFs:  64%|██████▍   | 70/109 [1:27:57<48:38, 74.83s/it]"
          ]
        },
        {
          "output_type": "stream",
          "name": "stdout",
          "text": [
            "\n",
            "Processing: J_2024_SCC_OnLine_SC_2398_johri67_yahoocom_20240917_150055_1_2.pdf\n",
            "\n",
            "Attempting to convert Dataset/J_2024_SCC_OnLine_SC_2398_johri67_yahoocom_20240917_150055_1_2.pdf to text...\n",
            "Successfully converted PDF to 2 images\n",
            "Processing page 1/2\n",
            "Processing page 2/2\n"
          ]
        },
        {
          "output_type": "stream",
          "name": "stderr",
          "text": [
            "\rProcessing PDFs:  65%|██████▌   | 71/109 [1:28:07<35:10, 55.54s/it]"
          ]
        },
        {
          "output_type": "stream",
          "name": "stdout",
          "text": [
            "Text extraction complete. Extracted 2651 characters\n",
            "\n",
            "Processing: TP_2013_6_scc_333_347_johri67_yahoocom_20240927_125816_1_15.pdf\n",
            "\n",
            "Attempting to convert Dataset/TP_2013_6_scc_333_347_johri67_yahoocom_20240927_125816_1_15.pdf to text...\n",
            "Successfully converted PDF to 15 images\n",
            "Processing page 1/15\n",
            "Processing page 2/15\n",
            "Processing page 3/15\n",
            "Processing page 4/15\n",
            "Processing page 5/15\n",
            "Processing page 6/15\n",
            "Processing page 7/15\n",
            "Processing page 8/15\n",
            "Processing page 9/15\n",
            "Processing page 10/15\n",
            "Processing page 11/15\n",
            "Processing page 12/15\n",
            "Processing page 13/15\n",
            "Processing page 14/15\n",
            "Processing page 15/15\n",
            "Text extraction complete. Extracted 53035 characters\n"
          ]
        },
        {
          "output_type": "stream",
          "name": "stderr",
          "text": [
            "\rProcessing PDFs:  66%|██████▌   | 72/109 [1:30:52<54:27, 88.31s/it]"
          ]
        },
        {
          "output_type": "stream",
          "name": "stdout",
          "text": [
            "\n",
            "Processing: J_2024_SCC_OnLine_All_2396_johri67_yahoocom_20240917_150612_1_4.pdf\n",
            "\n",
            "Attempting to convert Dataset/J_2024_SCC_OnLine_All_2396_johri67_yahoocom_20240917_150612_1_4.pdf to text...\n",
            "Successfully converted PDF to 4 images\n",
            "Processing page 1/4\n",
            "Processing page 2/4\n",
            "Processing page 3/4\n",
            "Processing page 4/4\n",
            "Text extraction complete. Extracted 9144 characters\n"
          ]
        },
        {
          "output_type": "stream",
          "name": "stderr",
          "text": [
            "\rProcessing PDFs:  67%|██████▋   | 73/109 [1:31:31<44:00, 73.34s/it]"
          ]
        },
        {
          "output_type": "stream",
          "name": "stdout",
          "text": [
            "\n",
            "Processing: J_2005_SCC_OnLine_Bom_861_johri67_yahoocom_20240927_120454_1_7.pdf\n",
            "\n",
            "Attempting to convert Dataset/J_2005_SCC_OnLine_Bom_861_johri67_yahoocom_20240927_120454_1_7.pdf to text...\n",
            "Successfully converted PDF to 7 images\n",
            "Processing page 1/7\n",
            "Processing page 2/7\n",
            "Processing page 3/7\n",
            "Processing page 4/7\n",
            "Processing page 5/7\n",
            "Processing page 6/7\n",
            "Processing page 7/7\n",
            "Text extraction complete. Extracted 23803 characters\n"
          ]
        },
        {
          "output_type": "stream",
          "name": "stderr",
          "text": [
            "\rProcessing PDFs:  68%|██████▊   | 74/109 [1:33:15<48:14, 82.69s/it]"
          ]
        },
        {
          "output_type": "stream",
          "name": "stdout",
          "text": [
            "\n",
            "Processing: J_2021_SCC_OnLine_Bom_842_2021_5_Bom_CR_471_johri67_yahoocom_20240917_151454_1_4.pdf\n",
            "\n",
            "Attempting to convert Dataset/J_2021_SCC_OnLine_Bom_842_2021_5_Bom_CR_471_johri67_yahoocom_20240917_151454_1_4.pdf to text...\n",
            "Successfully converted PDF to 4 images\n",
            "Processing page 1/4\n",
            "Processing page 2/4\n",
            "Processing page 3/4\n",
            "Processing page 4/4\n",
            "Text extraction complete. Extracted 9188 characters\n"
          ]
        },
        {
          "output_type": "stream",
          "name": "stderr",
          "text": [
            "\rProcessing PDFs:  69%|██████▉   | 75/109 [1:33:53<39:17, 69.35s/it]"
          ]
        },
        {
          "output_type": "stream",
          "name": "stdout",
          "text": [
            "\n",
            "Processing: TP_2014_5_scc_689_696_johri67_yahoocom_20240927_125415_1_8.pdf\n",
            "\n",
            "Attempting to convert Dataset/TP_2014_5_scc_689_696_johri67_yahoocom_20240927_125415_1_8.pdf to text...\n",
            "Successfully converted PDF to 8 images\n",
            "Processing page 1/8\n",
            "Processing page 2/8\n",
            "Processing page 3/8\n",
            "Processing page 4/8\n",
            "Processing page 5/8\n",
            "Processing page 6/8\n",
            "Processing page 7/8\n",
            "Processing page 8/8\n",
            "Text extraction complete. Extracted 29400 characters\n"
          ]
        },
        {
          "output_type": "stream",
          "name": "stderr",
          "text": [
            "\rProcessing PDFs:  70%|██████▉   | 76/109 [1:35:27<42:07, 76.59s/it]"
          ]
        },
        {
          "output_type": "stream",
          "name": "stdout",
          "text": [
            "\n",
            "Processing: J_2020_SCC_OnLine_Bom_3417_johri67_yahoocom_20240917_144035_1_1.pdf\n",
            "\n",
            "Attempting to convert Dataset/J_2020_SCC_OnLine_Bom_3417_johri67_yahoocom_20240917_144035_1_1.pdf to text...\n",
            "Successfully converted PDF to 1 images\n",
            "Processing page 1/1\n"
          ]
        },
        {
          "output_type": "stream",
          "name": "stderr",
          "text": [
            "\rProcessing PDFs:  71%|███████   | 77/109 [1:35:40<30:38, 57.45s/it]"
          ]
        },
        {
          "output_type": "stream",
          "name": "stdout",
          "text": [
            "Text extraction complete. Extracted 3221 characters\n",
            "\n",
            "Processing: TP_2002_1_scc_652_655_johri67_yahoocom_20240927_122056_1_4.pdf\n",
            "\n",
            "Attempting to convert Dataset/TP_2002_1_scc_652_655_johri67_yahoocom_20240927_122056_1_4.pdf to text...\n",
            "Successfully converted PDF to 4 images\n",
            "Processing page 1/4\n",
            "Processing page 2/4\n",
            "Processing page 3/4\n",
            "Processing page 4/4\n",
            "Text extraction complete. Extracted 12909 characters\n"
          ]
        },
        {
          "output_type": "stream",
          "name": "stderr",
          "text": [
            "\rProcessing PDFs:  72%|███████▏  | 78/109 [1:36:19<26:55, 52.10s/it]"
          ]
        },
        {
          "output_type": "stream",
          "name": "stdout",
          "text": [
            "\n",
            "Processing: TP_2023_9_scc_130_132_johri67_yahoocom_20240917_143914_1_3.pdf\n",
            "\n",
            "Attempting to convert Dataset/TP_2023_9_scc_130_132_johri67_yahoocom_20240917_143914_1_3.pdf to text...\n",
            "Successfully converted PDF to 3 images\n",
            "Processing page 1/3\n",
            "Processing page 2/3\n",
            "Processing page 3/3\n",
            "Text extraction complete. Extracted 8015 characters\n"
          ]
        },
        {
          "output_type": "stream",
          "name": "stderr",
          "text": [
            "\rProcessing PDFs:  72%|███████▏  | 79/109 [1:36:45<22:05, 44.17s/it]"
          ]
        },
        {
          "output_type": "stream",
          "name": "stdout",
          "text": [
            "\n",
            "Processing: TP_2022_3_scc_633_646_johri67_yahoocom_20240927_122155_1_14.pdf\n",
            "\n",
            "Attempting to convert Dataset/TP_2022_3_scc_633_646_johri67_yahoocom_20240927_122155_1_14.pdf to text...\n",
            "Successfully converted PDF to 14 images\n",
            "Processing page 1/14\n",
            "Processing page 2/14\n",
            "Processing page 3/14\n",
            "Processing page 4/14\n",
            "Processing page 5/14\n",
            "Processing page 6/14\n",
            "Processing page 7/14\n",
            "Processing page 8/14\n",
            "Processing page 9/14\n",
            "Processing page 10/14\n",
            "Processing page 11/14\n",
            "Processing page 12/14\n",
            "Processing page 13/14\n",
            "Processing page 14/14\n",
            "Text extraction complete. Extracted 50383 characters\n"
          ]
        },
        {
          "output_type": "stream",
          "name": "stderr",
          "text": [
            "\rProcessing PDFs:  73%|███████▎  | 80/109 [1:39:25<38:06, 78.85s/it]"
          ]
        },
        {
          "output_type": "stream",
          "name": "stdout",
          "text": [
            "\n",
            "Processing: J_2021_SCC_OnLine_Del_3654_johri67_yahoocom_20240927_122348_1_2.pdf\n",
            "\n",
            "Attempting to convert Dataset/J_2021_SCC_OnLine_Del_3654_johri67_yahoocom_20240927_122348_1_2.pdf to text...\n",
            "Successfully converted PDF to 2 images\n",
            "Processing page 1/2\n",
            "Processing page 2/2\n",
            "Text extraction complete. Extracted 6759 characters\n"
          ]
        },
        {
          "output_type": "stream",
          "name": "stderr",
          "text": [
            "\rProcessing PDFs:  74%|███████▍  | 81/109 [1:39:53<29:42, 63.66s/it]"
          ]
        },
        {
          "output_type": "stream",
          "name": "stdout",
          "text": [
            "\n",
            "Processing: TP_2005_11_scc_429_430_johri67_yahoocom_20240927_125259_1_2.pdf\n",
            "\n",
            "Attempting to convert Dataset/TP_2005_11_scc_429_430_johri67_yahoocom_20240927_125259_1_2.pdf to text...\n",
            "Successfully converted PDF to 2 images\n",
            "Processing page 1/2\n",
            "Processing page 2/2\n",
            "Text extraction complete. Extracted 5298 characters\n"
          ]
        },
        {
          "output_type": "stream",
          "name": "stderr",
          "text": [
            "\rProcessing PDFs:  75%|███████▌  | 82/109 [1:40:09<22:15, 49.44s/it]"
          ]
        },
        {
          "output_type": "stream",
          "name": "stdout",
          "text": [
            "\n",
            "Processing: TP_2001_2_mah_lj_500_506_johri67_yahoocom_20240927_120525_1_7.pdf\n",
            "\n",
            "Attempting to convert Dataset/TP_2001_2_mah_lj_500_506_johri67_yahoocom_20240927_120525_1_7.pdf to text...\n",
            "Successfully converted PDF to 7 images\n",
            "Processing page 1/7\n",
            "Processing page 2/7\n",
            "Processing page 3/7\n",
            "Processing page 4/7\n",
            "Processing page 5/7\n",
            "Processing page 6/7\n",
            "Processing page 7/7\n",
            "Text extraction complete. Extracted 22754 characters\n"
          ]
        },
        {
          "output_type": "stream",
          "name": "stderr",
          "text": [
            "\rProcessing PDFs:  76%|███████▌  | 83/109 [1:41:18<23:59, 55.38s/it]"
          ]
        },
        {
          "output_type": "stream",
          "name": "stdout",
          "text": [
            "\n",
            "Processing: TP_2018_12_scc_593_594_johri67_yahoocom_20240917_150021_1_2.pdf\n",
            "\n",
            "Attempting to convert Dataset/TP_2018_12_scc_593_594_johri67_yahoocom_20240917_150021_1_2.pdf to text...\n",
            "Successfully converted PDF to 2 images\n",
            "Processing page 1/2\n",
            "Processing page 2/2\n",
            "Text extraction complete. Extracted 4805 characters\n"
          ]
        },
        {
          "output_type": "stream",
          "name": "stderr",
          "text": [
            "\rProcessing PDFs:  77%|███████▋  | 84/109 [1:41:35<18:14, 43.79s/it]"
          ]
        },
        {
          "output_type": "stream",
          "name": "stdout",
          "text": [
            "\n",
            "Processing: J_2022_SCC_OnLine_SC_942_johri67_yahoocom_20240927_122213_1_5.pdf\n",
            "\n",
            "Attempting to convert Dataset/J_2022_SCC_OnLine_SC_942_johri67_yahoocom_20240927_122213_1_5.pdf to text...\n",
            "Successfully converted PDF to 5 images\n",
            "Processing page 1/5\n",
            "Processing page 2/5\n",
            "Processing page 3/5\n",
            "Processing page 4/5\n",
            "Processing page 5/5\n",
            "Text extraction complete. Extracted 15378 characters\n"
          ]
        },
        {
          "output_type": "stream",
          "name": "stderr",
          "text": [
            "\rProcessing PDFs:  78%|███████▊  | 85/109 [1:42:43<20:21, 50.90s/it]"
          ]
        },
        {
          "output_type": "stream",
          "name": "stdout",
          "text": [
            "\n",
            "Processing: J_2009_SCC_OnLine_Bom_1944_johri67_yahoocom_20240927_120636_1_4.pdf\n",
            "\n",
            "Attempting to convert Dataset/J_2009_SCC_OnLine_Bom_1944_johri67_yahoocom_20240927_120636_1_4.pdf to text...\n",
            "Successfully converted PDF to 4 images\n",
            "Processing page 1/4\n",
            "Processing page 2/4\n",
            "Processing page 3/4\n",
            "Processing page 4/4\n",
            "Text extraction complete. Extracted 13992 characters\n"
          ]
        },
        {
          "output_type": "stream",
          "name": "stderr",
          "text": [
            "\rProcessing PDFs:  79%|███████▉  | 86/109 [1:43:44<20:42, 54.01s/it]"
          ]
        },
        {
          "output_type": "stream",
          "name": "stdout",
          "text": [
            "\n",
            "Processing: N_2010_9_SCC_701_2010_SCC_OnLine_SC_941_johri67_yahoocom_20240927_121309_1_1.pdf\n",
            "\n",
            "Attempting to convert Dataset/N_2010_9_SCC_701_2010_SCC_OnLine_SC_941_johri67_yahoocom_20240927_121309_1_1.pdf to text...\n",
            "Successfully converted PDF to 1 images\n",
            "Processing page 1/1\n",
            "Text extraction complete. Extracted 4936 characters\n"
          ]
        },
        {
          "output_type": "stream",
          "name": "stderr",
          "text": [
            "\rProcessing PDFs:  80%|███████▉  | 87/109 [1:44:01<15:42, 42.86s/it]"
          ]
        },
        {
          "output_type": "stream",
          "name": "stdout",
          "text": [
            "\n",
            "Processing: J_2022_SCC_OnLine_Bom_6591_johri67_yahoocom_20240917_144330_1_2.pdf\n",
            "\n",
            "Attempting to convert Dataset/J_2022_SCC_OnLine_Bom_6591_johri67_yahoocom_20240917_144330_1_2.pdf to text...\n",
            "Successfully converted PDF to 2 images\n",
            "Processing page 1/2\n",
            "Processing page 2/2\n",
            "Text extraction complete. Extracted 5307 characters\n"
          ]
        },
        {
          "output_type": "stream",
          "name": "stderr",
          "text": [
            "\rProcessing PDFs:  81%|████████  | 88/109 [1:44:24<12:55, 36.91s/it]"
          ]
        },
        {
          "output_type": "stream",
          "name": "stdout",
          "text": [
            "\n",
            "Processing: J_2010_SCC_OnLine_Del_1648_johri67_yahoocom_20240927_120933_1_8.pdf\n",
            "\n",
            "Attempting to convert Dataset/J_2010_SCC_OnLine_Del_1648_johri67_yahoocom_20240927_120933_1_8.pdf to text...\n",
            "Successfully converted PDF to 8 images\n",
            "Processing page 1/8\n",
            "Processing page 2/8\n",
            "Processing page 3/8\n",
            "Processing page 4/8\n",
            "Processing page 5/8\n",
            "Processing page 6/8\n",
            "Processing page 7/8\n",
            "Processing page 8/8\n",
            "Text extraction complete. Extracted 20995 characters\n"
          ]
        },
        {
          "output_type": "stream",
          "name": "stderr",
          "text": [
            "\rProcessing PDFs:  82%|████████▏ | 89/109 [1:45:57<17:54, 53.73s/it]"
          ]
        },
        {
          "output_type": "stream",
          "name": "stdout",
          "text": [
            "\n",
            "Processing: TP_2013_10_scc_292_298_johri67_yahoocom_20240927_121645_1_7.pdf\n",
            "\n",
            "Attempting to convert Dataset/TP_2013_10_scc_292_298_johri67_yahoocom_20240927_121645_1_7.pdf to text...\n",
            "Successfully converted PDF to 7 images\n",
            "Processing page 1/7\n",
            "Processing page 2/7\n",
            "Processing page 3/7\n",
            "Processing page 4/7\n",
            "Processing page 5/7\n",
            "Processing page 6/7\n",
            "Processing page 7/7\n",
            "Text extraction complete. Extracted 24314 characters\n"
          ]
        },
        {
          "output_type": "stream",
          "name": "stderr",
          "text": [
            "\rProcessing PDFs:  83%|████████▎ | 90/109 [1:47:13<19:12, 60.64s/it]"
          ]
        },
        {
          "output_type": "stream",
          "name": "stdout",
          "text": [
            "\n",
            "Processing: J_2023_SCC_OnLine_SC_2108_johri67_yahoocom_20240917_150747_1_4.pdf\n",
            "\n",
            "Attempting to convert Dataset/J_2023_SCC_OnLine_SC_2108_johri67_yahoocom_20240917_150747_1_4.pdf to text...\n",
            "Successfully converted PDF to 4 images\n",
            "Processing page 1/4\n",
            "Processing page 2/4\n",
            "Processing page 3/4\n",
            "Processing page 4/4\n",
            "Text extraction complete. Extracted 5887 characters\n"
          ]
        },
        {
          "output_type": "stream",
          "name": "stderr",
          "text": [
            "\rProcessing PDFs:  83%|████████▎ | 91/109 [1:47:34<14:36, 48.67s/it]"
          ]
        },
        {
          "output_type": "stream",
          "name": "stdout",
          "text": [
            "\n",
            "Processing: TP_2007_7_scc_394_413_johri67_yahoocom_20240927_122824_1_20.pdf\n",
            "\n",
            "Attempting to convert Dataset/TP_2007_7_scc_394_413_johri67_yahoocom_20240927_122824_1_20.pdf to text...\n",
            "Successfully converted PDF to 20 images\n",
            "Processing page 1/20\n",
            "Processing page 2/20\n",
            "Processing page 3/20\n",
            "Processing page 4/20\n",
            "Processing page 5/20\n",
            "Processing page 6/20\n",
            "Processing page 7/20\n",
            "Processing page 8/20\n",
            "Processing page 9/20\n",
            "Processing page 10/20\n",
            "Processing page 11/20\n",
            "Processing page 12/20\n",
            "Processing page 13/20\n",
            "Processing page 14/20\n",
            "Processing page 15/20\n",
            "Processing page 16/20\n",
            "Processing page 17/20\n",
            "Processing page 18/20\n",
            "Processing page 19/20\n",
            "Processing page 20/20\n",
            "Text extraction complete. Extracted 71708 characters\n"
          ]
        },
        {
          "output_type": "stream",
          "name": "stderr",
          "text": [
            "\rProcessing PDFs:  84%|████████▍ | 92/109 [1:51:22<29:02, 102.48s/it]"
          ]
        },
        {
          "output_type": "stream",
          "name": "stdout",
          "text": [
            "\n",
            "Processing: J_2007_SCC_OnLine_Bom_1596_2008_1_AIR_Bom_R_284_2008_C_johri67_yahoocom_20240927_120429_1_3.pdf\n",
            "\n",
            "Attempting to convert Dataset/J_2007_SCC_OnLine_Bom_1596_2008_1_AIR_Bom_R_284_2008_C_johri67_yahoocom_20240927_120429_1_3.pdf to text...\n",
            "Successfully converted PDF to 3 images\n",
            "Processing page 1/3\n",
            "Processing page 2/3\n",
            "Processing page 3/3\n",
            "Text extraction complete. Extracted 8646 characters\n"
          ]
        },
        {
          "output_type": "stream",
          "name": "stderr",
          "text": [
            "\rProcessing PDFs:  85%|████████▌ | 93/109 [1:51:58<22:00, 82.51s/it] "
          ]
        },
        {
          "output_type": "stream",
          "name": "stdout",
          "text": [
            "\n",
            "Processing: TP_2002_4_scc_721_726_johri67_yahoocom_20240927_125718_1_6.pdf\n",
            "\n",
            "Attempting to convert Dataset/TP_2002_4_scc_721_726_johri67_yahoocom_20240927_125718_1_6.pdf to text...\n",
            "Successfully converted PDF to 6 images\n",
            "Processing page 1/6\n",
            "Processing page 2/6\n",
            "Processing page 3/6\n",
            "Processing page 4/6\n",
            "Processing page 5/6\n",
            "Processing page 6/6\n",
            "Text extraction complete. Extracted 20662 characters\n"
          ]
        },
        {
          "output_type": "stream",
          "name": "stderr",
          "text": [
            "\rProcessing PDFs:  86%|████████▌ | 94/109 [1:53:05<19:24, 77.67s/it]"
          ]
        },
        {
          "output_type": "stream",
          "name": "stdout",
          "text": [
            "\n",
            "Processing: TP_2023_2_hcc_bom_769_792_johri67_yahoocom_20240917_151425_1_24.pdf\n",
            "\n",
            "Attempting to convert Dataset/TP_2023_2_hcc_bom_769_792_johri67_yahoocom_20240917_151425_1_24.pdf to text...\n",
            "Successfully converted PDF to 24 images\n",
            "Processing page 1/24\n",
            "Processing page 2/24\n",
            "Processing page 3/24\n",
            "Processing page 4/24\n",
            "Processing page 5/24\n",
            "Processing page 6/24\n",
            "Processing page 7/24\n",
            "Processing page 8/24\n",
            "Processing page 9/24\n",
            "Processing page 10/24\n",
            "Processing page 11/24\n",
            "Processing page 12/24\n",
            "Processing page 13/24\n",
            "Processing page 14/24\n",
            "Processing page 15/24\n",
            "Processing page 16/24\n",
            "Processing page 17/24\n",
            "Processing page 18/24\n",
            "Processing page 19/24\n",
            "Processing page 20/24\n",
            "Processing page 21/24\n",
            "Processing page 22/24\n",
            "Processing page 23/24\n",
            "Processing page 24/24\n",
            "Text extraction complete. Extracted 78039 characters\n"
          ]
        },
        {
          "output_type": "stream",
          "name": "stderr",
          "text": [
            "\rProcessing PDFs:  87%|████████▋ | 95/109 [1:57:05<29:30, 126.44s/it]"
          ]
        },
        {
          "output_type": "stream",
          "name": "stdout",
          "text": [
            "\n",
            "Processing: J_2014_SCC_OnLine_Chh_20_2014_Cri_LJ_2684_2015_145_AIC_johri67_yahoocom_20240927_125458_1_5.pdf\n",
            "\n",
            "Attempting to convert Dataset/J_2014_SCC_OnLine_Chh_20_2014_Cri_LJ_2684_2015_145_AIC_johri67_yahoocom_20240927_125458_1_5.pdf to text...\n",
            "Successfully converted PDF to 5 images\n",
            "Processing page 1/5\n",
            "Processing page 2/5\n",
            "Processing page 3/5\n",
            "Processing page 4/5\n",
            "Processing page 5/5\n",
            "Text extraction complete. Extracted 15463 characters\n"
          ]
        },
        {
          "output_type": "stream",
          "name": "stderr",
          "text": [
            "\rProcessing PDFs:  88%|████████▊ | 96/109 [1:58:14<23:38, 109.15s/it]"
          ]
        },
        {
          "output_type": "stream",
          "name": "stdout",
          "text": [
            "\n",
            "Processing: TP_1994_4_scc_78_85_johri67_yahoocom_20240927_125757_1_8.pdf\n",
            "\n",
            "Attempting to convert Dataset/TP_1994_4_scc_78_85_johri67_yahoocom_20240927_125757_1_8.pdf to text...\n",
            "Successfully converted PDF to 8 images\n",
            "Processing page 1/8\n",
            "Processing page 2/8\n",
            "Processing page 3/8\n",
            "Processing page 4/8\n",
            "Processing page 5/8\n",
            "Processing page 6/8\n",
            "Processing page 7/8\n",
            "Processing page 8/8\n",
            "Text extraction complete. Extracted 28293 characters\n"
          ]
        },
        {
          "output_type": "stream",
          "name": "stderr",
          "text": [
            "\rProcessing PDFs:  89%|████████▉ | 97/109 [1:59:37<20:18, 101.51s/it]"
          ]
        },
        {
          "output_type": "stream",
          "name": "stdout",
          "text": [
            "\n",
            "Processing: J_2009_SCC_OnLine_Bom_1190_johri67_yahoocom_20240927_120554_1_5.pdf\n",
            "\n",
            "Attempting to convert Dataset/J_2009_SCC_OnLine_Bom_1190_johri67_yahoocom_20240927_120554_1_5.pdf to text...\n",
            "Successfully converted PDF to 5 images\n",
            "Processing page 1/5\n",
            "Processing page 2/5\n",
            "Processing page 3/5\n",
            "Processing page 4/5\n",
            "Processing page 5/5\n",
            "Text extraction complete. Extracted 21245 characters\n"
          ]
        },
        {
          "output_type": "stream",
          "name": "stderr",
          "text": [
            "\rProcessing PDFs:  90%|████████▉ | 98/109 [2:01:13<18:18, 99.82s/it] "
          ]
        },
        {
          "output_type": "stream",
          "name": "stdout",
          "text": [
            "\n",
            "Processing: J_2022_SCC_OnLine_Del_997_johri67_yahoocom_20240917_142700_1_2.pdf\n",
            "\n",
            "Attempting to convert Dataset/J_2022_SCC_OnLine_Del_997_johri67_yahoocom_20240917_142700_1_2.pdf to text...\n",
            "Successfully converted PDF to 2 images\n",
            "Processing page 1/2\n",
            "Processing page 2/2\n",
            "Text extraction complete. Extracted 5911 characters\n"
          ]
        },
        {
          "output_type": "stream",
          "name": "stderr",
          "text": [
            "\rProcessing PDFs:  91%|█████████ | 99/109 [2:01:38<12:53, 77.34s/it]"
          ]
        },
        {
          "output_type": "stream",
          "name": "stdout",
          "text": [
            "\n",
            "Processing: J_2013_SCC_OnLine_Chh_178_2013_Cri_LJ_1732_2013_2_CGLJ_johri67_yahoocom_20240927_125543_1_8.pdf\n",
            "\n",
            "Attempting to convert Dataset/J_2013_SCC_OnLine_Chh_178_2013_Cri_LJ_1732_2013_2_CGLJ_johri67_yahoocom_20240927_125543_1_8.pdf to text...\n",
            "Successfully converted PDF to 8 images\n",
            "Processing page 1/8\n",
            "Processing page 2/8\n",
            "Processing page 3/8\n",
            "Processing page 4/8\n",
            "Processing page 5/8\n",
            "Processing page 6/8\n",
            "Processing page 7/8\n",
            "Processing page 8/8\n",
            "Text extraction complete. Extracted 26617 characters\n"
          ]
        },
        {
          "output_type": "stream",
          "name": "stderr",
          "text": [
            "\rProcessing PDFs:  92%|█████████▏| 100/109 [2:03:35<13:24, 89.34s/it]"
          ]
        },
        {
          "output_type": "stream",
          "name": "stdout",
          "text": [
            "\n",
            "Processing: TP_2011_10_scc_215_223_johri67_yahoocom_20240927_121111_1_9.pdf\n",
            "\n",
            "Attempting to convert Dataset/TP_2011_10_scc_215_223_johri67_yahoocom_20240927_121111_1_9.pdf to text...\n",
            "Successfully converted PDF to 9 images\n",
            "Processing page 1/9\n",
            "Processing page 2/9\n",
            "Processing page 3/9\n",
            "Processing page 4/9\n",
            "Processing page 5/9\n",
            "Processing page 6/9\n",
            "Processing page 7/9\n",
            "Processing page 8/9\n",
            "Processing page 9/9\n",
            "Text extraction complete. Extracted 30715 characters\n"
          ]
        },
        {
          "output_type": "stream",
          "name": "stderr",
          "text": [
            "\rProcessing PDFs:  93%|█████████▎| 101/109 [2:05:15<12:18, 92.29s/it]"
          ]
        },
        {
          "output_type": "stream",
          "name": "stdout",
          "text": [
            "\n",
            "Processing: TP_2014_15_scc_357_359_johri67_yahoocom_20240927_121051_1_3.pdf\n",
            "\n",
            "Attempting to convert Dataset/TP_2014_15_scc_357_359_johri67_yahoocom_20240927_121051_1_3.pdf to text...\n",
            "Successfully converted PDF to 3 images\n",
            "Processing page 1/3\n",
            "Processing page 2/3\n",
            "Processing page 3/3\n",
            "Text extraction complete. Extracted 8529 characters\n"
          ]
        },
        {
          "output_type": "stream",
          "name": "stderr",
          "text": [
            "\rProcessing PDFs:  94%|█████████▎| 102/109 [2:05:43<08:31, 73.04s/it]"
          ]
        },
        {
          "output_type": "stream",
          "name": "stdout",
          "text": [
            "\n",
            "Processing: J_2023_SCC_OnLine_SC_66_johri67_yahoocom_20240917_151840_1_5.pdf\n",
            "\n",
            "Attempting to convert Dataset/J_2023_SCC_OnLine_SC_66_johri67_yahoocom_20240917_151840_1_5.pdf to text...\n",
            "Successfully converted PDF to 5 images\n",
            "Processing page 1/5\n",
            "Processing page 2/5\n",
            "Processing page 3/5\n",
            "Processing page 4/5\n",
            "Processing page 5/5\n",
            "Text extraction complete. Extracted 13709 characters\n"
          ]
        },
        {
          "output_type": "stream",
          "name": "stderr",
          "text": [
            "\rProcessing PDFs:  94%|█████████▍| 103/109 [2:06:43<06:55, 69.25s/it]"
          ]
        },
        {
          "output_type": "stream",
          "name": "stdout",
          "text": [
            "\n",
            "Processing: J_2022_SCC_OnLine_SC_1032_johri67_yahoocom_20240917_142536_1_5.pdf\n",
            "\n",
            "Attempting to convert Dataset/J_2022_SCC_OnLine_SC_1032_johri67_yahoocom_20240917_142536_1_5.pdf to text...\n",
            "Successfully converted PDF to 5 images\n",
            "Processing page 1/5\n",
            "Processing page 2/5\n",
            "Processing page 3/5\n",
            "Processing page 4/5\n",
            "Processing page 5/5\n",
            "Text extraction complete. Extracted 15177 characters\n"
          ]
        },
        {
          "output_type": "stream",
          "name": "stderr",
          "text": [
            "\rProcessing PDFs:  95%|█████████▌| 104/109 [2:07:50<05:42, 68.52s/it]"
          ]
        },
        {
          "output_type": "stream",
          "name": "stdout",
          "text": [
            "\n",
            "Processing: J_2023_SCC_OnLine_Cal_370_johri67_yahoocom_20240917_150152_1_14.pdf\n",
            "\n",
            "Attempting to convert Dataset/J_2023_SCC_OnLine_Cal_370_johri67_yahoocom_20240917_150152_1_14.pdf to text...\n",
            "Successfully converted PDF to 14 images\n",
            "Processing page 1/14\n",
            "Processing page 2/14\n",
            "Processing page 3/14\n",
            "Processing page 4/14\n",
            "Processing page 5/14\n",
            "Processing page 6/14\n",
            "Processing page 7/14\n",
            "Processing page 8/14\n",
            "Processing page 9/14\n",
            "Processing page 10/14\n",
            "Processing page 11/14\n",
            "Processing page 12/14\n",
            "Processing page 13/14\n",
            "Processing page 14/14\n",
            "Text extraction complete. Extracted 37189 characters\n"
          ]
        },
        {
          "output_type": "stream",
          "name": "stderr",
          "text": [
            "\rProcessing PDFs:  96%|█████████▋| 105/109 [2:10:42<06:37, 99.48s/it]"
          ]
        },
        {
          "output_type": "stream",
          "name": "stdout",
          "text": [
            "\n",
            "Processing: TP_2010_12_scc_190_198_johri67_yahoocom_20240927_123953_1_9.pdf\n",
            "\n",
            "Attempting to convert Dataset/TP_2010_12_scc_190_198_johri67_yahoocom_20240927_123953_1_9.pdf to text...\n",
            "Successfully converted PDF to 9 images\n",
            "Processing page 1/9\n",
            "Processing page 2/9\n",
            "Processing page 3/9\n",
            "Processing page 4/9\n",
            "Processing page 5/9\n",
            "Processing page 6/9\n",
            "Processing page 7/9\n",
            "Processing page 8/9\n",
            "Processing page 9/9\n",
            "Text extraction complete. Extracted 29705 characters\n"
          ]
        },
        {
          "output_type": "stream",
          "name": "stderr",
          "text": [
            "\rProcessing PDFs:  97%|█████████▋| 106/109 [2:12:17<04:54, 98.30s/it]"
          ]
        },
        {
          "output_type": "stream",
          "name": "stdout",
          "text": [
            "\n",
            "Processing: TP_2009_4_scc_439_446_johri67_yahoocom_20240927_122023_1_8.pdf\n",
            "\n",
            "Attempting to convert Dataset/TP_2009_4_scc_439_446_johri67_yahoocom_20240927_122023_1_8.pdf to text...\n",
            "Successfully converted PDF to 8 images\n",
            "Processing page 1/8\n",
            "Processing page 2/8\n",
            "Processing page 3/8\n",
            "Processing page 4/8\n",
            "Processing page 5/8\n",
            "Processing page 6/8\n",
            "Processing page 7/8\n",
            "Processing page 8/8\n",
            "Text extraction complete. Extracted 26906 characters\n"
          ]
        },
        {
          "output_type": "stream",
          "name": "stderr",
          "text": [
            "\rProcessing PDFs:  98%|█████████▊| 107/109 [2:13:43<03:09, 94.67s/it]"
          ]
        },
        {
          "output_type": "stream",
          "name": "stdout",
          "text": [
            "\n",
            "Processing: J_2023_SCC_OnLine_SC_1310_johri67_yahoocom_20240917_142228_1_2.pdf\n",
            "\n",
            "Attempting to convert Dataset/J_2023_SCC_OnLine_SC_1310_johri67_yahoocom_20240917_142228_1_2.pdf to text...\n",
            "Successfully converted PDF to 2 images\n",
            "Processing page 1/2\n",
            "Processing page 2/2\n",
            "Text extraction complete. Extracted 5382 characters\n"
          ]
        },
        {
          "output_type": "stream",
          "name": "stderr",
          "text": [
            "\rProcessing PDFs:  99%|█████████▉| 108/109 [2:14:07<01:13, 73.33s/it]"
          ]
        },
        {
          "output_type": "stream",
          "name": "stdout",
          "text": [
            "\n",
            "Processing: J_2001_SCC_OnLine_Bom_1125_2002_Cri_LJ_1280_johri67_yahoocom_20240927_120727_1_4.pdf\n",
            "\n",
            "Attempting to convert Dataset/J_2001_SCC_OnLine_Bom_1125_2002_Cri_LJ_1280_johri67_yahoocom_20240927_120727_1_4.pdf to text...\n",
            "Successfully converted PDF to 4 images\n",
            "Processing page 1/4\n",
            "Processing page 2/4\n",
            "Processing page 3/4\n",
            "Processing page 4/4\n",
            "Text extraction complete. Extracted 12988 characters\n"
          ]
        },
        {
          "output_type": "stream",
          "name": "stderr",
          "text": [
            "Processing PDFs: 100%|██████████| 109/109 [2:15:03<00:00, 74.34s/it]"
          ]
        },
        {
          "output_type": "stream",
          "name": "stdout",
          "text": [
            "Results saved to output_csv\n"
          ]
        },
        {
          "output_type": "stream",
          "name": "stderr",
          "text": [
            "\n"
          ]
        }
      ],
      "source": [
        "# Third cell - Run the processor\n",
        "# Initialize processor\n",
        "processor = CourtCaseProcessor()\n",
        "\n",
        "# Define paths\n",
        "pdf_folder = r\"Dataset\"  # Update this path\n",
        "output_csv = \"court_cases_summary.csv\"\n",
        "\n",
        "# Process the folder\n",
        "processor.process_folder(pdf_folder, output_csv)"
      ]
    }
  ],
  "metadata": {
    "kernelspec": {
      "display_name": "Python 3",
      "name": "python3"
    },
    "language_info": {
      "codemirror_mode": {
        "name": "ipython",
        "version": 3
      },
      "file_extension": ".py",
      "mimetype": "text/x-python",
      "name": "python",
      "nbconvert_exporter": "python",
      "pygments_lexer": "ipython3",
      "version": "3.12.6"
    },
    "colab": {
      "provenance": [],
      "gpuType": "T4",
      "include_colab_link": true
    },
    "accelerator": "GPU",
    "widgets": {
      "application/vnd.jupyter.widget-state+json": {
        "d1f41ee45433487d989367eb199f6b1d": {
          "model_module": "@jupyter-widgets/controls",
          "model_name": "HBoxModel",
          "model_module_version": "1.5.0",
          "state": {
            "_dom_classes": [],
            "_model_module": "@jupyter-widgets/controls",
            "_model_module_version": "1.5.0",
            "_model_name": "HBoxModel",
            "_view_count": null,
            "_view_module": "@jupyter-widgets/controls",
            "_view_module_version": "1.5.0",
            "_view_name": "HBoxView",
            "box_style": "",
            "children": [
              "IPY_MODEL_44c17789547240e08582e0d4bc0f1b49",
              "IPY_MODEL_33ea19675a824b3581c5f67f3f526507",
              "IPY_MODEL_9ea195c9b7894f87a38c5911f789d3ff"
            ],
            "layout": "IPY_MODEL_ce70b8119bcb43e9a9c3f3be9ea608bd"
          }
        },
        "44c17789547240e08582e0d4bc0f1b49": {
          "model_module": "@jupyter-widgets/controls",
          "model_name": "HTMLModel",
          "model_module_version": "1.5.0",
          "state": {
            "_dom_classes": [],
            "_model_module": "@jupyter-widgets/controls",
            "_model_module_version": "1.5.0",
            "_model_name": "HTMLModel",
            "_view_count": null,
            "_view_module": "@jupyter-widgets/controls",
            "_view_module_version": "1.5.0",
            "_view_name": "HTMLView",
            "description": "",
            "description_tooltip": null,
            "layout": "IPY_MODEL_76084ef43015440282c1b5eba45255e1",
            "placeholder": "​",
            "style": "IPY_MODEL_bbf167a683514b97a1f15f9224dbfa05",
            "value": "config.json: 100%"
          }
        },
        "33ea19675a824b3581c5f67f3f526507": {
          "model_module": "@jupyter-widgets/controls",
          "model_name": "FloatProgressModel",
          "model_module_version": "1.5.0",
          "state": {
            "_dom_classes": [],
            "_model_module": "@jupyter-widgets/controls",
            "_model_module_version": "1.5.0",
            "_model_name": "FloatProgressModel",
            "_view_count": null,
            "_view_module": "@jupyter-widgets/controls",
            "_view_module_version": "1.5.0",
            "_view_name": "ProgressView",
            "bar_style": "success",
            "description": "",
            "description_tooltip": null,
            "layout": "IPY_MODEL_268fdb4311984aefaacf246590e09a63",
            "max": 1802,
            "min": 0,
            "orientation": "horizontal",
            "style": "IPY_MODEL_e60324eddd4e4792a9dd768270b8c6f0",
            "value": 1802
          }
        },
        "9ea195c9b7894f87a38c5911f789d3ff": {
          "model_module": "@jupyter-widgets/controls",
          "model_name": "HTMLModel",
          "model_module_version": "1.5.0",
          "state": {
            "_dom_classes": [],
            "_model_module": "@jupyter-widgets/controls",
            "_model_module_version": "1.5.0",
            "_model_name": "HTMLModel",
            "_view_count": null,
            "_view_module": "@jupyter-widgets/controls",
            "_view_module_version": "1.5.0",
            "_view_name": "HTMLView",
            "description": "",
            "description_tooltip": null,
            "layout": "IPY_MODEL_119be92b8e624862834ff51db57e294e",
            "placeholder": "​",
            "style": "IPY_MODEL_c62ddb6d29a44ad39136e50cdf5ab3ad",
            "value": " 1.80k/1.80k [00:00&lt;00:00, 101kB/s]"
          }
        },
        "ce70b8119bcb43e9a9c3f3be9ea608bd": {
          "model_module": "@jupyter-widgets/base",
          "model_name": "LayoutModel",
          "model_module_version": "1.2.0",
          "state": {
            "_model_module": "@jupyter-widgets/base",
            "_model_module_version": "1.2.0",
            "_model_name": "LayoutModel",
            "_view_count": null,
            "_view_module": "@jupyter-widgets/base",
            "_view_module_version": "1.2.0",
            "_view_name": "LayoutView",
            "align_content": null,
            "align_items": null,
            "align_self": null,
            "border": null,
            "bottom": null,
            "display": null,
            "flex": null,
            "flex_flow": null,
            "grid_area": null,
            "grid_auto_columns": null,
            "grid_auto_flow": null,
            "grid_auto_rows": null,
            "grid_column": null,
            "grid_gap": null,
            "grid_row": null,
            "grid_template_areas": null,
            "grid_template_columns": null,
            "grid_template_rows": null,
            "height": null,
            "justify_content": null,
            "justify_items": null,
            "left": null,
            "margin": null,
            "max_height": null,
            "max_width": null,
            "min_height": null,
            "min_width": null,
            "object_fit": null,
            "object_position": null,
            "order": null,
            "overflow": null,
            "overflow_x": null,
            "overflow_y": null,
            "padding": null,
            "right": null,
            "top": null,
            "visibility": null,
            "width": null
          }
        },
        "76084ef43015440282c1b5eba45255e1": {
          "model_module": "@jupyter-widgets/base",
          "model_name": "LayoutModel",
          "model_module_version": "1.2.0",
          "state": {
            "_model_module": "@jupyter-widgets/base",
            "_model_module_version": "1.2.0",
            "_model_name": "LayoutModel",
            "_view_count": null,
            "_view_module": "@jupyter-widgets/base",
            "_view_module_version": "1.2.0",
            "_view_name": "LayoutView",
            "align_content": null,
            "align_items": null,
            "align_self": null,
            "border": null,
            "bottom": null,
            "display": null,
            "flex": null,
            "flex_flow": null,
            "grid_area": null,
            "grid_auto_columns": null,
            "grid_auto_flow": null,
            "grid_auto_rows": null,
            "grid_column": null,
            "grid_gap": null,
            "grid_row": null,
            "grid_template_areas": null,
            "grid_template_columns": null,
            "grid_template_rows": null,
            "height": null,
            "justify_content": null,
            "justify_items": null,
            "left": null,
            "margin": null,
            "max_height": null,
            "max_width": null,
            "min_height": null,
            "min_width": null,
            "object_fit": null,
            "object_position": null,
            "order": null,
            "overflow": null,
            "overflow_x": null,
            "overflow_y": null,
            "padding": null,
            "right": null,
            "top": null,
            "visibility": null,
            "width": null
          }
        },
        "bbf167a683514b97a1f15f9224dbfa05": {
          "model_module": "@jupyter-widgets/controls",
          "model_name": "DescriptionStyleModel",
          "model_module_version": "1.5.0",
          "state": {
            "_model_module": "@jupyter-widgets/controls",
            "_model_module_version": "1.5.0",
            "_model_name": "DescriptionStyleModel",
            "_view_count": null,
            "_view_module": "@jupyter-widgets/base",
            "_view_module_version": "1.2.0",
            "_view_name": "StyleView",
            "description_width": ""
          }
        },
        "268fdb4311984aefaacf246590e09a63": {
          "model_module": "@jupyter-widgets/base",
          "model_name": "LayoutModel",
          "model_module_version": "1.2.0",
          "state": {
            "_model_module": "@jupyter-widgets/base",
            "_model_module_version": "1.2.0",
            "_model_name": "LayoutModel",
            "_view_count": null,
            "_view_module": "@jupyter-widgets/base",
            "_view_module_version": "1.2.0",
            "_view_name": "LayoutView",
            "align_content": null,
            "align_items": null,
            "align_self": null,
            "border": null,
            "bottom": null,
            "display": null,
            "flex": null,
            "flex_flow": null,
            "grid_area": null,
            "grid_auto_columns": null,
            "grid_auto_flow": null,
            "grid_auto_rows": null,
            "grid_column": null,
            "grid_gap": null,
            "grid_row": null,
            "grid_template_areas": null,
            "grid_template_columns": null,
            "grid_template_rows": null,
            "height": null,
            "justify_content": null,
            "justify_items": null,
            "left": null,
            "margin": null,
            "max_height": null,
            "max_width": null,
            "min_height": null,
            "min_width": null,
            "object_fit": null,
            "object_position": null,
            "order": null,
            "overflow": null,
            "overflow_x": null,
            "overflow_y": null,
            "padding": null,
            "right": null,
            "top": null,
            "visibility": null,
            "width": null
          }
        },
        "e60324eddd4e4792a9dd768270b8c6f0": {
          "model_module": "@jupyter-widgets/controls",
          "model_name": "ProgressStyleModel",
          "model_module_version": "1.5.0",
          "state": {
            "_model_module": "@jupyter-widgets/controls",
            "_model_module_version": "1.5.0",
            "_model_name": "ProgressStyleModel",
            "_view_count": null,
            "_view_module": "@jupyter-widgets/base",
            "_view_module_version": "1.2.0",
            "_view_name": "StyleView",
            "bar_color": null,
            "description_width": ""
          }
        },
        "119be92b8e624862834ff51db57e294e": {
          "model_module": "@jupyter-widgets/base",
          "model_name": "LayoutModel",
          "model_module_version": "1.2.0",
          "state": {
            "_model_module": "@jupyter-widgets/base",
            "_model_module_version": "1.2.0",
            "_model_name": "LayoutModel",
            "_view_count": null,
            "_view_module": "@jupyter-widgets/base",
            "_view_module_version": "1.2.0",
            "_view_name": "LayoutView",
            "align_content": null,
            "align_items": null,
            "align_self": null,
            "border": null,
            "bottom": null,
            "display": null,
            "flex": null,
            "flex_flow": null,
            "grid_area": null,
            "grid_auto_columns": null,
            "grid_auto_flow": null,
            "grid_auto_rows": null,
            "grid_column": null,
            "grid_gap": null,
            "grid_row": null,
            "grid_template_areas": null,
            "grid_template_columns": null,
            "grid_template_rows": null,
            "height": null,
            "justify_content": null,
            "justify_items": null,
            "left": null,
            "margin": null,
            "max_height": null,
            "max_width": null,
            "min_height": null,
            "min_width": null,
            "object_fit": null,
            "object_position": null,
            "order": null,
            "overflow": null,
            "overflow_x": null,
            "overflow_y": null,
            "padding": null,
            "right": null,
            "top": null,
            "visibility": null,
            "width": null
          }
        },
        "c62ddb6d29a44ad39136e50cdf5ab3ad": {
          "model_module": "@jupyter-widgets/controls",
          "model_name": "DescriptionStyleModel",
          "model_module_version": "1.5.0",
          "state": {
            "_model_module": "@jupyter-widgets/controls",
            "_model_module_version": "1.5.0",
            "_model_name": "DescriptionStyleModel",
            "_view_count": null,
            "_view_module": "@jupyter-widgets/base",
            "_view_module_version": "1.2.0",
            "_view_name": "StyleView",
            "description_width": ""
          }
        },
        "80b1e8c580f04d75846ee35a7d1cef79": {
          "model_module": "@jupyter-widgets/controls",
          "model_name": "HBoxModel",
          "model_module_version": "1.5.0",
          "state": {
            "_dom_classes": [],
            "_model_module": "@jupyter-widgets/controls",
            "_model_module_version": "1.5.0",
            "_model_name": "HBoxModel",
            "_view_count": null,
            "_view_module": "@jupyter-widgets/controls",
            "_view_module_version": "1.5.0",
            "_view_name": "HBoxView",
            "box_style": "",
            "children": [
              "IPY_MODEL_c84f72414cf84f8d9e8c895b262bfad0",
              "IPY_MODEL_95a78ddd64ce405cafe4608036d175df",
              "IPY_MODEL_7b7ffd7b74f64fff93c496c7752d4a21"
            ],
            "layout": "IPY_MODEL_671e12e063034582a8e73f128c53d9cf"
          }
        },
        "c84f72414cf84f8d9e8c895b262bfad0": {
          "model_module": "@jupyter-widgets/controls",
          "model_name": "HTMLModel",
          "model_module_version": "1.5.0",
          "state": {
            "_dom_classes": [],
            "_model_module": "@jupyter-widgets/controls",
            "_model_module_version": "1.5.0",
            "_model_name": "HTMLModel",
            "_view_count": null,
            "_view_module": "@jupyter-widgets/controls",
            "_view_module_version": "1.5.0",
            "_view_name": "HTMLView",
            "description": "",
            "description_tooltip": null,
            "layout": "IPY_MODEL_1394556ab00c43cc98334de18cb7c820",
            "placeholder": "​",
            "style": "IPY_MODEL_1daa8f9a8a18470b9e8f467f85cac638",
            "value": "pytorch_model.bin: 100%"
          }
        },
        "95a78ddd64ce405cafe4608036d175df": {
          "model_module": "@jupyter-widgets/controls",
          "model_name": "FloatProgressModel",
          "model_module_version": "1.5.0",
          "state": {
            "_dom_classes": [],
            "_model_module": "@jupyter-widgets/controls",
            "_model_module_version": "1.5.0",
            "_model_name": "FloatProgressModel",
            "_view_count": null,
            "_view_module": "@jupyter-widgets/controls",
            "_view_module_version": "1.5.0",
            "_view_name": "ProgressView",
            "bar_style": "success",
            "description": "",
            "description_tooltip": null,
            "layout": "IPY_MODEL_50124e762ef644079c6d4533b1e803a7",
            "max": 1222317369,
            "min": 0,
            "orientation": "horizontal",
            "style": "IPY_MODEL_65dd5c43623b47ad9eeb4535ed545ea1",
            "value": 1222317369
          }
        },
        "7b7ffd7b74f64fff93c496c7752d4a21": {
          "model_module": "@jupyter-widgets/controls",
          "model_name": "HTMLModel",
          "model_module_version": "1.5.0",
          "state": {
            "_dom_classes": [],
            "_model_module": "@jupyter-widgets/controls",
            "_model_module_version": "1.5.0",
            "_model_name": "HTMLModel",
            "_view_count": null,
            "_view_module": "@jupyter-widgets/controls",
            "_view_module_version": "1.5.0",
            "_view_name": "HTMLView",
            "description": "",
            "description_tooltip": null,
            "layout": "IPY_MODEL_b33ad5756dcc4068a8464b2c56745999",
            "placeholder": "​",
            "style": "IPY_MODEL_bbdbe88f1a1346c6a3aa5481beb89159",
            "value": " 1.22G/1.22G [00:10&lt;00:00, 95.7MB/s]"
          }
        },
        "671e12e063034582a8e73f128c53d9cf": {
          "model_module": "@jupyter-widgets/base",
          "model_name": "LayoutModel",
          "model_module_version": "1.2.0",
          "state": {
            "_model_module": "@jupyter-widgets/base",
            "_model_module_version": "1.2.0",
            "_model_name": "LayoutModel",
            "_view_count": null,
            "_view_module": "@jupyter-widgets/base",
            "_view_module_version": "1.2.0",
            "_view_name": "LayoutView",
            "align_content": null,
            "align_items": null,
            "align_self": null,
            "border": null,
            "bottom": null,
            "display": null,
            "flex": null,
            "flex_flow": null,
            "grid_area": null,
            "grid_auto_columns": null,
            "grid_auto_flow": null,
            "grid_auto_rows": null,
            "grid_column": null,
            "grid_gap": null,
            "grid_row": null,
            "grid_template_areas": null,
            "grid_template_columns": null,
            "grid_template_rows": null,
            "height": null,
            "justify_content": null,
            "justify_items": null,
            "left": null,
            "margin": null,
            "max_height": null,
            "max_width": null,
            "min_height": null,
            "min_width": null,
            "object_fit": null,
            "object_position": null,
            "order": null,
            "overflow": null,
            "overflow_x": null,
            "overflow_y": null,
            "padding": null,
            "right": null,
            "top": null,
            "visibility": null,
            "width": null
          }
        },
        "1394556ab00c43cc98334de18cb7c820": {
          "model_module": "@jupyter-widgets/base",
          "model_name": "LayoutModel",
          "model_module_version": "1.2.0",
          "state": {
            "_model_module": "@jupyter-widgets/base",
            "_model_module_version": "1.2.0",
            "_model_name": "LayoutModel",
            "_view_count": null,
            "_view_module": "@jupyter-widgets/base",
            "_view_module_version": "1.2.0",
            "_view_name": "LayoutView",
            "align_content": null,
            "align_items": null,
            "align_self": null,
            "border": null,
            "bottom": null,
            "display": null,
            "flex": null,
            "flex_flow": null,
            "grid_area": null,
            "grid_auto_columns": null,
            "grid_auto_flow": null,
            "grid_auto_rows": null,
            "grid_column": null,
            "grid_gap": null,
            "grid_row": null,
            "grid_template_areas": null,
            "grid_template_columns": null,
            "grid_template_rows": null,
            "height": null,
            "justify_content": null,
            "justify_items": null,
            "left": null,
            "margin": null,
            "max_height": null,
            "max_width": null,
            "min_height": null,
            "min_width": null,
            "object_fit": null,
            "object_position": null,
            "order": null,
            "overflow": null,
            "overflow_x": null,
            "overflow_y": null,
            "padding": null,
            "right": null,
            "top": null,
            "visibility": null,
            "width": null
          }
        },
        "1daa8f9a8a18470b9e8f467f85cac638": {
          "model_module": "@jupyter-widgets/controls",
          "model_name": "DescriptionStyleModel",
          "model_module_version": "1.5.0",
          "state": {
            "_model_module": "@jupyter-widgets/controls",
            "_model_module_version": "1.5.0",
            "_model_name": "DescriptionStyleModel",
            "_view_count": null,
            "_view_module": "@jupyter-widgets/base",
            "_view_module_version": "1.2.0",
            "_view_name": "StyleView",
            "description_width": ""
          }
        },
        "50124e762ef644079c6d4533b1e803a7": {
          "model_module": "@jupyter-widgets/base",
          "model_name": "LayoutModel",
          "model_module_version": "1.2.0",
          "state": {
            "_model_module": "@jupyter-widgets/base",
            "_model_module_version": "1.2.0",
            "_model_name": "LayoutModel",
            "_view_count": null,
            "_view_module": "@jupyter-widgets/base",
            "_view_module_version": "1.2.0",
            "_view_name": "LayoutView",
            "align_content": null,
            "align_items": null,
            "align_self": null,
            "border": null,
            "bottom": null,
            "display": null,
            "flex": null,
            "flex_flow": null,
            "grid_area": null,
            "grid_auto_columns": null,
            "grid_auto_flow": null,
            "grid_auto_rows": null,
            "grid_column": null,
            "grid_gap": null,
            "grid_row": null,
            "grid_template_areas": null,
            "grid_template_columns": null,
            "grid_template_rows": null,
            "height": null,
            "justify_content": null,
            "justify_items": null,
            "left": null,
            "margin": null,
            "max_height": null,
            "max_width": null,
            "min_height": null,
            "min_width": null,
            "object_fit": null,
            "object_position": null,
            "order": null,
            "overflow": null,
            "overflow_x": null,
            "overflow_y": null,
            "padding": null,
            "right": null,
            "top": null,
            "visibility": null,
            "width": null
          }
        },
        "65dd5c43623b47ad9eeb4535ed545ea1": {
          "model_module": "@jupyter-widgets/controls",
          "model_name": "ProgressStyleModel",
          "model_module_version": "1.5.0",
          "state": {
            "_model_module": "@jupyter-widgets/controls",
            "_model_module_version": "1.5.0",
            "_model_name": "ProgressStyleModel",
            "_view_count": null,
            "_view_module": "@jupyter-widgets/base",
            "_view_module_version": "1.2.0",
            "_view_name": "StyleView",
            "bar_color": null,
            "description_width": ""
          }
        },
        "b33ad5756dcc4068a8464b2c56745999": {
          "model_module": "@jupyter-widgets/base",
          "model_name": "LayoutModel",
          "model_module_version": "1.2.0",
          "state": {
            "_model_module": "@jupyter-widgets/base",
            "_model_module_version": "1.2.0",
            "_model_name": "LayoutModel",
            "_view_count": null,
            "_view_module": "@jupyter-widgets/base",
            "_view_module_version": "1.2.0",
            "_view_name": "LayoutView",
            "align_content": null,
            "align_items": null,
            "align_self": null,
            "border": null,
            "bottom": null,
            "display": null,
            "flex": null,
            "flex_flow": null,
            "grid_area": null,
            "grid_auto_columns": null,
            "grid_auto_flow": null,
            "grid_auto_rows": null,
            "grid_column": null,
            "grid_gap": null,
            "grid_row": null,
            "grid_template_areas": null,
            "grid_template_columns": null,
            "grid_template_rows": null,
            "height": null,
            "justify_content": null,
            "justify_items": null,
            "left": null,
            "margin": null,
            "max_height": null,
            "max_width": null,
            "min_height": null,
            "min_width": null,
            "object_fit": null,
            "object_position": null,
            "order": null,
            "overflow": null,
            "overflow_x": null,
            "overflow_y": null,
            "padding": null,
            "right": null,
            "top": null,
            "visibility": null,
            "width": null
          }
        },
        "bbdbe88f1a1346c6a3aa5481beb89159": {
          "model_module": "@jupyter-widgets/controls",
          "model_name": "DescriptionStyleModel",
          "model_module_version": "1.5.0",
          "state": {
            "_model_module": "@jupyter-widgets/controls",
            "_model_module_version": "1.5.0",
            "_model_name": "DescriptionStyleModel",
            "_view_count": null,
            "_view_module": "@jupyter-widgets/base",
            "_view_module_version": "1.2.0",
            "_view_name": "StyleView",
            "description_width": ""
          }
        },
        "7b7dd4c8ea914345980fab3b97829be2": {
          "model_module": "@jupyter-widgets/controls",
          "model_name": "HBoxModel",
          "model_module_version": "1.5.0",
          "state": {
            "_dom_classes": [],
            "_model_module": "@jupyter-widgets/controls",
            "_model_module_version": "1.5.0",
            "_model_name": "HBoxModel",
            "_view_count": null,
            "_view_module": "@jupyter-widgets/controls",
            "_view_module_version": "1.5.0",
            "_view_name": "HBoxView",
            "box_style": "",
            "children": [
              "IPY_MODEL_80f3600ef247466e8afa4877a32bd736",
              "IPY_MODEL_d5373d38db504d9abe60bce71f59c592",
              "IPY_MODEL_16b7cd23dc004c5584554388b58fc177"
            ],
            "layout": "IPY_MODEL_c66b64619f6644108b733b515a439424"
          }
        },
        "80f3600ef247466e8afa4877a32bd736": {
          "model_module": "@jupyter-widgets/controls",
          "model_name": "HTMLModel",
          "model_module_version": "1.5.0",
          "state": {
            "_dom_classes": [],
            "_model_module": "@jupyter-widgets/controls",
            "_model_module_version": "1.5.0",
            "_model_name": "HTMLModel",
            "_view_count": null,
            "_view_module": "@jupyter-widgets/controls",
            "_view_module_version": "1.5.0",
            "_view_name": "HTMLView",
            "description": "",
            "description_tooltip": null,
            "layout": "IPY_MODEL_5474c6ffe75d447da498b3aaa235e34f",
            "placeholder": "​",
            "style": "IPY_MODEL_e798d57353b54c23a22507ecb400785c",
            "value": "tokenizer_config.json: 100%"
          }
        },
        "d5373d38db504d9abe60bce71f59c592": {
          "model_module": "@jupyter-widgets/controls",
          "model_name": "FloatProgressModel",
          "model_module_version": "1.5.0",
          "state": {
            "_dom_classes": [],
            "_model_module": "@jupyter-widgets/controls",
            "_model_module_version": "1.5.0",
            "_model_name": "FloatProgressModel",
            "_view_count": null,
            "_view_module": "@jupyter-widgets/controls",
            "_view_module_version": "1.5.0",
            "_view_name": "ProgressView",
            "bar_style": "success",
            "description": "",
            "description_tooltip": null,
            "layout": "IPY_MODEL_eef96568eaf9471885d5641bdd2876ab",
            "max": 26,
            "min": 0,
            "orientation": "horizontal",
            "style": "IPY_MODEL_fda72b6951ae4cbf9e58724cf05ae5a8",
            "value": 26
          }
        },
        "16b7cd23dc004c5584554388b58fc177": {
          "model_module": "@jupyter-widgets/controls",
          "model_name": "HTMLModel",
          "model_module_version": "1.5.0",
          "state": {
            "_dom_classes": [],
            "_model_module": "@jupyter-widgets/controls",
            "_model_module_version": "1.5.0",
            "_model_name": "HTMLModel",
            "_view_count": null,
            "_view_module": "@jupyter-widgets/controls",
            "_view_module_version": "1.5.0",
            "_view_name": "HTMLView",
            "description": "",
            "description_tooltip": null,
            "layout": "IPY_MODEL_ee2a7816a3944e5ab037c06bf9c02197",
            "placeholder": "​",
            "style": "IPY_MODEL_b583b65b53274e79ab83d54939a7bdaa",
            "value": " 26.0/26.0 [00:00&lt;00:00, 601B/s]"
          }
        },
        "c66b64619f6644108b733b515a439424": {
          "model_module": "@jupyter-widgets/base",
          "model_name": "LayoutModel",
          "model_module_version": "1.2.0",
          "state": {
            "_model_module": "@jupyter-widgets/base",
            "_model_module_version": "1.2.0",
            "_model_name": "LayoutModel",
            "_view_count": null,
            "_view_module": "@jupyter-widgets/base",
            "_view_module_version": "1.2.0",
            "_view_name": "LayoutView",
            "align_content": null,
            "align_items": null,
            "align_self": null,
            "border": null,
            "bottom": null,
            "display": null,
            "flex": null,
            "flex_flow": null,
            "grid_area": null,
            "grid_auto_columns": null,
            "grid_auto_flow": null,
            "grid_auto_rows": null,
            "grid_column": null,
            "grid_gap": null,
            "grid_row": null,
            "grid_template_areas": null,
            "grid_template_columns": null,
            "grid_template_rows": null,
            "height": null,
            "justify_content": null,
            "justify_items": null,
            "left": null,
            "margin": null,
            "max_height": null,
            "max_width": null,
            "min_height": null,
            "min_width": null,
            "object_fit": null,
            "object_position": null,
            "order": null,
            "overflow": null,
            "overflow_x": null,
            "overflow_y": null,
            "padding": null,
            "right": null,
            "top": null,
            "visibility": null,
            "width": null
          }
        },
        "5474c6ffe75d447da498b3aaa235e34f": {
          "model_module": "@jupyter-widgets/base",
          "model_name": "LayoutModel",
          "model_module_version": "1.2.0",
          "state": {
            "_model_module": "@jupyter-widgets/base",
            "_model_module_version": "1.2.0",
            "_model_name": "LayoutModel",
            "_view_count": null,
            "_view_module": "@jupyter-widgets/base",
            "_view_module_version": "1.2.0",
            "_view_name": "LayoutView",
            "align_content": null,
            "align_items": null,
            "align_self": null,
            "border": null,
            "bottom": null,
            "display": null,
            "flex": null,
            "flex_flow": null,
            "grid_area": null,
            "grid_auto_columns": null,
            "grid_auto_flow": null,
            "grid_auto_rows": null,
            "grid_column": null,
            "grid_gap": null,
            "grid_row": null,
            "grid_template_areas": null,
            "grid_template_columns": null,
            "grid_template_rows": null,
            "height": null,
            "justify_content": null,
            "justify_items": null,
            "left": null,
            "margin": null,
            "max_height": null,
            "max_width": null,
            "min_height": null,
            "min_width": null,
            "object_fit": null,
            "object_position": null,
            "order": null,
            "overflow": null,
            "overflow_x": null,
            "overflow_y": null,
            "padding": null,
            "right": null,
            "top": null,
            "visibility": null,
            "width": null
          }
        },
        "e798d57353b54c23a22507ecb400785c": {
          "model_module": "@jupyter-widgets/controls",
          "model_name": "DescriptionStyleModel",
          "model_module_version": "1.5.0",
          "state": {
            "_model_module": "@jupyter-widgets/controls",
            "_model_module_version": "1.5.0",
            "_model_name": "DescriptionStyleModel",
            "_view_count": null,
            "_view_module": "@jupyter-widgets/base",
            "_view_module_version": "1.2.0",
            "_view_name": "StyleView",
            "description_width": ""
          }
        },
        "eef96568eaf9471885d5641bdd2876ab": {
          "model_module": "@jupyter-widgets/base",
          "model_name": "LayoutModel",
          "model_module_version": "1.2.0",
          "state": {
            "_model_module": "@jupyter-widgets/base",
            "_model_module_version": "1.2.0",
            "_model_name": "LayoutModel",
            "_view_count": null,
            "_view_module": "@jupyter-widgets/base",
            "_view_module_version": "1.2.0",
            "_view_name": "LayoutView",
            "align_content": null,
            "align_items": null,
            "align_self": null,
            "border": null,
            "bottom": null,
            "display": null,
            "flex": null,
            "flex_flow": null,
            "grid_area": null,
            "grid_auto_columns": null,
            "grid_auto_flow": null,
            "grid_auto_rows": null,
            "grid_column": null,
            "grid_gap": null,
            "grid_row": null,
            "grid_template_areas": null,
            "grid_template_columns": null,
            "grid_template_rows": null,
            "height": null,
            "justify_content": null,
            "justify_items": null,
            "left": null,
            "margin": null,
            "max_height": null,
            "max_width": null,
            "min_height": null,
            "min_width": null,
            "object_fit": null,
            "object_position": null,
            "order": null,
            "overflow": null,
            "overflow_x": null,
            "overflow_y": null,
            "padding": null,
            "right": null,
            "top": null,
            "visibility": null,
            "width": null
          }
        },
        "fda72b6951ae4cbf9e58724cf05ae5a8": {
          "model_module": "@jupyter-widgets/controls",
          "model_name": "ProgressStyleModel",
          "model_module_version": "1.5.0",
          "state": {
            "_model_module": "@jupyter-widgets/controls",
            "_model_module_version": "1.5.0",
            "_model_name": "ProgressStyleModel",
            "_view_count": null,
            "_view_module": "@jupyter-widgets/base",
            "_view_module_version": "1.2.0",
            "_view_name": "StyleView",
            "bar_color": null,
            "description_width": ""
          }
        },
        "ee2a7816a3944e5ab037c06bf9c02197": {
          "model_module": "@jupyter-widgets/base",
          "model_name": "LayoutModel",
          "model_module_version": "1.2.0",
          "state": {
            "_model_module": "@jupyter-widgets/base",
            "_model_module_version": "1.2.0",
            "_model_name": "LayoutModel",
            "_view_count": null,
            "_view_module": "@jupyter-widgets/base",
            "_view_module_version": "1.2.0",
            "_view_name": "LayoutView",
            "align_content": null,
            "align_items": null,
            "align_self": null,
            "border": null,
            "bottom": null,
            "display": null,
            "flex": null,
            "flex_flow": null,
            "grid_area": null,
            "grid_auto_columns": null,
            "grid_auto_flow": null,
            "grid_auto_rows": null,
            "grid_column": null,
            "grid_gap": null,
            "grid_row": null,
            "grid_template_areas": null,
            "grid_template_columns": null,
            "grid_template_rows": null,
            "height": null,
            "justify_content": null,
            "justify_items": null,
            "left": null,
            "margin": null,
            "max_height": null,
            "max_width": null,
            "min_height": null,
            "min_width": null,
            "object_fit": null,
            "object_position": null,
            "order": null,
            "overflow": null,
            "overflow_x": null,
            "overflow_y": null,
            "padding": null,
            "right": null,
            "top": null,
            "visibility": null,
            "width": null
          }
        },
        "b583b65b53274e79ab83d54939a7bdaa": {
          "model_module": "@jupyter-widgets/controls",
          "model_name": "DescriptionStyleModel",
          "model_module_version": "1.5.0",
          "state": {
            "_model_module": "@jupyter-widgets/controls",
            "_model_module_version": "1.5.0",
            "_model_name": "DescriptionStyleModel",
            "_view_count": null,
            "_view_module": "@jupyter-widgets/base",
            "_view_module_version": "1.2.0",
            "_view_name": "StyleView",
            "description_width": ""
          }
        },
        "92efd950ccd047edb1fe9d804e4f99db": {
          "model_module": "@jupyter-widgets/controls",
          "model_name": "HBoxModel",
          "model_module_version": "1.5.0",
          "state": {
            "_dom_classes": [],
            "_model_module": "@jupyter-widgets/controls",
            "_model_module_version": "1.5.0",
            "_model_name": "HBoxModel",
            "_view_count": null,
            "_view_module": "@jupyter-widgets/controls",
            "_view_module_version": "1.5.0",
            "_view_name": "HBoxView",
            "box_style": "",
            "children": [
              "IPY_MODEL_49676bd6255c4492ac8b3273adf2123a",
              "IPY_MODEL_3b2e8157b44949ed9164ee5b866cb6b7",
              "IPY_MODEL_8dff5d2e54304db79ad28d036ad51dad"
            ],
            "layout": "IPY_MODEL_a602a40eb7a54a38946f9d47b935fe69"
          }
        },
        "49676bd6255c4492ac8b3273adf2123a": {
          "model_module": "@jupyter-widgets/controls",
          "model_name": "HTMLModel",
          "model_module_version": "1.5.0",
          "state": {
            "_dom_classes": [],
            "_model_module": "@jupyter-widgets/controls",
            "_model_module_version": "1.5.0",
            "_model_name": "HTMLModel",
            "_view_count": null,
            "_view_module": "@jupyter-widgets/controls",
            "_view_module_version": "1.5.0",
            "_view_name": "HTMLView",
            "description": "",
            "description_tooltip": null,
            "layout": "IPY_MODEL_4573985cceb144918f49513c6b992aae",
            "placeholder": "​",
            "style": "IPY_MODEL_3f650bdfe80e43359fe6cd21cda15178",
            "value": "vocab.json: 100%"
          }
        },
        "3b2e8157b44949ed9164ee5b866cb6b7": {
          "model_module": "@jupyter-widgets/controls",
          "model_name": "FloatProgressModel",
          "model_module_version": "1.5.0",
          "state": {
            "_dom_classes": [],
            "_model_module": "@jupyter-widgets/controls",
            "_model_module_version": "1.5.0",
            "_model_name": "FloatProgressModel",
            "_view_count": null,
            "_view_module": "@jupyter-widgets/controls",
            "_view_module_version": "1.5.0",
            "_view_name": "ProgressView",
            "bar_style": "success",
            "description": "",
            "description_tooltip": null,
            "layout": "IPY_MODEL_15135b9306b84d5fb0c0672f9a543db9",
            "max": 898822,
            "min": 0,
            "orientation": "horizontal",
            "style": "IPY_MODEL_ec43ab5ecf0a4ad2bc4139593442dc03",
            "value": 898822
          }
        },
        "8dff5d2e54304db79ad28d036ad51dad": {
          "model_module": "@jupyter-widgets/controls",
          "model_name": "HTMLModel",
          "model_module_version": "1.5.0",
          "state": {
            "_dom_classes": [],
            "_model_module": "@jupyter-widgets/controls",
            "_model_module_version": "1.5.0",
            "_model_name": "HTMLModel",
            "_view_count": null,
            "_view_module": "@jupyter-widgets/controls",
            "_view_module_version": "1.5.0",
            "_view_name": "HTMLView",
            "description": "",
            "description_tooltip": null,
            "layout": "IPY_MODEL_4be9a67ecd7b48c7b9fc697b66bdd03d",
            "placeholder": "​",
            "style": "IPY_MODEL_e56ca3de24a24f6c8ef648385a63c3f3",
            "value": " 899k/899k [00:00&lt;00:00, 3.55MB/s]"
          }
        },
        "a602a40eb7a54a38946f9d47b935fe69": {
          "model_module": "@jupyter-widgets/base",
          "model_name": "LayoutModel",
          "model_module_version": "1.2.0",
          "state": {
            "_model_module": "@jupyter-widgets/base",
            "_model_module_version": "1.2.0",
            "_model_name": "LayoutModel",
            "_view_count": null,
            "_view_module": "@jupyter-widgets/base",
            "_view_module_version": "1.2.0",
            "_view_name": "LayoutView",
            "align_content": null,
            "align_items": null,
            "align_self": null,
            "border": null,
            "bottom": null,
            "display": null,
            "flex": null,
            "flex_flow": null,
            "grid_area": null,
            "grid_auto_columns": null,
            "grid_auto_flow": null,
            "grid_auto_rows": null,
            "grid_column": null,
            "grid_gap": null,
            "grid_row": null,
            "grid_template_areas": null,
            "grid_template_columns": null,
            "grid_template_rows": null,
            "height": null,
            "justify_content": null,
            "justify_items": null,
            "left": null,
            "margin": null,
            "max_height": null,
            "max_width": null,
            "min_height": null,
            "min_width": null,
            "object_fit": null,
            "object_position": null,
            "order": null,
            "overflow": null,
            "overflow_x": null,
            "overflow_y": null,
            "padding": null,
            "right": null,
            "top": null,
            "visibility": null,
            "width": null
          }
        },
        "4573985cceb144918f49513c6b992aae": {
          "model_module": "@jupyter-widgets/base",
          "model_name": "LayoutModel",
          "model_module_version": "1.2.0",
          "state": {
            "_model_module": "@jupyter-widgets/base",
            "_model_module_version": "1.2.0",
            "_model_name": "LayoutModel",
            "_view_count": null,
            "_view_module": "@jupyter-widgets/base",
            "_view_module_version": "1.2.0",
            "_view_name": "LayoutView",
            "align_content": null,
            "align_items": null,
            "align_self": null,
            "border": null,
            "bottom": null,
            "display": null,
            "flex": null,
            "flex_flow": null,
            "grid_area": null,
            "grid_auto_columns": null,
            "grid_auto_flow": null,
            "grid_auto_rows": null,
            "grid_column": null,
            "grid_gap": null,
            "grid_row": null,
            "grid_template_areas": null,
            "grid_template_columns": null,
            "grid_template_rows": null,
            "height": null,
            "justify_content": null,
            "justify_items": null,
            "left": null,
            "margin": null,
            "max_height": null,
            "max_width": null,
            "min_height": null,
            "min_width": null,
            "object_fit": null,
            "object_position": null,
            "order": null,
            "overflow": null,
            "overflow_x": null,
            "overflow_y": null,
            "padding": null,
            "right": null,
            "top": null,
            "visibility": null,
            "width": null
          }
        },
        "3f650bdfe80e43359fe6cd21cda15178": {
          "model_module": "@jupyter-widgets/controls",
          "model_name": "DescriptionStyleModel",
          "model_module_version": "1.5.0",
          "state": {
            "_model_module": "@jupyter-widgets/controls",
            "_model_module_version": "1.5.0",
            "_model_name": "DescriptionStyleModel",
            "_view_count": null,
            "_view_module": "@jupyter-widgets/base",
            "_view_module_version": "1.2.0",
            "_view_name": "StyleView",
            "description_width": ""
          }
        },
        "15135b9306b84d5fb0c0672f9a543db9": {
          "model_module": "@jupyter-widgets/base",
          "model_name": "LayoutModel",
          "model_module_version": "1.2.0",
          "state": {
            "_model_module": "@jupyter-widgets/base",
            "_model_module_version": "1.2.0",
            "_model_name": "LayoutModel",
            "_view_count": null,
            "_view_module": "@jupyter-widgets/base",
            "_view_module_version": "1.2.0",
            "_view_name": "LayoutView",
            "align_content": null,
            "align_items": null,
            "align_self": null,
            "border": null,
            "bottom": null,
            "display": null,
            "flex": null,
            "flex_flow": null,
            "grid_area": null,
            "grid_auto_columns": null,
            "grid_auto_flow": null,
            "grid_auto_rows": null,
            "grid_column": null,
            "grid_gap": null,
            "grid_row": null,
            "grid_template_areas": null,
            "grid_template_columns": null,
            "grid_template_rows": null,
            "height": null,
            "justify_content": null,
            "justify_items": null,
            "left": null,
            "margin": null,
            "max_height": null,
            "max_width": null,
            "min_height": null,
            "min_width": null,
            "object_fit": null,
            "object_position": null,
            "order": null,
            "overflow": null,
            "overflow_x": null,
            "overflow_y": null,
            "padding": null,
            "right": null,
            "top": null,
            "visibility": null,
            "width": null
          }
        },
        "ec43ab5ecf0a4ad2bc4139593442dc03": {
          "model_module": "@jupyter-widgets/controls",
          "model_name": "ProgressStyleModel",
          "model_module_version": "1.5.0",
          "state": {
            "_model_module": "@jupyter-widgets/controls",
            "_model_module_version": "1.5.0",
            "_model_name": "ProgressStyleModel",
            "_view_count": null,
            "_view_module": "@jupyter-widgets/base",
            "_view_module_version": "1.2.0",
            "_view_name": "StyleView",
            "bar_color": null,
            "description_width": ""
          }
        },
        "4be9a67ecd7b48c7b9fc697b66bdd03d": {
          "model_module": "@jupyter-widgets/base",
          "model_name": "LayoutModel",
          "model_module_version": "1.2.0",
          "state": {
            "_model_module": "@jupyter-widgets/base",
            "_model_module_version": "1.2.0",
            "_model_name": "LayoutModel",
            "_view_count": null,
            "_view_module": "@jupyter-widgets/base",
            "_view_module_version": "1.2.0",
            "_view_name": "LayoutView",
            "align_content": null,
            "align_items": null,
            "align_self": null,
            "border": null,
            "bottom": null,
            "display": null,
            "flex": null,
            "flex_flow": null,
            "grid_area": null,
            "grid_auto_columns": null,
            "grid_auto_flow": null,
            "grid_auto_rows": null,
            "grid_column": null,
            "grid_gap": null,
            "grid_row": null,
            "grid_template_areas": null,
            "grid_template_columns": null,
            "grid_template_rows": null,
            "height": null,
            "justify_content": null,
            "justify_items": null,
            "left": null,
            "margin": null,
            "max_height": null,
            "max_width": null,
            "min_height": null,
            "min_width": null,
            "object_fit": null,
            "object_position": null,
            "order": null,
            "overflow": null,
            "overflow_x": null,
            "overflow_y": null,
            "padding": null,
            "right": null,
            "top": null,
            "visibility": null,
            "width": null
          }
        },
        "e56ca3de24a24f6c8ef648385a63c3f3": {
          "model_module": "@jupyter-widgets/controls",
          "model_name": "DescriptionStyleModel",
          "model_module_version": "1.5.0",
          "state": {
            "_model_module": "@jupyter-widgets/controls",
            "_model_module_version": "1.5.0",
            "_model_name": "DescriptionStyleModel",
            "_view_count": null,
            "_view_module": "@jupyter-widgets/base",
            "_view_module_version": "1.2.0",
            "_view_name": "StyleView",
            "description_width": ""
          }
        },
        "ec3296a21e3241f2aa99a8f116cf463a": {
          "model_module": "@jupyter-widgets/controls",
          "model_name": "HBoxModel",
          "model_module_version": "1.5.0",
          "state": {
            "_dom_classes": [],
            "_model_module": "@jupyter-widgets/controls",
            "_model_module_version": "1.5.0",
            "_model_name": "HBoxModel",
            "_view_count": null,
            "_view_module": "@jupyter-widgets/controls",
            "_view_module_version": "1.5.0",
            "_view_name": "HBoxView",
            "box_style": "",
            "children": [
              "IPY_MODEL_e83225134e72473489d7721b6509322c",
              "IPY_MODEL_324a18060e2f4a32b3190f5e72143f13",
              "IPY_MODEL_e2b60e1ce7ae4129b73c8751d821b77e"
            ],
            "layout": "IPY_MODEL_289b9e8543d247bf96973f531044e6ca"
          }
        },
        "e83225134e72473489d7721b6509322c": {
          "model_module": "@jupyter-widgets/controls",
          "model_name": "HTMLModel",
          "model_module_version": "1.5.0",
          "state": {
            "_dom_classes": [],
            "_model_module": "@jupyter-widgets/controls",
            "_model_module_version": "1.5.0",
            "_model_name": "HTMLModel",
            "_view_count": null,
            "_view_module": "@jupyter-widgets/controls",
            "_view_module_version": "1.5.0",
            "_view_name": "HTMLView",
            "description": "",
            "description_tooltip": null,
            "layout": "IPY_MODEL_4db4d11ced4c4c178439fd5a1580eb51",
            "placeholder": "​",
            "style": "IPY_MODEL_14f42fd71d9949fb9f00eee55765f726",
            "value": "merges.txt: 100%"
          }
        },
        "324a18060e2f4a32b3190f5e72143f13": {
          "model_module": "@jupyter-widgets/controls",
          "model_name": "FloatProgressModel",
          "model_module_version": "1.5.0",
          "state": {
            "_dom_classes": [],
            "_model_module": "@jupyter-widgets/controls",
            "_model_module_version": "1.5.0",
            "_model_name": "FloatProgressModel",
            "_view_count": null,
            "_view_module": "@jupyter-widgets/controls",
            "_view_module_version": "1.5.0",
            "_view_name": "ProgressView",
            "bar_style": "success",
            "description": "",
            "description_tooltip": null,
            "layout": "IPY_MODEL_d0c67f1e87c044d882490cefb0a04e93",
            "max": 456318,
            "min": 0,
            "orientation": "horizontal",
            "style": "IPY_MODEL_ad08ad8ecf6748fdbbc64be6e4fb702c",
            "value": 456318
          }
        },
        "e2b60e1ce7ae4129b73c8751d821b77e": {
          "model_module": "@jupyter-widgets/controls",
          "model_name": "HTMLModel",
          "model_module_version": "1.5.0",
          "state": {
            "_dom_classes": [],
            "_model_module": "@jupyter-widgets/controls",
            "_model_module_version": "1.5.0",
            "_model_name": "HTMLModel",
            "_view_count": null,
            "_view_module": "@jupyter-widgets/controls",
            "_view_module_version": "1.5.0",
            "_view_name": "HTMLView",
            "description": "",
            "description_tooltip": null,
            "layout": "IPY_MODEL_4557e6a64bb54b0b8371ea23821c7d49",
            "placeholder": "​",
            "style": "IPY_MODEL_6de731c36d774cd28c55dce7c94bb757",
            "value": " 456k/456k [00:00&lt;00:00, 5.28MB/s]"
          }
        },
        "289b9e8543d247bf96973f531044e6ca": {
          "model_module": "@jupyter-widgets/base",
          "model_name": "LayoutModel",
          "model_module_version": "1.2.0",
          "state": {
            "_model_module": "@jupyter-widgets/base",
            "_model_module_version": "1.2.0",
            "_model_name": "LayoutModel",
            "_view_count": null,
            "_view_module": "@jupyter-widgets/base",
            "_view_module_version": "1.2.0",
            "_view_name": "LayoutView",
            "align_content": null,
            "align_items": null,
            "align_self": null,
            "border": null,
            "bottom": null,
            "display": null,
            "flex": null,
            "flex_flow": null,
            "grid_area": null,
            "grid_auto_columns": null,
            "grid_auto_flow": null,
            "grid_auto_rows": null,
            "grid_column": null,
            "grid_gap": null,
            "grid_row": null,
            "grid_template_areas": null,
            "grid_template_columns": null,
            "grid_template_rows": null,
            "height": null,
            "justify_content": null,
            "justify_items": null,
            "left": null,
            "margin": null,
            "max_height": null,
            "max_width": null,
            "min_height": null,
            "min_width": null,
            "object_fit": null,
            "object_position": null,
            "order": null,
            "overflow": null,
            "overflow_x": null,
            "overflow_y": null,
            "padding": null,
            "right": null,
            "top": null,
            "visibility": null,
            "width": null
          }
        },
        "4db4d11ced4c4c178439fd5a1580eb51": {
          "model_module": "@jupyter-widgets/base",
          "model_name": "LayoutModel",
          "model_module_version": "1.2.0",
          "state": {
            "_model_module": "@jupyter-widgets/base",
            "_model_module_version": "1.2.0",
            "_model_name": "LayoutModel",
            "_view_count": null,
            "_view_module": "@jupyter-widgets/base",
            "_view_module_version": "1.2.0",
            "_view_name": "LayoutView",
            "align_content": null,
            "align_items": null,
            "align_self": null,
            "border": null,
            "bottom": null,
            "display": null,
            "flex": null,
            "flex_flow": null,
            "grid_area": null,
            "grid_auto_columns": null,
            "grid_auto_flow": null,
            "grid_auto_rows": null,
            "grid_column": null,
            "grid_gap": null,
            "grid_row": null,
            "grid_template_areas": null,
            "grid_template_columns": null,
            "grid_template_rows": null,
            "height": null,
            "justify_content": null,
            "justify_items": null,
            "left": null,
            "margin": null,
            "max_height": null,
            "max_width": null,
            "min_height": null,
            "min_width": null,
            "object_fit": null,
            "object_position": null,
            "order": null,
            "overflow": null,
            "overflow_x": null,
            "overflow_y": null,
            "padding": null,
            "right": null,
            "top": null,
            "visibility": null,
            "width": null
          }
        },
        "14f42fd71d9949fb9f00eee55765f726": {
          "model_module": "@jupyter-widgets/controls",
          "model_name": "DescriptionStyleModel",
          "model_module_version": "1.5.0",
          "state": {
            "_model_module": "@jupyter-widgets/controls",
            "_model_module_version": "1.5.0",
            "_model_name": "DescriptionStyleModel",
            "_view_count": null,
            "_view_module": "@jupyter-widgets/base",
            "_view_module_version": "1.2.0",
            "_view_name": "StyleView",
            "description_width": ""
          }
        },
        "d0c67f1e87c044d882490cefb0a04e93": {
          "model_module": "@jupyter-widgets/base",
          "model_name": "LayoutModel",
          "model_module_version": "1.2.0",
          "state": {
            "_model_module": "@jupyter-widgets/base",
            "_model_module_version": "1.2.0",
            "_model_name": "LayoutModel",
            "_view_count": null,
            "_view_module": "@jupyter-widgets/base",
            "_view_module_version": "1.2.0",
            "_view_name": "LayoutView",
            "align_content": null,
            "align_items": null,
            "align_self": null,
            "border": null,
            "bottom": null,
            "display": null,
            "flex": null,
            "flex_flow": null,
            "grid_area": null,
            "grid_auto_columns": null,
            "grid_auto_flow": null,
            "grid_auto_rows": null,
            "grid_column": null,
            "grid_gap": null,
            "grid_row": null,
            "grid_template_areas": null,
            "grid_template_columns": null,
            "grid_template_rows": null,
            "height": null,
            "justify_content": null,
            "justify_items": null,
            "left": null,
            "margin": null,
            "max_height": null,
            "max_width": null,
            "min_height": null,
            "min_width": null,
            "object_fit": null,
            "object_position": null,
            "order": null,
            "overflow": null,
            "overflow_x": null,
            "overflow_y": null,
            "padding": null,
            "right": null,
            "top": null,
            "visibility": null,
            "width": null
          }
        },
        "ad08ad8ecf6748fdbbc64be6e4fb702c": {
          "model_module": "@jupyter-widgets/controls",
          "model_name": "ProgressStyleModel",
          "model_module_version": "1.5.0",
          "state": {
            "_model_module": "@jupyter-widgets/controls",
            "_model_module_version": "1.5.0",
            "_model_name": "ProgressStyleModel",
            "_view_count": null,
            "_view_module": "@jupyter-widgets/base",
            "_view_module_version": "1.2.0",
            "_view_name": "StyleView",
            "bar_color": null,
            "description_width": ""
          }
        },
        "4557e6a64bb54b0b8371ea23821c7d49": {
          "model_module": "@jupyter-widgets/base",
          "model_name": "LayoutModel",
          "model_module_version": "1.2.0",
          "state": {
            "_model_module": "@jupyter-widgets/base",
            "_model_module_version": "1.2.0",
            "_model_name": "LayoutModel",
            "_view_count": null,
            "_view_module": "@jupyter-widgets/base",
            "_view_module_version": "1.2.0",
            "_view_name": "LayoutView",
            "align_content": null,
            "align_items": null,
            "align_self": null,
            "border": null,
            "bottom": null,
            "display": null,
            "flex": null,
            "flex_flow": null,
            "grid_area": null,
            "grid_auto_columns": null,
            "grid_auto_flow": null,
            "grid_auto_rows": null,
            "grid_column": null,
            "grid_gap": null,
            "grid_row": null,
            "grid_template_areas": null,
            "grid_template_columns": null,
            "grid_template_rows": null,
            "height": null,
            "justify_content": null,
            "justify_items": null,
            "left": null,
            "margin": null,
            "max_height": null,
            "max_width": null,
            "min_height": null,
            "min_width": null,
            "object_fit": null,
            "object_position": null,
            "order": null,
            "overflow": null,
            "overflow_x": null,
            "overflow_y": null,
            "padding": null,
            "right": null,
            "top": null,
            "visibility": null,
            "width": null
          }
        },
        "6de731c36d774cd28c55dce7c94bb757": {
          "model_module": "@jupyter-widgets/controls",
          "model_name": "DescriptionStyleModel",
          "model_module_version": "1.5.0",
          "state": {
            "_model_module": "@jupyter-widgets/controls",
            "_model_module_version": "1.5.0",
            "_model_name": "DescriptionStyleModel",
            "_view_count": null,
            "_view_module": "@jupyter-widgets/base",
            "_view_module_version": "1.2.0",
            "_view_name": "StyleView",
            "description_width": ""
          }
        }
      }
    }
  },
  "nbformat": 4,
  "nbformat_minor": 0
}